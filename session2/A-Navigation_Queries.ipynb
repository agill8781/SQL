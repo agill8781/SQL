{
 "cells": [
  {
   "cell_type": "markdown",
   "metadata": {
    "id": "QBeMTyL26ULI"
   },
   "source": [
    "# SQL Queries: Navigating a database"
   ]
  },
  {
   "cell_type": "markdown",
   "metadata": {
    "id": "w8oa_JjV7F_h"
   },
   "source": [
    "## Setup"
   ]
  },
  {
   "cell_type": "markdown",
   "metadata": {
    "id": "0SuVR-1d7Jr4"
   },
   "source": [
    "We are now installing the necessary packages to interact with the MySQL database and issue SQL queries using the notebook."
   ]
  },
  {
   "cell_type": "code",
   "execution_count": null,
   "metadata": {
    "id": "I6vMQAK86ipS"
   },
   "outputs": [],
   "source": [
    "!pip3 install -U PyMySQL sqlalchemy sql_magic "
   ]
  },
  {
   "cell_type": "code",
   "execution_count": null,
   "metadata": {
    "id": "vOuWkjz36ULS"
   },
   "outputs": [],
   "source": [
    "%reload_ext sql_magic"
   ]
  },
  {
   "cell_type": "code",
   "execution_count": null,
   "metadata": {
    "id": "KE_bhLw16ULK"
   },
   "outputs": [],
   "source": [
    "from sqlalchemy import create_engine\n",
    "\n",
    "conn_string = 'mysql+pymysql://{user}:{password}@{host}/?charset=utf8'.format(\n",
    "    host = 'db.ipeirotis.org', \n",
    "    user = 'student',\n",
    "    password = 'dwdstudent2015',\n",
    "    encoding = 'utf-8')\n",
    "engine = create_engine(conn_string)"
   ]
  },
  {
   "cell_type": "code",
   "execution_count": null,
   "metadata": {
    "id": "fivqywfX6ULV"
   },
   "outputs": [],
   "source": [
    "%config SQL.conn_name = 'engine'"
   ]
  },
  {
   "cell_type": "markdown",
   "metadata": {
    "id": "dsiY_1S46ULY"
   },
   "source": [
    "## Navigation Queries"
   ]
  },
  {
   "cell_type": "code",
   "execution_count": null,
   "metadata": {
    "id": "1psXlZbQ6ULZ"
   },
   "outputs": [],
   "source": [
    "%%read_sql\n",
    "show databases"
   ]
  },
  {
   "cell_type": "code",
   "execution_count": null,
   "metadata": {
    "id": "G64fIWqC6ULc"
   },
   "outputs": [],
   "source": [
    "%%read_sql\n",
    "use imdb"
   ]
  },
  {
   "cell_type": "code",
   "execution_count": null,
   "metadata": {
    "id": "EwGGEhe_6ULh"
   },
   "outputs": [],
   "source": [
    "%%read_sql\n",
    "show tables"
   ]
  },
  {
   "cell_type": "code",
   "execution_count": null,
   "metadata": {
    "id": "bFfQ9mqa6ULm"
   },
   "outputs": [],
   "source": [
    "%%read_sql\n",
    "describe actors"
   ]
  },
  {
   "cell_type": "code",
   "execution_count": null,
   "metadata": {
    "id": "escUGjfpedCj"
   },
   "outputs": [],
   "source": [
    "%%read_sql\n",
    "describe movies"
   ]
  },
  {
   "cell_type": "code",
   "execution_count": null,
   "metadata": {
    "id": "lQhe8-fm6ULt"
   },
   "outputs": [],
   "source": [
    "%%read_sql\n",
    "describe roles"
   ]
  },
  {
   "cell_type": "code",
   "execution_count": null,
   "metadata": {
    "id": "0yDQhYOvedCk"
   },
   "outputs": [],
   "source": [
    "%%read_sql\n",
    "use facebook"
   ]
  },
  {
   "cell_type": "code",
   "execution_count": null,
   "metadata": {
    "id": "5r-1inpjedCk"
   },
   "outputs": [],
   "source": [
    "%%read_sql\n",
    "show tables"
   ]
  },
  {
   "cell_type": "code",
   "execution_count": null,
   "metadata": {
    "id": "kr5eW5p1edCk"
   },
   "outputs": [],
   "source": [
    "%%read_sql\n",
    "describe Profiles"
   ]
  },
  {
   "cell_type": "code",
   "execution_count": null,
   "metadata": {
    "id": "lA32DuPfedCl"
   },
   "outputs": [],
   "source": []
  }
 ],
 "metadata": {
  "colab": {
   "name": "A-Navigation_Queries.ipynb",
   "provenance": []
  },
  "kernelspec": {
   "display_name": "Python 3",
   "language": "python",
   "name": "python3"
  },
  "language_info": {
   "codemirror_mode": {
    "name": "ipython",
    "version": 3
   },
   "file_extension": ".py",
   "mimetype": "text/x-python",
   "name": "python",
   "nbconvert_exporter": "python",
   "pygments_lexer": "ipython3",
   "version": "3.8.2"
  }
 },
 "nbformat": 4,
 "nbformat_minor": 1
}
