{
  "nbformat": 4,
  "nbformat_minor": 0,
  "metadata": {
    "colab": {
      "name": "A-Navigation_Queries.ipynb",
      "provenance": []
    },
    "kernelspec": {
      "display_name": "Python 3",
      "language": "python",
      "name": "python3"
    },
    "language_info": {
      "codemirror_mode": {
        "name": "ipython",
        "version": 3
      },
      "file_extension": ".py",
      "mimetype": "text/x-python",
      "name": "python",
      "nbconvert_exporter": "python",
      "pygments_lexer": "ipython3",
      "version": "3.6.9"
    }
  },
  "cells": [
    {
      "cell_type": "markdown",
      "metadata": {
        "id": "QBeMTyL26ULI"
      },
      "source": [
        "# SQL Queries: Navigating a database"
      ]
    },
    {
      "cell_type": "markdown",
      "metadata": {
        "id": "w8oa_JjV7F_h"
      },
      "source": [
        "## Setup"
      ]
    },
    {
      "cell_type": "markdown",
      "metadata": {
        "id": "0SuVR-1d7Jr4"
      },
      "source": [
        "We are now installing the necessary packages to interact with the MySQL database and issue SQL queries using the notebook."
      ]
    },
    {
      "cell_type": "code",
      "metadata": {
        "id": "I6vMQAK86ipS"
      },
      "source": [
        "!pip3 install -U PyMySQL sqlalchemy sql_magic "
      ],
      "execution_count": null,
      "outputs": []
    },
    {
      "cell_type": "code",
      "metadata": {
        "id": "vOuWkjz36ULS"
      },
      "source": [
        "%reload_ext sql_magic"
      ],
      "execution_count": null,
      "outputs": []
    },
    {
      "cell_type": "code",
      "metadata": {
        "id": "KE_bhLw16ULK"
      },
      "source": [
        "from sqlalchemy import create_engine\n",
        "\n",
        "conn_string = 'mysql+pymysql://{user}:{password}@{host}/?charset=utf8'.format(\n",
        "    host = 'db.ipeirotis.org', \n",
        "    user = 'student',\n",
        "    password = 'dwdstudent2015',\n",
        "    encoding = 'utf-8')\n",
        "engine = create_engine(conn_string)"
      ],
      "execution_count": null,
      "outputs": []
    },
    {
      "cell_type": "code",
      "metadata": {
        "id": "fivqywfX6ULV"
      },
      "source": [
        "%config SQL.conn_name = 'engine'"
      ],
      "execution_count": null,
      "outputs": []
    },
    {
      "cell_type": "markdown",
      "metadata": {
        "id": "dsiY_1S46ULY"
      },
      "source": [
        "## Navigation Queries"
      ]
    },
    {
      "cell_type": "code",
      "metadata": {
        "id": "1psXlZbQ6ULZ"
      },
      "source": [
        "%%read_sql\n",
        "show databases"
      ],
      "execution_count": null,
      "outputs": []
    },
    {
      "cell_type": "code",
      "metadata": {
        "id": "G64fIWqC6ULc"
      },
      "source": [
        "%%read_sql\n",
        "use imdb"
      ],
      "execution_count": null,
      "outputs": []
    },
    {
      "cell_type": "code",
      "metadata": {
        "id": "EwGGEhe_6ULh"
      },
      "source": [
        "%%read_sql\n",
        "show tables"
      ],
      "execution_count": null,
      "outputs": []
    },
    {
      "cell_type": "code",
      "metadata": {
        "id": "bFfQ9mqa6ULm"
      },
      "source": [
        "%%read_sql\n",
        "describe actors"
      ],
      "execution_count": null,
      "outputs": []
    },
    {
      "cell_type": "code",
      "metadata": {
        "id": "escUGjfpedCj"
      },
      "source": [
        "%%read_sql\n",
        "describe movies"
      ],
      "execution_count": null,
      "outputs": []
    },
    {
      "cell_type": "code",
      "metadata": {
        "id": "lQhe8-fm6ULt"
      },
      "source": [
        "%%read_sql\n",
        "describe roles"
      ],
      "execution_count": null,
      "outputs": []
    },
    {
      "cell_type": "code",
      "metadata": {
        "id": "0yDQhYOvedCk"
      },
      "source": [
        "%%read_sql\n",
        "use facebook"
      ],
      "execution_count": null,
      "outputs": []
    },
    {
      "cell_type": "code",
      "metadata": {
        "id": "5r-1inpjedCk"
      },
      "source": [
        "%%read_sql\n",
        "show tables"
      ],
      "execution_count": null,
      "outputs": []
    },
    {
      "cell_type": "code",
      "metadata": {
        "id": "kr5eW5p1edCk"
      },
      "source": [
        "%%read_sql\n",
        "describe Profiles"
      ],
      "execution_count": null,
      "outputs": []
    },
    {
      "cell_type": "code",
      "metadata": {
        "id": "lA32DuPfedCl"
      },
      "source": [
        ""
      ],
      "execution_count": null,
      "outputs": []
    }
  ]
}