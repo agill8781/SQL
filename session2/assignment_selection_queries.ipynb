{
 "cells": [
  {
   "cell_type": "markdown",
   "metadata": {
    "colab_type": "text",
    "id": "view-in-github"
   },
   "source": [
    "<a href=\"https://colab.research.google.com/github/ipeirotis/introduction-to-databases/blob/master/session2/assignment_selection_queries.ipynb\" target=\"_parent\"><img src=\"https://colab.research.google.com/assets/colab-badge.svg\" alt=\"Open In Colab\"/></a>"
   ]
  },
  {
   "cell_type": "markdown",
   "metadata": {
    "colab_type": "text",
    "id": "SkZqhwkf8NUg"
   },
   "source": [
    "# Session 2: Selection Queries Assignment\n",
    "\n",
    "\n",
    "In this segment we will connect to the *Music* database."
   ]
  },
  {
   "cell_type": "markdown",
   "metadata": {
    "colab_type": "text",
    "id": "5u_6yLTDT6Kn"
   },
   "source": [
    "## Setup"
   ]
  },
  {
   "cell_type": "code",
   "execution_count": null,
   "metadata": {
    "colab": {},
    "colab_type": "code",
    "id": "O9o9NsaO8hMy"
   },
   "outputs": [],
   "source": [
    "# !sudo pip3 install PyMySQL sqlalchemy sql_magic"
   ]
  },
  {
   "cell_type": "code",
   "execution_count": 1,
   "metadata": {
    "colab": {},
    "colab_type": "code",
    "id": "EkIL-uRK8NUi"
   },
   "outputs": [],
   "source": [
    "# This code creates a connection to the database\n",
    "from sqlalchemy import create_engine\n",
    "\n",
    "conn_string = \"mysql+pymysql://{user}:{password}@{host}/{db}?charset={encoding}\".format(\n",
    "    host=\"db.ipeirotis.org\",\n",
    "    user=\"student\",\n",
    "    db=\"music\",\n",
    "    password=\"dwdstudent2015\",\n",
    "    encoding=\"utf8mb4\",\n",
    ")\n",
    "\n",
    "engine = create_engine(conn_string)\n",
    "con = engine.connect()"
   ]
  },
  {
   "cell_type": "code",
   "execution_count": 2,
   "metadata": {
    "colab": {},
    "colab_type": "code",
    "id": "z7muzQXTUFkU"
   },
   "outputs": [
    {
     "data": {
      "application/javascript": [
       "\n",
       "    require(['notebook/js/codecell'], function(codecell) {\n",
       "      // https://github.com/jupyter/notebook/issues/2453\n",
       "      codecell.CodeCell.options_default.highlight_modes['magic_text/x-sql'] = {'reg':[/^%read_sql/, /.*=\\s*%read_sql/,\n",
       "                                                                                      /^%%read_sql/]};\n",
       "      Jupyter.notebook.events.one('kernel_ready.Kernel', function(){\n",
       "          console.log('BBBBB');\n",
       "          Jupyter.notebook.get_cells().map(function(cell){\n",
       "              if (cell.cell_type == 'code'){ cell.auto_highlight(); } }) ;\n",
       "      });\n",
       "    });\n",
       "    "
      ]
     },
     "metadata": {},
     "output_type": "display_data"
    }
   ],
   "source": [
    "%reload_ext sql_magic"
   ]
  },
  {
   "cell_type": "code",
   "execution_count": 3,
   "metadata": {
    "colab": {},
    "colab_type": "code",
    "id": "uHRIPxBvUGfC"
   },
   "outputs": [],
   "source": [
    "%config SQL.conn_name = 'engine'"
   ]
  },
  {
   "cell_type": "markdown",
   "metadata": {},
   "source": [
    "This is an example of how you can write an SQL query in the notebook.\n",
    "You write your SQL query after the `%%read_sql` line"
   ]
  },
  {
   "cell_type": "code",
   "execution_count": 4,
   "metadata": {
    "colab": {
     "base_uri": "https://localhost:8080/",
     "height": 390
    },
    "colab_type": "code",
    "id": "sWa1Uv_6X9zi",
    "outputId": "bbc44d81-02b5-4b8b-b776-42f378ed941a"
   },
   "outputs": [
    {
     "name": "stdout",
     "output_type": "stream",
     "text": [
      "Query started at 05:44:10 AM UTC; Query executed in 0.00 m"
     ]
    },
    {
     "data": {
      "text/html": [
       "<div>\n",
       "<style scoped>\n",
       "    .dataframe tbody tr th:only-of-type {\n",
       "        vertical-align: middle;\n",
       "    }\n",
       "\n",
       "    .dataframe tbody tr th {\n",
       "        vertical-align: top;\n",
       "    }\n",
       "\n",
       "    .dataframe thead th {\n",
       "        text-align: right;\n",
       "    }\n",
       "</style>\n",
       "<table border=\"1\" class=\"dataframe\">\n",
       "  <thead>\n",
       "    <tr style=\"text-align: right;\">\n",
       "      <th></th>\n",
       "      <th>artist_id</th>\n",
       "      <th>album_id</th>\n",
       "      <th>track_id</th>\n",
       "      <th>played</th>\n",
       "    </tr>\n",
       "  </thead>\n",
       "  <tbody>\n",
       "    <tr>\n",
       "      <th>0</th>\n",
       "      <td>1</td>\n",
       "      <td>3</td>\n",
       "      <td>0</td>\n",
       "      <td>2006-08-14 10:21:03</td>\n",
       "    </tr>\n",
       "    <tr>\n",
       "      <th>1</th>\n",
       "      <td>1</td>\n",
       "      <td>3</td>\n",
       "      <td>1</td>\n",
       "      <td>2006-08-14 10:25:22</td>\n",
       "    </tr>\n",
       "    <tr>\n",
       "      <th>2</th>\n",
       "      <td>1</td>\n",
       "      <td>3</td>\n",
       "      <td>2</td>\n",
       "      <td>2006-08-14 10:30:25</td>\n",
       "    </tr>\n",
       "    <tr>\n",
       "      <th>3</th>\n",
       "      <td>1</td>\n",
       "      <td>3</td>\n",
       "      <td>3</td>\n",
       "      <td>2006-08-14 10:36:54</td>\n",
       "    </tr>\n",
       "    <tr>\n",
       "      <th>4</th>\n",
       "      <td>1</td>\n",
       "      <td>3</td>\n",
       "      <td>4</td>\n",
       "      <td>2006-08-14 10:41:43</td>\n",
       "    </tr>\n",
       "    <tr>\n",
       "      <th>5</th>\n",
       "      <td>1</td>\n",
       "      <td>3</td>\n",
       "      <td>5</td>\n",
       "      <td>2006-08-14 10:43:37</td>\n",
       "    </tr>\n",
       "    <tr>\n",
       "      <th>6</th>\n",
       "      <td>1</td>\n",
       "      <td>3</td>\n",
       "      <td>6</td>\n",
       "      <td>2006-08-14 10:47:21</td>\n",
       "    </tr>\n",
       "    <tr>\n",
       "      <th>7</th>\n",
       "      <td>1</td>\n",
       "      <td>3</td>\n",
       "      <td>7</td>\n",
       "      <td>2006-08-14 10:54:02</td>\n",
       "    </tr>\n",
       "    <tr>\n",
       "      <th>8</th>\n",
       "      <td>3</td>\n",
       "      <td>1</td>\n",
       "      <td>0</td>\n",
       "      <td>2006-08-15 14:00:03</td>\n",
       "    </tr>\n",
       "    <tr>\n",
       "      <th>9</th>\n",
       "      <td>3</td>\n",
       "      <td>1</td>\n",
       "      <td>1</td>\n",
       "      <td>2006-08-15 14:26:12</td>\n",
       "    </tr>\n",
       "    <tr>\n",
       "      <th>10</th>\n",
       "      <td>3</td>\n",
       "      <td>1</td>\n",
       "      <td>2</td>\n",
       "      <td>2006-08-15 14:33:57</td>\n",
       "    </tr>\n",
       "  </tbody>\n",
       "</table>\n",
       "</div>"
      ],
      "text/plain": [
       "    artist_id  album_id  track_id              played\n",
       "0           1         3         0 2006-08-14 10:21:03\n",
       "1           1         3         1 2006-08-14 10:25:22\n",
       "2           1         3         2 2006-08-14 10:30:25\n",
       "3           1         3         3 2006-08-14 10:36:54\n",
       "4           1         3         4 2006-08-14 10:41:43\n",
       "5           1         3         5 2006-08-14 10:43:37\n",
       "6           1         3         6 2006-08-14 10:47:21\n",
       "7           1         3         7 2006-08-14 10:54:02\n",
       "8           3         1         0 2006-08-15 14:00:03\n",
       "9           3         1         1 2006-08-15 14:26:12\n",
       "10          3         1         2 2006-08-15 14:33:57"
      ]
     },
     "execution_count": 4,
     "metadata": {},
     "output_type": "execute_result"
    }
   ],
   "source": [
    "%%read_sql\n",
    "SELECT * \n",
    "FROM played"
   ]
  },
  {
   "cell_type": "markdown",
   "metadata": {
    "colab_type": "text",
    "id": "H0hhloRRUJlV"
   },
   "source": [
    "## Question 1: Show all the tables that appear in the Music database"
   ]
  },
  {
   "cell_type": "code",
   "execution_count": null,
   "metadata": {
    "colab": {},
    "colab_type": "code",
    "id": "eL_CnyPRUSGI"
   },
   "outputs": [],
   "source": [
    "%%read_sql\n"
   ]
  },
  {
   "cell_type": "markdown",
   "metadata": {
    "colab_type": "text",
    "id": "Hz_1yX-EUeBQ"
   },
   "source": [
    "## Question 2: Show the attributes available for each artist"
   ]
  },
  {
   "cell_type": "code",
   "execution_count": null,
   "metadata": {
    "colab": {},
    "colab_type": "code",
    "id": "HXy0Ygy3Uf_m"
   },
   "outputs": [],
   "source": [
    "%%read_sql\n"
   ]
  },
  {
   "cell_type": "markdown",
   "metadata": {
    "colab_type": "text",
    "id": "UozymxRTW-wx"
   },
   "source": [
    "## Question 3: Show the attributes available for each album"
   ]
  },
  {
   "cell_type": "code",
   "execution_count": null,
   "metadata": {
    "colab": {},
    "colab_type": "code",
    "id": "ZwtqsRoGW-wz"
   },
   "outputs": [],
   "source": [
    "%%read_sql\n"
   ]
  },
  {
   "cell_type": "markdown",
   "metadata": {
    "colab_type": "text",
    "id": "8NFSCApmXGZ8"
   },
   "source": [
    "## Question 4: Show the attributes available for each track"
   ]
  },
  {
   "cell_type": "code",
   "execution_count": null,
   "metadata": {
    "colab": {},
    "colab_type": "code",
    "id": "bcr5iccDXGZ9"
   },
   "outputs": [],
   "source": [
    "%%read_sql\n"
   ]
  },
  {
   "cell_type": "markdown",
   "metadata": {
    "colab_type": "text",
    "id": "nezZleqbUeI_"
   },
   "source": [
    "## Question 5: Show all the artists"
   ]
  },
  {
   "cell_type": "code",
   "execution_count": null,
   "metadata": {
    "colab": {},
    "colab_type": "code",
    "id": "rNfpSzT3UgrM"
   },
   "outputs": [],
   "source": [
    "%%read_sql\n"
   ]
  },
  {
   "cell_type": "markdown",
   "metadata": {
    "colab_type": "text",
    "id": "_j2bCzADXODe"
   },
   "source": [
    "## Question 6: Show all the albums"
   ]
  },
  {
   "cell_type": "code",
   "execution_count": null,
   "metadata": {
    "colab": {},
    "colab_type": "code",
    "id": "o9h005rlXODf"
   },
   "outputs": [],
   "source": [
    "%%read_sql\n"
   ]
  },
  {
   "cell_type": "markdown",
   "metadata": {
    "colab_type": "text",
    "id": "HF9cHpSDXaZd"
   },
   "source": [
    "## Question 7: Show all the tracks"
   ]
  },
  {
   "cell_type": "code",
   "execution_count": null,
   "metadata": {
    "colab": {},
    "colab_type": "code",
    "id": "mvLQdbdiXSmw"
   },
   "outputs": [],
   "source": [
    "%%read_sql\n"
   ]
  },
  {
   "cell_type": "markdown",
   "metadata": {
    "colab_type": "text",
    "id": "ntj5f4n8U3dT"
   },
   "source": [
    "## Question 8: List all the names of the artists, without the artist ids, sorted alphabetically "
   ]
  },
  {
   "cell_type": "code",
   "execution_count": null,
   "metadata": {
    "colab": {},
    "colab_type": "code",
    "id": "mPCpyhbwU3dV"
   },
   "outputs": [],
   "source": [
    "%%read_sql\n"
   ]
  },
  {
   "cell_type": "markdown",
   "metadata": {
    "colab_type": "text",
    "id": "23bSA8IUU1Og"
   },
   "source": [
    "## Question 9: Show all the album names and the corresponding artist id, but do not show the album_id. Rename the album_name attribute to album_title."
   ]
  },
  {
   "cell_type": "code",
   "execution_count": null,
   "metadata": {
    "colab": {},
    "colab_type": "code",
    "id": "hTD97qjaU1Oi"
   },
   "outputs": [],
   "source": [
    "%%read_sql\n"
   ]
  },
  {
   "cell_type": "markdown",
   "metadata": {
    "colab_type": "text",
    "id": "eWgdmtHHURaS"
   },
   "source": [
    "## Question 10: List the 10 shortest tracks, in terms of playing time"
   ]
  },
  {
   "cell_type": "code",
   "execution_count": null,
   "metadata": {
    "colab": {},
    "colab_type": "code",
    "id": "ygI_N9gBUhWy"
   },
   "outputs": [],
   "source": [
    "%%read_sql\n"
   ]
  }
 ],
 "metadata": {
  "anaconda-cloud": {},
  "colab": {
   "collapsed_sections": [],
   "include_colab_link": true,
   "name": "Session2-Assignment",
   "provenance": []
  },
  "kernelspec": {
   "display_name": "Python 3",
   "language": "python",
   "name": "python3"
  },
  "language_info": {
   "codemirror_mode": {
    "name": "ipython",
    "version": 3
   },
   "file_extension": ".py",
   "mimetype": "text/x-python",
   "name": "python",
   "nbconvert_exporter": "python",
   "pygments_lexer": "ipython3",
   "version": "3.8.2"
  }
 },
 "nbformat": 4,
 "nbformat_minor": 1
}
