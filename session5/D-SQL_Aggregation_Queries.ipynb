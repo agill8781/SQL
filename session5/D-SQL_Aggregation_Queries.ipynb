{
 "cells": [
  {
   "cell_type": "markdown",
   "metadata": {
    "colab_type": "text",
    "id": "QBeMTyL26ULI"
   },
   "source": [
    "# SQL: Aggregation Queries"
   ]
  },
  {
   "cell_type": "markdown",
   "metadata": {
    "colab_type": "text",
    "id": "w8oa_JjV7F_h"
   },
   "source": [
    "## Setup"
   ]
  },
  {
   "cell_type": "markdown",
   "metadata": {
    "colab_type": "text",
    "id": "0SuVR-1d7Jr4"
   },
   "source": [
    "We are now installing the necessary packages to interact with the MySQL database and issue SQL queries using the notebook."
   ]
  },
  {
   "cell_type": "code",
   "execution_count": null,
   "metadata": {
    "colab": {
     "base_uri": "https://localhost:8080/",
     "height": 874
    },
    "colab_type": "code",
    "id": "I6vMQAK86ipS",
    "outputId": "f00d993f-bd3b-4f07-fad1-139cb8e5fff5"
   },
   "outputs": [],
   "source": [
    "!sudo apt-get install python3-mysqldb\n",
    "!sudo pip3 install -U sqlalchemy sql_magic"
   ]
  },
  {
   "cell_type": "code",
   "execution_count": null,
   "metadata": {
    "colab": {
     "base_uri": "https://localhost:8080/",
     "height": 17
    },
    "colab_type": "code",
    "id": "vOuWkjz36ULS",
    "outputId": "601dd859-d6e5-4ff5-819f-10dcec8019ba"
   },
   "outputs": [],
   "source": [
    "%reload_ext sql_magic"
   ]
  },
  {
   "cell_type": "code",
   "execution_count": null,
   "metadata": {
    "colab": {},
    "colab_type": "code",
    "id": "KE_bhLw16ULK"
   },
   "outputs": [],
   "source": [
    "from sqlalchemy import create_engine\n",
    "\n",
    "conn_string = 'mysql://{user}:{password}@{host}/?charset=utf8'.format(\n",
    "    host='db.ipeirotis.org',\n",
    "    user='student',\n",
    "    password='dwdstudent2015',\n",
    "    encoding='utf-8')\n",
    "engine = create_engine(conn_string)"
   ]
  },
  {
   "cell_type": "code",
   "execution_count": null,
   "metadata": {
    "colab": {},
    "colab_type": "code",
    "id": "fivqywfX6ULV"
   },
   "outputs": [],
   "source": [
    "%config SQL.conn_name = 'engine'"
   ]
  },
  {
   "cell_type": "markdown",
   "metadata": {
    "colab_type": "text",
    "id": "I3gMmBCf9tFD"
   },
   "source": [
    "## Basic aggregation functions\n"
   ]
  },
  {
   "cell_type": "markdown",
   "metadata": {
    "colab_type": "text",
    "id": "rWp006T59tFE"
   },
   "source": [
    "#### Switch to IMDb"
   ]
  },
  {
   "cell_type": "code",
   "execution_count": null,
   "metadata": {
    "colab": {
     "base_uri": "https://localhost:8080/",
     "height": 0
    },
    "colab_type": "code",
    "id": "r4mkYlAl9tFE",
    "outputId": "041f76f9-d2f2-4fa5-eff8-a28eb79d8d26"
   },
   "outputs": [],
   "source": [
    "%%read_sql\n",
    "USE imdb"
   ]
  },
  {
   "cell_type": "markdown",
   "metadata": {},
   "source": [
    "### `COUNT(*)`"
   ]
  },
  {
   "cell_type": "markdown",
   "metadata": {
    "colab_type": "text",
    "id": "YpawdZmd9tFI"
   },
   "source": [
    "#### Find the number of movies in the database\n"
   ]
  },
  {
   "cell_type": "code",
   "execution_count": null,
   "metadata": {},
   "outputs": [],
   "source": [
    "%%read_sql\n",
    "SELECT COUNT(*) AS num_movies\n",
    "FROM movies"
   ]
  },
  {
   "cell_type": "markdown",
   "metadata": {},
   "source": [
    "#### Find the number of actors in the database\n"
   ]
  },
  {
   "cell_type": "code",
   "execution_count": null,
   "metadata": {},
   "outputs": [],
   "source": [
    "%%read_sql\n",
    "SELECT COUNT(*) AS num_actors\n",
    "FROM actors"
   ]
  },
  {
   "cell_type": "markdown",
   "metadata": {},
   "source": [
    "### `COUNT(attr)`\n"
   ]
  },
  {
   "cell_type": "markdown",
   "metadata": {},
   "source": [
    "#### Find the number of movies with a rating\n",
    "\n"
   ]
  },
  {
   "cell_type": "code",
   "execution_count": null,
   "metadata": {},
   "outputs": [],
   "source": [
    "%%read_sql\n",
    "SELECT COUNT(*) AS rated_movies\n",
    "FROM movies"
   ]
  },
  {
   "cell_type": "markdown",
   "metadata": {},
   "source": [
    "#### Find the number of roles where the role is not empty"
   ]
  },
  {
   "cell_type": "code",
   "execution_count": null,
   "metadata": {},
   "outputs": [],
   "source": [
    "%%read_sql\n",
    "SELECT COUNT(role) AS named_roles\n",
    "FROM roles"
   ]
  },
  {
   "cell_type": "code",
   "execution_count": null,
   "metadata": {},
   "outputs": [],
   "source": [
    "%%read_sql\n",
    "SELECT COUNT(*) AS named_roles\n",
    "FROM roles\n",
    "WHERE role IS NOT NULL"
   ]
  },
  {
   "cell_type": "markdown",
   "metadata": {},
   "source": [
    "### `COUNT(DISTINCT attr)`\n",
    "\n"
   ]
  },
  {
   "cell_type": "markdown",
   "metadata": {},
   "source": [
    "#### Find the number of distinct genres in the database\n"
   ]
  },
  {
   "cell_type": "code",
   "execution_count": null,
   "metadata": {},
   "outputs": [],
   "source": [
    "%%read_sql\n",
    "SELECT COUNT(DISTINCT genre) AS num_genres\n",
    "FROM movies_genres"
   ]
  },
  {
   "cell_type": "markdown",
   "metadata": {},
   "source": [
    "#### Find the number of movies that have a genre associated with them"
   ]
  },
  {
   "cell_type": "code",
   "execution_count": null,
   "metadata": {},
   "outputs": [],
   "source": [
    "%%read_sql\n",
    "SELECT COUNT(DISTINCT movie_id) AS num_movies\n",
    "FROM movies_genres"
   ]
  },
  {
   "cell_type": "markdown",
   "metadata": {},
   "source": [
    "Compare the query above with the (incorrect!) query below without the `DISTINCT`. Without the `DISTINCT` we may count the same `movie_id` multiple times. Notice that the query below returns as the count a number larger than the actual number of movies in the database."
   ]
  },
  {
   "cell_type": "code",
   "execution_count": null,
   "metadata": {},
   "outputs": [],
   "source": [
    "%%read_sql\n",
    "SELECT COUNT(movie_id)\n",
    "FROM movies_genres"
   ]
  },
  {
   "cell_type": "markdown",
   "metadata": {},
   "source": [
    "### `MIN(attr)`, `MAX(attr)`, `AVG(attr)`, `STDDEV(attr)`, `SUM(attr)`\n"
   ]
  },
  {
   "cell_type": "markdown",
   "metadata": {},
   "source": [
    "\n",
    "#### Find the earliest release year and the latest release year for movies\n"
   ]
  },
  {
   "cell_type": "code",
   "execution_count": null,
   "metadata": {},
   "outputs": [],
   "source": [
    "%%read_sql\n",
    "SELECT \n",
    "    MAX(year) AS max_year, \n",
    "    MIN(year) AS min_year\n",
    "FROM movies"
   ]
  },
  {
   "cell_type": "markdown",
   "metadata": {},
   "source": [
    "#### Find the average rating of the movies and the standard deviation"
   ]
  },
  {
   "cell_type": "code",
   "execution_count": null,
   "metadata": {},
   "outputs": [],
   "source": [
    "%%read_sql\n",
    "SELECT \n",
    "    MAX(rank) AS max_rank, \n",
    "    MIN(rank) AS min_rank, \n",
    "    AVG(rank) AS avg_rank, \n",
    "    STDDEV(rank) AS stdev_rank\n",
    "FROM movies"
   ]
  },
  {
   "cell_type": "markdown",
   "metadata": {
    "colab_type": "text",
    "id": "_MDShnOm9tFb"
   },
   "source": [
    "## `GROUP BY`, Examples on IMDb"
   ]
  },
  {
   "cell_type": "markdown",
   "metadata": {
    "colab_type": "text",
    "heading_collapsed": true,
    "id": "Fkk5nVDd9tFc"
   },
   "source": [
    "#### Switch to IMDb"
   ]
  },
  {
   "cell_type": "code",
   "execution_count": null,
   "metadata": {
    "colab": {
     "base_uri": "https://localhost:8080/",
     "height": 0
    },
    "colab_type": "code",
    "hidden": true,
    "id": "3yP0H1I99tFc",
    "outputId": "e1080f54-afe1-49b2-f0ad-6006458b7bab"
   },
   "outputs": [],
   "source": [
    "%%read_sql\n",
    "USE imdb"
   ]
  },
  {
   "attachments": {},
   "cell_type": "markdown",
   "metadata": {
    "colab_type": "text",
    "id": "ttP5_eGW9tFg"
   },
   "source": [
    "#### Count the number of movies that were released in each year"
   ]
  },
  {
   "cell_type": "code",
   "execution_count": null,
   "metadata": {
    "colab": {
     "base_uri": "https://localhost:8080/",
     "height": 0
    },
    "colab_type": "code",
    "id": "ORns1H4t9tFh",
    "outputId": "66cf65b0-b7cd-4c52-95c0-69c5eef2016c"
   },
   "outputs": [],
   "source": [
    "%%read_sql\n",
    "SELECT year, COUNT(*) AS num_movies\n",
    "FROM movies\n",
    "GROUP BY year"
   ]
  },
  {
   "attachments": {},
   "cell_type": "markdown",
   "metadata": {
    "colab_type": "text",
    "id": "Ug9ontFN9tFj"
   },
   "source": [
    "#### Compute the average rank for the movies released in each year\n",
    "\n"
   ]
  },
  {
   "cell_type": "code",
   "execution_count": null,
   "metadata": {
    "colab": {
     "base_uri": "https://localhost:8080/",
     "height": 0
    },
    "colab_type": "code",
    "id": "h8EYdo-j9tFk",
    "outputId": "b7805875-e887-44d3-b0ee-df2045579d5b"
   },
   "outputs": [],
   "source": [
    "%%read_sql\n",
    "SELECT year, AVG(rank) AS avg_movies\n",
    "FROM movies\n",
    "GROUP BY year"
   ]
  },
  {
   "attachments": {},
   "cell_type": "markdown",
   "metadata": {
    "colab_type": "text",
    "id": "JWe0N-_j9tFm"
   },
   "source": [
    "#### Compute the min, max, and standard deviation of the movies in each year\n"
   ]
  },
  {
   "cell_type": "code",
   "execution_count": null,
   "metadata": {
    "colab": {
     "base_uri": "https://localhost:8080/",
     "height": 0
    },
    "colab_type": "code",
    "id": "eInzdfdQ9tFn",
    "outputId": "ae10252a-226b-47db-ae19-d33960dedb2a"
   },
   "outputs": [],
   "source": [
    "%%read_sql\n",
    "SELECT year, \n",
    "    MAX(rank) AS max_rank, \n",
    "    MIN(rank) AS min_rank, \n",
    "    AVG(rank) AS avg_rank, \n",
    "    STDDEV(rank) AS stdev_rank\n",
    "FROM movies\n",
    "GROUP BY year"
   ]
  },
  {
   "cell_type": "markdown",
   "metadata": {
    "colab_type": "text",
    "id": "Z6wnAoJi9tFq"
   },
   "source": [
    "#### Examine the difference between `COUNT(*)` and `COUNT(rank)` when reporting movies per year"
   ]
  },
  {
   "cell_type": "code",
   "execution_count": null,
   "metadata": {
    "colab": {
     "base_uri": "https://localhost:8080/",
     "height": 0
    },
    "colab_type": "code",
    "id": "YlXHj1J59tFr",
    "outputId": "191b7bd7-0bb5-45b8-9837-35fd35450102"
   },
   "outputs": [],
   "source": [
    "%%read_sql\n",
    "SELECT year, \n",
    "    COUNT(*) AS num_movies,\n",
    "    COUNT(rank) AS rated_movies,\n",
    "    MAX(rank) AS max_rank, \n",
    "    MIN(rank) AS min_rank, \n",
    "    AVG(rank) AS avg_rank, \n",
    "    STDDEV(rank) AS stdev_rank\n",
    "FROM movies\n",
    "GROUP BY year"
   ]
  },
  {
   "cell_type": "code",
   "execution_count": null,
   "metadata": {},
   "outputs": [],
   "source": [
    "%%read_sql\n",
    "SELECT year, \n",
    "    COUNT(*) AS num_movies,\n",
    "    COUNT(rank) AS rated_movies,\n",
    "    MAX(rank) AS max_rank, \n",
    "    MIN(rank) AS min_rank, \n",
    "    ROUND(AVG(rank),2) AS avg_rank, \n",
    "    ROUND(STDDEV(rank),2) AS stdev_rank\n",
    "FROM movies\n",
    "GROUP BY year"
   ]
  },
  {
   "attachments": {},
   "cell_type": "markdown",
   "metadata": {
    "colab_type": "text",
    "id": "K_rzfAN19tFy"
   },
   "source": [
    "#### Compute the number of movies per director ID. \n",
    "Rank first the directors with the most movies\n",
    "\n",
    "\n"
   ]
  },
  {
   "cell_type": "code",
   "execution_count": null,
   "metadata": {
    "colab": {
     "base_uri": "https://localhost:8080/",
     "height": 0
    },
    "colab_type": "code",
    "id": "p5qm1Syo9tFz",
    "outputId": "8cb9298a-2f26-4ad8-ca60-c52fd3b3ab35"
   },
   "outputs": [],
   "source": [
    "%%read_sql\n",
    "SELECT director_id, \n",
    "    COUNT(*) AS num_movies\n",
    "FROM movies_directors\n",
    "GROUP BY director_id\n",
    "ORDER BY num_movies DESC"
   ]
  },
  {
   "attachments": {},
   "cell_type": "markdown",
   "metadata": {
    "colab_type": "text",
    "id": "wZOCUQIJEgCn"
   },
   "source": [
    "#### Compute the number of movies per actor ID, \n",
    "Rank first the actors with the most movies"
   ]
  },
  {
   "cell_type": "code",
   "execution_count": null,
   "metadata": {
    "colab": {
     "base_uri": "https://localhost:8080/",
     "height": 0
    },
    "colab_type": "code",
    "id": "Pf3HKmOXEXf0",
    "outputId": "d5567d96-fe5d-4ff8-eeb8-553bb539abb7"
   },
   "outputs": [],
   "source": [
    "%%read_sql\n",
    "SELECT actor_id, \n",
    "    COUNT(*) AS num_movies\n",
    "FROM roles\n",
    "GROUP BY actor_id\n",
    "ORDER BY num_movies DESC"
   ]
  },
  {
   "attachments": {},
   "cell_type": "markdown",
   "metadata": {
    "colab_type": "text",
    "id": "B16wKDtKEgjK"
   },
   "source": [
    "#### Compute the number of actors per movie ID\n",
    "Rank first the movies with the most actors"
   ]
  },
  {
   "cell_type": "code",
   "execution_count": null,
   "metadata": {
    "colab": {
     "base_uri": "https://localhost:8080/",
     "height": 0
    },
    "colab_type": "code",
    "id": "OeGWPNkfEXlU",
    "outputId": "70a44d8a-1a62-4c12-f1f4-3f96c901977c"
   },
   "outputs": [],
   "source": [
    "%%read_sql\n",
    "SELECT movie_id, \n",
    "    COUNT(*) AS num_roles,\n",
    "    COUNT(DISTINCT actor_id) AS num_actors\n",
    "FROM roles\n",
    "GROUP BY movie_id\n",
    "ORDER BY num_actors DESC"
   ]
  },
  {
   "attachments": {},
   "cell_type": "markdown",
   "metadata": {
    "colab_type": "text",
    "id": "vIZEEwHLEhGk"
   },
   "source": [
    "#### Count the number of male actors and the number of female actors"
   ]
  },
  {
   "cell_type": "code",
   "execution_count": null,
   "metadata": {
    "colab": {
     "base_uri": "https://localhost:8080/",
     "height": 0
    },
    "colab_type": "code",
    "id": "6b82AvLKEXs7",
    "outputId": "0c98c557-807d-4736-908a-af92e43c9a4c"
   },
   "outputs": [],
   "source": [
    "%%read_sql\n",
    "SELECT gender, COUNT(*) \n",
    "FROM actors\n",
    "GROUP BY gender"
   ]
  },
  {
   "attachments": {},
   "cell_type": "markdown",
   "metadata": {
    "colab_type": "text",
    "id": "vqk5GxtUF9Wi"
   },
   "source": [
    "#### Compute the number of movies for each genre\n",
    "\n"
   ]
  },
  {
   "cell_type": "code",
   "execution_count": null,
   "metadata": {
    "colab": {
     "base_uri": "https://localhost:8080/",
     "height": 0
    },
    "colab_type": "code",
    "id": "mn10NJiAF-lB",
    "outputId": "4ce4a679-e636-4c12-b3d9-77e5c9d45087"
   },
   "outputs": [],
   "source": [
    "%%read_sql\n",
    "SELECT genre, COUNT(DISTINCT movie_id), COUNT(movie_id)\n",
    "FROM movies_genres\n",
    "GROUP BY genre"
   ]
  },
  {
   "cell_type": "markdown",
   "metadata": {
    "colab_type": "text",
    "id": "s_3p8olC9tGI"
   },
   "source": [
    "## `GROUP BY`, Examples on Facebook"
   ]
  },
  {
   "cell_type": "markdown",
   "metadata": {
    "colab_type": "text",
    "id": "p3-bCdJH9tGJ"
   },
   "source": [
    "#### Switch to Facebook"
   ]
  },
  {
   "cell_type": "code",
   "execution_count": null,
   "metadata": {
    "colab": {
     "base_uri": "https://localhost:8080/",
     "height": 0
    },
    "colab_type": "code",
    "id": "Tw7O43CO9tGJ",
    "outputId": "957e0ac9-aec8-4c98-c993-c9154a6e10f7"
   },
   "outputs": [],
   "source": [
    "%%read_sql\n",
    "USE facebook"
   ]
  },
  {
   "attachments": {},
   "cell_type": "markdown",
   "metadata": {
    "colab_type": "text",
    "id": "b4mdntH09tGM"
   },
   "source": [
    "#### List the number of males and females\n"
   ]
  },
  {
   "cell_type": "code",
   "execution_count": null,
   "metadata": {
    "colab": {
     "base_uri": "https://localhost:8080/",
     "height": 0
    },
    "colab_type": "code",
    "id": "FsIKEX3k9tGM",
    "outputId": "ae6fbfbd-4715-4cdc-9344-4d9a373e3aa2"
   },
   "outputs": [],
   "source": [
    "%%read_sql\n",
    "SELECT Sex, COUNT(*) AS cnt\n",
    "FROM Profiles\n",
    "GROUP BY Sex"
   ]
  },
  {
   "attachments": {},
   "cell_type": "markdown",
   "metadata": {
    "colab_type": "text",
    "id": "NZTYMSH_9tGQ"
   },
   "source": [
    "#### List the number of students for each political view"
   ]
  },
  {
   "cell_type": "code",
   "execution_count": null,
   "metadata": {
    "colab": {
     "base_uri": "https://localhost:8080/",
     "height": 0
    },
    "colab_type": "code",
    "id": "ez3iC8Gw9tGQ",
    "outputId": "841ac63a-d7cc-4997-8371-bd5436dee757"
   },
   "outputs": [],
   "source": [
    "%%read_sql\n",
    "SELECT PoliticalViews, COUNT(*) AS cnt\n",
    "FROM Profiles\n",
    "GROUP BY PoliticalViews"
   ]
  },
  {
   "attachments": {},
   "cell_type": "markdown",
   "metadata": {
    "colab_type": "text",
    "id": "ZGc-OAiGG2c0"
   },
   "source": [
    "#### List the number of males and female students for each political view"
   ]
  },
  {
   "cell_type": "code",
   "execution_count": null,
   "metadata": {
    "colab": {
     "base_uri": "https://localhost:8080/",
     "height": 0
    },
    "colab_type": "code",
    "id": "MDSiqEro9tGT",
    "outputId": "e78a3465-9dc3-4594-d1f6-8a3a80d3e56d"
   },
   "outputs": [],
   "source": [
    "%%read_sql\n",
    "SELECT Sex, PoliticalViews, COUNT(*) AS cnt\n",
    "FROM Profiles\n",
    "GROUP BY Sex, PoliticalViews"
   ]
  },
  {
   "cell_type": "code",
   "execution_count": null,
   "metadata": {},
   "outputs": [],
   "source": [
    "%%read_sql\n",
    "SELECT Sex, PoliticalViews, COUNT(*) AS cnt\n",
    "FROM Profiles\n",
    "WHERE Sex IS NOT NULL AND PoliticalViews IS NOT NULL\n",
    "GROUP BY Sex, PoliticalViews"
   ]
  },
  {
   "attachments": {},
   "cell_type": "markdown",
   "metadata": {
    "colab_type": "text",
    "id": "z5nfbmRLLpy_"
   },
   "source": [
    "#### Find the most popular TV Shows and Books"
   ]
  },
  {
   "cell_type": "code",
   "execution_count": null,
   "metadata": {
    "colab": {
     "base_uri": "https://localhost:8080/",
     "height": 0
    },
    "colab_type": "code",
    "id": "Ft_nT9pILp8l",
    "outputId": "6c96d0bc-b9a5-479b-dcf5-854623b265e6"
   },
   "outputs": [],
   "source": [
    "%%read_sql\n",
    "SELECT Book, COUNT(*) AS cnt\n",
    "FROM FavoriteBooks\n",
    "GROUP BY Book\n",
    "ORDER BY cnt DESC\n",
    "LIMIT 25"
   ]
  },
  {
   "cell_type": "code",
   "execution_count": null,
   "metadata": {},
   "outputs": [],
   "source": [
    "%%read_sql\n",
    "SELECT TVShow, COUNT(*) AS cnt\n",
    "FROM FavoriteTVShows\n",
    "GROUP BY TVShow\n",
    "ORDER BY cnt DESC\n",
    "LIMIT 25"
   ]
  },
  {
   "attachments": {},
   "cell_type": "markdown",
   "metadata": {
    "colab_type": "text",
    "id": "Eo565rPPLqIb"
   },
   "source": [
    "#### Find the number of students in various relationship statuses"
   ]
  },
  {
   "cell_type": "code",
   "execution_count": null,
   "metadata": {
    "colab": {
     "base_uri": "https://localhost:8080/",
     "height": 0
    },
    "colab_type": "code",
    "id": "o6_tmYpULqQi",
    "outputId": "bac6e54f-7f72-4e35-a6ae-acfa928d16f3"
   },
   "outputs": [],
   "source": [
    "%%read_sql\n",
    "SELECT Status, COUNT(*) AS cnt\n",
    "FROM Relationship\n",
    "GROUP BY Status"
   ]
  },
  {
   "attachments": {},
   "cell_type": "markdown",
   "metadata": {
    "colab_type": "text",
    "id": "m4MjHIJMMY1T"
   },
   "source": [
    "#### Find the most popular majors (concentration)"
   ]
  },
  {
   "cell_type": "code",
   "execution_count": null,
   "metadata": {
    "colab": {
     "base_uri": "https://localhost:8080/",
     "height": 0
    },
    "colab_type": "code",
    "id": "zH6b_fA6MMTW",
    "outputId": "078ef530-6584-4911-f0c8-242671d00d1e"
   },
   "outputs": [],
   "source": [
    "%%read_sql\n",
    "SELECT Concentration, COUNT(*) AS cnt\n",
    "FROM Concentration\n",
    "GROUP BY Concentration\n",
    "ORDER BY cnt DESC"
   ]
  },
  {
   "attachments": {},
   "cell_type": "markdown",
   "metadata": {
    "colab_type": "text",
    "id": "_BpdNyeqMc-W"
   },
   "source": [
    "#### List the number of students per each birth year \n",
    "Use the `YEAR(date)` function to get the year value from a datetime column. Then (try to) List only years that have at least 10 students."
   ]
  },
  {
   "cell_type": "code",
   "execution_count": null,
   "metadata": {
    "colab": {
     "base_uri": "https://localhost:8080/",
     "height": 0
    },
    "colab_type": "code",
    "id": "ATQGgUA0MdG6",
    "outputId": "5383ab02-2dc8-4e10-bf62-20f950f33abb"
   },
   "outputs": [],
   "source": [
    "%%read_sql\n",
    "SELECT YEAR(Birthday) AS YoB, COUNT(*) AS cnt\n",
    "FROM Profiles\n",
    "WHERE Birthday IS NOT NULL\n",
    "GROUP BY YoB\n",
    "ORDER BY cnt DESC"
   ]
  },
  {
   "cell_type": "markdown",
   "metadata": {
    "colab_type": "text",
    "id": "qtJlwUaqSP1m"
   },
   "source": [
    "## `HAVING`"
   ]
  },
  {
   "cell_type": "markdown",
   "metadata": {
    "colab_type": "text",
    "id": "uRuIW4tkSUac"
   },
   "source": [
    "#### Switch to IMDb"
   ]
  },
  {
   "cell_type": "code",
   "execution_count": null,
   "metadata": {
    "colab": {
     "base_uri": "https://localhost:8080/",
     "height": 34
    },
    "colab_type": "code",
    "id": "1WMp8nSZSUnw",
    "outputId": "d5b49712-93dc-4ea7-8a48-b4ef915f781f"
   },
   "outputs": [],
   "source": [
    "%%read_sql\n",
    "USE imdb;"
   ]
  },
  {
   "attachments": {},
   "cell_type": "markdown",
   "metadata": {
    "colab_type": "text",
    "id": "BjW1KQylSqo1"
   },
   "source": [
    "#### Find the movies (just movie IDs) with more than 100 actors\n",
    "\n"
   ]
  },
  {
   "cell_type": "code",
   "execution_count": null,
   "metadata": {
    "colab": {
     "base_uri": "https://localhost:8080/",
     "height": 808
    },
    "colab_type": "code",
    "id": "spEB_YFdS5bJ",
    "outputId": "b91f86fc-bc44-400a-ae61-230150c06d51"
   },
   "outputs": [],
   "source": [
    "%%read_sql\n",
    "SELECT movie_id, \n",
    "    COUNT(*) AS num_roles,\n",
    "    COUNT(DISTINCT actor_id) AS num_actors\n",
    "FROM roles\n",
    "GROUP BY movie_id\n",
    "HAVING num_roles>100\n",
    "ORDER BY num_actors DESC"
   ]
  },
  {
   "cell_type": "code",
   "execution_count": null,
   "metadata": {},
   "outputs": [],
   "source": [
    "%%read_sql\n",
    "SELECT movie_id, \n",
    "    COUNT(*) AS num_roles,\n",
    "    COUNT(DISTINCT actor_id) AS num_actors\n",
    "FROM roles\n",
    "GROUP BY movie_id\n",
    "HAVING num_actors>100\n",
    "ORDER BY num_actors DESC"
   ]
  },
  {
   "attachments": {},
   "cell_type": "markdown",
   "metadata": {
    "colab_type": "text",
    "id": "f3vLsQUMSucj"
   },
   "source": [
    "#### Find the first names of actors that appear more than 1000 times"
   ]
  },
  {
   "cell_type": "code",
   "execution_count": null,
   "metadata": {
    "colab": {
     "base_uri": "https://localhost:8080/",
     "height": 724
    },
    "colab_type": "code",
    "id": "KEqE1DD3S54O",
    "outputId": "31aef8bf-11fb-4577-bff0-cc4ef5b5d055"
   },
   "outputs": [],
   "source": [
    "%%read_sql\n",
    "SELECT first_name, COUNT(*) AS cnt\n",
    "FROM actors\n",
    "GROUP BY first_name\n",
    "HAVING cnt>1000"
   ]
  },
  {
   "cell_type": "markdown",
   "metadata": {},
   "source": [
    "#### Find all the movie ids for movies that have more roles than actors (i.e, the same actor plays multiple roles in the movie)"
   ]
  },
  {
   "cell_type": "code",
   "execution_count": null,
   "metadata": {},
   "outputs": [],
   "source": [
    "%%read_sql\n",
    "SELECT movie_id, \n",
    "    COUNT(*) AS num_roles,\n",
    "    COUNT(DISTINCT actor_id) AS num_actors\n",
    "FROM roles\n",
    "GROUP BY movie_id\n",
    "HAVING num_roles<>num_actors\n",
    "ORDER BY num_actors DESC"
   ]
  },
  {
   "cell_type": "markdown",
   "metadata": {},
   "source": [
    "#### Find all the actor ids for actors that have more roles than actors (i.e, the same actor plays multiple roles in the movie)"
   ]
  },
  {
   "cell_type": "code",
   "execution_count": null,
   "metadata": {},
   "outputs": [],
   "source": [
    "%%read_sql\n",
    "SELECT actor_id, \n",
    "    COUNT(*) AS num_roles,\n",
    "    COUNT(DISTINCT movie_id) AS num_movies\n",
    "FROM roles\n",
    "GROUP BY actor_id\n",
    "HAVING num_roles<>num_movies\n",
    "ORDER BY num_movies DESC"
   ]
  },
  {
   "cell_type": "markdown",
   "metadata": {},
   "source": [
    "#### Find data quality issues: In the movies_genres table, the same movie id may be associated multiple times with the same genre. Identify these cases."
   ]
  },
  {
   "cell_type": "code",
   "execution_count": null,
   "metadata": {},
   "outputs": [],
   "source": [
    "%%read_sql\n",
    "SELECT movie_id, genre, COUNT(*) AS cnt\n",
    "FROM movies_genres\n",
    "GROUP BY movie_id, genre \n",
    "HAVING cnt>1\n",
    "ORDER BY cnt DESC"
   ]
  },
  {
   "cell_type": "markdown",
   "metadata": {
    "colab_type": "text",
    "id": "rPVldPt9Sufi"
   },
   "source": [
    "### Compare `WHERE` and `HAVING`\n"
   ]
  },
  {
   "cell_type": "code",
   "execution_count": null,
   "metadata": {},
   "outputs": [],
   "source": [
    "%%read_sql\n",
    "SELECT COUNT(*), COUNT(rank)\n",
    "FROM movies\n"
   ]
  },
  {
   "cell_type": "code",
   "execution_count": null,
   "metadata": {
    "colab": {
     "base_uri": "https://localhost:8080/",
     "height": 418
    },
    "colab_type": "code",
    "id": "7M05OvjQS6WN",
    "outputId": "e4a8d2d1-7d60-4ea6-d3b8-617342068bfa"
   },
   "outputs": [],
   "source": [
    "%%read_sql\n",
    "SELECT COUNT(*), COUNT(rank)\n",
    "FROM movies\n",
    "WHERE rank IS NOT NULL\n"
   ]
  },
  {
   "cell_type": "markdown",
   "metadata": {},
   "source": [
    "## `JOIN` and `GROUP BY` together"
   ]
  },
  {
   "cell_type": "markdown",
   "metadata": {},
   "source": [
    "#### For each movie genre, list the average rating of the movies from year 2000. \n",
    "\n",
    "Also list:\n",
    "* the maximum and minimum ratings\n",
    "* the standard deviation of the ratings\n",
    "* the number of rated movies and the total number of movies\n",
    "\n",
    "\n"
   ]
  },
  {
   "cell_type": "code",
   "execution_count": null,
   "metadata": {},
   "outputs": [],
   "source": [
    "%%read_sql\n",
    "SELECT G.genre, \n",
    "    MAX(M.rank) AS max_rating,\n",
    "    MIN(M.rank) AS min_rating,\n",
    "    ROUND(AVG(M.rank),2) AS avg_rating,\n",
    "    ROUND(STDDEV(M.rank),2) AS std_rating,\n",
    "    COUNT(*) AS num_movies,\n",
    "    COUNT(M.rank) AS rated_movies\n",
    "FROM movies M\n",
    "    INNER JOIN movies_genres G ON M.id = G.movie_id\n",
    "WHERE M.year = 2000\n",
    "GROUP BY G.genre\n",
    "ORDER BY avg_rating DESC"
   ]
  },
  {
   "cell_type": "markdown",
   "metadata": {},
   "source": [
    "#### For each director, compute:\n",
    "* The number of rated and total number of movies\n",
    "* The average, min, max, and standard deviation of the movie ratings\n",
    "* Limit the results to directors who directed at least 40 movies, with at least 30 rated movies\n",
    "\n",
    "\n"
   ]
  },
  {
   "cell_type": "code",
   "execution_count": null,
   "metadata": {},
   "outputs": [],
   "source": [
    "%%read_sql\n",
    "SELECT D.*,\n",
    "    COUNT(*) AS num_movies,\n",
    "    COUNT(M.rank) AS rated_movies,\n",
    "    MAX(M.rank) AS max_rating,\n",
    "    MIN(M.rank) AS min_rating,\n",
    "    ROUND(AVG(M.rank),2) AS avg_rating,\n",
    "    ROUND(STDDEV(M.rank),2) AS std_rating\n",
    "FROM directors D\n",
    "    JOIN movies_directors MD ON D.id = MD.director_id\n",
    "    JOIN movies M ON M.id = MD.movie_id\n",
    "GROUP BY \n",
    "    D.id\n",
    "HAVING \n",
    "    num_movies>40\n",
    "    AND rated_movies>30\n",
    "ORDER BY \n",
    "    avg_rating DESC"
   ]
  },
  {
   "cell_type": "markdown",
   "metadata": {},
   "source": [
    "#### What roles have the best movie ratings? \n",
    "* Do not include movies without ratings in the calculations for number of movies\n",
    "* Limit to only roles that appear in at least 10 distinct movies\n",
    "* Limit only to roles played by at least 10 distinct  actors"
   ]
  },
  {
   "cell_type": "code",
   "execution_count": null,
   "metadata": {},
   "outputs": [],
   "source": [
    "%%read_sql\n",
    "SELECT R.role,\n",
    "    COUNT(*) AS num_roles,\n",
    "    COUNT(DISTINCT movie_id) AS num_movies,\n",
    "    COUNT(DISTINCT actor_id) AS num_actors,\n",
    "    MAX(M.rank) AS max_rating,\n",
    "    MIN(M.rank) AS min_rating,\n",
    "    ROUND(AVG(M.rank),2) AS avg_rating,\n",
    "    ROUND(STDDEV(M.rank),2) AS std_rating\n",
    "FROM roles R\n",
    "    JOIN movies M ON M.id = R.movie_id\n",
    "WHERE\n",
    "    M.rank IS NOT NULL\n",
    "GROUP BY \n",
    "    R.role\n",
    "HAVING\n",
    "    num_movies>=10\n",
    "    AND\n",
    "    num_actors>=10\n",
    "ORDER BY \n",
    "    avg_rating DESC\n",
    "LIMIT 50"
   ]
  }
 ],
 "metadata": {
  "colab": {
   "name": "A-Navigation_Queries.ipynb",
   "provenance": []
  },
  "kernelspec": {
   "display_name": "Python 3",
   "language": "python",
   "name": "python3"
  },
  "language_info": {
   "codemirror_mode": {
    "name": "ipython",
    "version": 3
   },
   "file_extension": ".py",
   "mimetype": "text/x-python",
   "name": "python",
   "nbconvert_exporter": "python",
   "pygments_lexer": "ipython3",
   "version": "3.6.9"
  }
 },
 "nbformat": 4,
 "nbformat_minor": 1
}
