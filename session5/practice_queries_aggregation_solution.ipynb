{
  "nbformat": 4,
  "nbformat_minor": 0,
  "metadata": {
    "anaconda-cloud": {},
    "colab": {
      "name": "Practice Aggregate Queries: Solutions",
      "provenance": [],
      "collapsed_sections": [],
      "include_colab_link": true
    },
    "kernelspec": {
      "display_name": "Python 3",
      "language": "python",
      "name": "python3"
    },
    "language_info": {
      "codemirror_mode": {
        "name": "ipython",
        "version": 3
      },
      "file_extension": ".py",
      "mimetype": "text/x-python",
      "name": "python",
      "nbconvert_exporter": "python",
      "pygments_lexer": "ipython3",
      "version": "3.8.2"
    }
  },
  "cells": [
    {
      "cell_type": "markdown",
      "metadata": {
        "id": "view-in-github",
        "colab_type": "text"
      },
      "source": [
        "<a href=\"https://colab.research.google.com/github/ipeirotis/introduction-to-databases/blob/master/session5/practice_queries_aggregation_solution.ipynb\" target=\"_parent\"><img src=\"https://colab.research.google.com/assets/colab-badge.svg\" alt=\"Open In Colab\"/></a>"
      ]
    },
    {
      "cell_type": "markdown",
      "metadata": {
        "id": "SkZqhwkf8NUg"
      },
      "source": [
        "# Session 5: Practice Aggregate Queries: Solutions\n",
        "\n",
        "\n",
        "In this segment we will connect to the *Restaurants* database."
      ]
    },
    {
      "cell_type": "markdown",
      "metadata": {
        "id": "5u_6yLTDT6Kn"
      },
      "source": [
        "## Setup"
      ]
    },
    {
      "cell_type": "code",
      "metadata": {
        "id": "O9o9NsaO8hMy"
      },
      "source": [
        "# !sudo pip3 install PyMySQL sqlalchemy sql_magic"
      ],
      "execution_count": null,
      "outputs": []
    },
    {
      "cell_type": "code",
      "metadata": {
        "id": "EkIL-uRK8NUi"
      },
      "source": [
        "# This code creates a connection to the database\n",
        "from sqlalchemy import create_engine\n",
        "\n",
        "conn_string = \"mysql+pymysql://{user}:{password}@{host}/{db}?charset={encoding}\".format(\n",
        "    host=\"db.ipeirotis.org\",\n",
        "    user=\"student\",\n",
        "    db=\"music\",\n",
        "    password=\"dwdstudent2015\",\n",
        "    encoding=\"utf8mb4\",\n",
        ")\n",
        "\n",
        "engine = create_engine(conn_string)\n",
        "con = engine.connect()"
      ],
      "execution_count": null,
      "outputs": []
    },
    {
      "cell_type": "code",
      "metadata": {
        "id": "z7muzQXTUFkU"
      },
      "source": [
        "%reload_ext sql_magic"
      ],
      "execution_count": null,
      "outputs": []
    },
    {
      "cell_type": "code",
      "metadata": {
        "id": "uHRIPxBvUGfC"
      },
      "source": [
        "%config SQL.conn_name = 'engine'"
      ],
      "execution_count": null,
      "outputs": []
    },
    {
      "cell_type": "markdown",
      "metadata": {
        "id": "H0hhloRRUJlV"
      },
      "source": [
        "## Question 1: How many Manhattan restaurants are listed in your database"
      ]
    },
    {
      "cell_type": "code",
      "metadata": {
        "id": "eL_CnyPRUSGI"
      },
      "source": [
        "%%read_sql\n",
        "SELECT borough, COUNT(*) AS num_restaurants\n",
        "FROM Restaurant\n",
        "WHERE borough = 'Manhattan'\n",
        "GROUP BY borough"
      ],
      "execution_count": null,
      "outputs": []
    },
    {
      "cell_type": "markdown",
      "metadata": {
        "id": "McZQXcp__OCu"
      },
      "source": [
        "## Question 2: Output the affiliation (or '-' for freelancers) and how many critics are associated with this affiliation;"
      ]
    },
    {
      "cell_type": "code",
      "metadata": {
        "id": "W7GayX2v_Nl8"
      },
      "source": [
        "%%read_sql\n",
        "SELECT affiliation, COUNT(*) AS num_critics\n",
        "FROM Critic\n",
        "GROUP BY affiliation"
      ],
      "execution_count": null,
      "outputs": []
    },
    {
      "cell_type": "markdown",
      "metadata": {
        "id": "uhU3fLp9RoiR"
      },
      "source": [
        "If we want to replace the NULL value in affiliation with `-`,  we use the `COALESCE` command, that replaces NULL with the value that we pass as parameter."
      ]
    },
    {
      "cell_type": "code",
      "metadata": {
        "id": "QSyuhaZZRY-O"
      },
      "source": [
        "%%read_sql\n",
        "SELECT COALESCE(affiliation, '-') AS affiliation, COUNT(*) AS num_critics\n",
        "FROM Critic\n",
        "GROUP BY affiliation"
      ],
      "execution_count": null,
      "outputs": []
    },
    {
      "cell_type": "markdown",
      "metadata": {
        "id": "Hz_1yX-EUeBQ"
      },
      "source": [
        "## Question 3: Output the critic id together with the maximal star rating ever issued by this critic;"
      ]
    },
    {
      "cell_type": "code",
      "metadata": {
        "id": "HXy0Ygy3Uf_m"
      },
      "source": [
        "%%read_sql\n",
        "SELECT cID, MAX(starRating) AS maxRating\n",
        "FROM Rating\n",
        "GROUP BY cID"
      ],
      "execution_count": null,
      "outputs": []
    },
    {
      "cell_type": "markdown",
      "metadata": {
        "id": "UozymxRTW-wx"
      },
      "source": [
        "## Question 4: Output the critic id and the restaurant code together with the maximal star rating ever issued by this critic for this restaurant;"
      ]
    },
    {
      "cell_type": "code",
      "metadata": {
        "id": "ZwtqsRoGW-wz"
      },
      "source": [
        "%%read_sql\n",
        "SELECT cID, restCode, MAX(starRating) AS maxRating\n",
        "FROM Rating\n",
        "GROUP BY cID, restCode"
      ],
      "execution_count": null,
      "outputs": []
    },
    {
      "cell_type": "markdown",
      "metadata": {
        "id": "8NFSCApmXGZ8"
      },
      "source": [
        "## Question 5: For every borough, cuisine pair output the minimal price and order the output by borough in the ascending order (consider only the restaurants outside of Manhattan);"
      ]
    },
    {
      "cell_type": "code",
      "metadata": {
        "id": "bcr5iccDXGZ9"
      },
      "source": [
        "%%read_sql\n",
        "SELECT borough, cuisine, MIN(avgPrice) AS minPrice\n",
        "FROM Restaurant\n",
        "WHERE borough <> \"Manhattan\"\n",
        "GROUP BY borough, cuisine"
      ],
      "execution_count": null,
      "outputs": []
    },
    {
      "cell_type": "markdown",
      "metadata": {
        "id": "nezZleqbUeI_"
      },
      "source": [
        "## Question 6: For every borough, cuisine pair output the minimal price where the minimal price is greater than 100"
      ]
    },
    {
      "cell_type": "code",
      "metadata": {
        "id": "rNfpSzT3UgrM"
      },
      "source": [
        "%%read_sql\n",
        "SELECT borough, cuisine, MIN(avgPrice) AS minPrice\n",
        "FROM Restaurant\n",
        "GROUP BY borough, cuisine\n",
        "HAVING minPrice>100"
      ],
      "execution_count": null,
      "outputs": []
    },
    {
      "cell_type": "markdown",
      "metadata": {
        "id": "_j2bCzADXODe"
      },
      "source": [
        "## Question 7: For every borough, cuisine pair output the minimal price where the minimal price is greater than 100 and order the output by the price value in the descending order."
      ]
    },
    {
      "cell_type": "code",
      "metadata": {
        "id": "o9h005rlXODf"
      },
      "source": [
        "%%read_sql\n",
        "SELECT borough, cuisine, MIN(avgPrice) AS minPrice\n",
        "FROM Restaurant\n",
        "GROUP BY borough, cuisine\n",
        "HAVING minPrice>100\n",
        "ORDER BY minPrice DESC"
      ],
      "execution_count": null,
      "outputs": []
    }
  ]
}