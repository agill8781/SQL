{
 "cells": [
  {
   "cell_type": "markdown",
   "metadata": {
    "colab_type": "text",
    "id": "view-in-github"
   },
   "source": [
    "<a href=\"https://colab.research.google.com/github/ipeirotis/introduction-to-databases/blob/master/session5/assignment_aggregate_queries.ipynb\" target=\"_parent\"><img src=\"https://colab.research.google.com/assets/colab-badge.svg\" alt=\"Open In Colab\"/></a>"
   ]
  },
  {
   "cell_type": "markdown",
   "metadata": {
    "colab_type": "text",
    "id": "SkZqhwkf8NUg"
   },
   "source": [
    "# Session 5: Aggregate Queries Assignment\n",
    "\n",
    "\n",
    "In this segment we will connect to the *Music* database."
   ]
  },
  {
   "cell_type": "markdown",
   "metadata": {
    "colab_type": "text",
    "id": "5u_6yLTDT6Kn"
   },
   "source": [
    "## Setup"
   ]
  },
  {
   "cell_type": "code",
   "execution_count": null,
   "metadata": {
    "colab": {},
    "colab_type": "code",
    "id": "O9o9NsaO8hMy"
   },
   "outputs": [],
   "source": [
    "!apt-get install python3-mysqldb\n",
    "!pip install sqlalchemy sql_magic"
   ]
  },
  {
   "cell_type": "code",
   "execution_count": null,
   "metadata": {
    "colab": {},
    "colab_type": "code",
    "id": "EkIL-uRK8NUi"
   },
   "outputs": [],
   "source": [
    "# This code creates a connection to the database\n",
    "from sqlalchemy import create_engine\n",
    "\n",
    "conn_string = 'mysql://{user}:{password}@{host}/{db}?charset={encoding}'.format(\n",
    "    host = 'db.ipeirotis.org', \n",
    "    user = 'student',\n",
    "    db = 'music',\n",
    "    password = 'dwdstudent2015',\n",
    "    encoding = 'utf8mb4')\n",
    "\n",
    "engine = create_engine(conn_string)\n",
    "con = engine.connect()"
   ]
  },
  {
   "cell_type": "code",
   "execution_count": null,
   "metadata": {
    "colab": {},
    "colab_type": "code",
    "id": "z7muzQXTUFkU"
   },
   "outputs": [],
   "source": [
    "%reload_ext sql_magic"
   ]
  },
  {
   "cell_type": "code",
   "execution_count": null,
   "metadata": {
    "colab": {},
    "colab_type": "code",
    "id": "uHRIPxBvUGfC"
   },
   "outputs": [],
   "source": [
    "%config SQL.conn_name = 'engine'"
   ]
  },
  {
   "cell_type": "code",
   "execution_count": null,
   "metadata": {
    "colab": {},
    "colab_type": "code",
    "id": "sWa1Uv_6X9zi"
   },
   "outputs": [],
   "source": [
    "%%read_sql\n",
    "SELECT * \n",
    "FROM played"
   ]
  },
  {
   "cell_type": "markdown",
   "metadata": {
    "colab_type": "text",
    "id": "pJIqxXsU3Ldx"
   },
   "source": [
    "## **ATTENTION: Remember that the primary key for an album consists of both the artist id and the album id. Similarly, the primary key for the tracks consists of the track id, the album id, and the artist id.**"
   ]
  },
  {
   "cell_type": "markdown",
   "metadata": {
    "colab_type": "text",
    "id": "H0hhloRRUJlV"
   },
   "source": [
    "## Question 1: Count the number of artists in the database"
   ]
  },
  {
   "cell_type": "code",
   "execution_count": null,
   "metadata": {
    "colab": {},
    "colab_type": "code",
    "id": "eL_CnyPRUSGI"
   },
   "outputs": [],
   "source": [
    "%%read_sql\n"
   ]
  },
  {
   "cell_type": "markdown",
   "metadata": {
    "colab_type": "text",
    "id": "McZQXcp__OCu"
   },
   "source": [
    "## Question 2: Count the number of tracks in the database"
   ]
  },
  {
   "cell_type": "code",
   "execution_count": null,
   "metadata": {
    "colab": {},
    "colab_type": "code",
    "id": "W7GayX2v_Nl8"
   },
   "outputs": [],
   "source": []
  },
  {
   "cell_type": "markdown",
   "metadata": {
    "colab_type": "text",
    "id": "Hz_1yX-EUeBQ"
   },
   "source": [
    "## Question 3: Show the average and standard deviation of the track length"
   ]
  },
  {
   "cell_type": "code",
   "execution_count": null,
   "metadata": {
    "colab": {},
    "colab_type": "code",
    "id": "HXy0Ygy3Uf_m"
   },
   "outputs": [],
   "source": [
    "%%read_sql\n"
   ]
  },
  {
   "cell_type": "markdown",
   "metadata": {
    "colab_type": "text",
    "id": "UozymxRTW-wx"
   },
   "source": [
    "## Question 4: Show the earliest and latest date that the user has played a song"
   ]
  },
  {
   "cell_type": "code",
   "execution_count": null,
   "metadata": {
    "colab": {},
    "colab_type": "code",
    "id": "ZwtqsRoGW-wz"
   },
   "outputs": [],
   "source": [
    "%%read_sql\n"
   ]
  },
  {
   "cell_type": "markdown",
   "metadata": {
    "colab_type": "text",
    "id": "8NFSCApmXGZ8"
   },
   "source": [
    "## Question 5: For each artist id, count the number of albums in the database. You only need to show the id of the artist, not the name of the artist."
   ]
  },
  {
   "cell_type": "code",
   "execution_count": null,
   "metadata": {
    "colab": {},
    "colab_type": "code",
    "id": "bcr5iccDXGZ9"
   },
   "outputs": [],
   "source": [
    "%%read_sql\n"
   ]
  },
  {
   "cell_type": "markdown",
   "metadata": {
    "colab_type": "text",
    "id": "nezZleqbUeI_"
   },
   "source": [
    "## Question 6: For each album id, count the number of tracks for that album. You only need to show the id of the album, not its name."
   ]
  },
  {
   "cell_type": "code",
   "execution_count": null,
   "metadata": {
    "colab": {},
    "colab_type": "code",
    "id": "rNfpSzT3UgrM"
   },
   "outputs": [],
   "source": [
    "%%read_sql\n"
   ]
  },
  {
   "cell_type": "markdown",
   "metadata": {
    "colab_type": "text",
    "id": "_j2bCzADXODe"
   },
   "source": [
    "## Question 7: For each album id, show the total length of all the tracks in the album."
   ]
  },
  {
   "cell_type": "code",
   "execution_count": null,
   "metadata": {
    "colab": {},
    "colab_type": "code",
    "id": "o9h005rlXODf"
   },
   "outputs": [],
   "source": [
    "%%read_sql\n"
   ]
  },
  {
   "cell_type": "markdown",
   "metadata": {
    "colab_type": "text",
    "id": "HF9cHpSDXaZd"
   },
   "source": [
    "## Question 8: List all the album id's, where the total album length (across all the album's tracks) is longer than 60 minutes."
   ]
  },
  {
   "cell_type": "code",
   "execution_count": null,
   "metadata": {
    "colab": {},
    "colab_type": "code",
    "id": "mvLQdbdiXSmw"
   },
   "outputs": [],
   "source": [
    "%%read_sql"
   ]
  },
  {
   "cell_type": "markdown",
   "metadata": {
    "colab_type": "text",
    "id": "ntj5f4n8U3dT"
   },
   "source": [
    "## Question 9: Find all track names that appear in more than one album, and show how many artists used the same track name (if any)."
   ]
  },
  {
   "cell_type": "code",
   "execution_count": null,
   "metadata": {
    "colab": {},
    "colab_type": "code",
    "id": "mPCpyhbwU3dV"
   },
   "outputs": [],
   "source": [
    "%%read_sql"
   ]
  },
  {
   "cell_type": "markdown",
   "metadata": {
    "colab_type": "text",
    "id": "23bSA8IUU1Og"
   },
   "source": [
    "## Question 10: For each artist id, list the first and the last time that a user listened to a song by this artist."
   ]
  },
  {
   "cell_type": "code",
   "execution_count": null,
   "metadata": {
    "colab": {},
    "colab_type": "code",
    "id": "hTD97qjaU1Oi"
   },
   "outputs": [],
   "source": [
    "%%read_sql "
   ]
  }
 ],
 "metadata": {
  "anaconda-cloud": {},
  "colab": {
   "collapsed_sections": [],
   "include_colab_link": true,
   "name": "Session 5: Aggregate Queries Assignment",
   "provenance": []
  },
  "kernelspec": {
   "display_name": "Python 3",
   "language": "python",
   "name": "python3"
  },
  "language_info": {
   "codemirror_mode": {
    "name": "ipython",
    "version": 3
   },
   "file_extension": ".py",
   "mimetype": "text/x-python",
   "name": "python",
   "nbconvert_exporter": "python",
   "pygments_lexer": "ipython3",
   "version": "3.6.6"
  }
 },
 "nbformat": 4,
 "nbformat_minor": 0
}
