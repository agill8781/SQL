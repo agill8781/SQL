{
 "cells": [
  {
   "cell_type": "markdown",
   "metadata": {
    "colab_type": "text",
    "id": "view-in-github"
   },
   "source": [
    "<a href=\"https://colab.research.google.com/github/ipeirotis/introduction-to-databases/blob/master/session5/practice_queries_join_and_aggregation_solutions.ipynb\" target=\"_parent\"><img src=\"https://colab.research.google.com/assets/colab-badge.svg\" alt=\"Open In Colab\"/></a>"
   ]
  },
  {
   "cell_type": "markdown",
   "metadata": {
    "colab_type": "text",
    "id": "SkZqhwkf8NUg"
   },
   "source": [
    "# Session 5: Practice Aggregate+Join Queries: Solutions\n",
    "\n",
    "\n",
    "In this segment we will connect to the *Restaurants* database."
   ]
  },
  {
   "cell_type": "markdown",
   "metadata": {
    "colab_type": "text",
    "id": "5u_6yLTDT6Kn"
   },
   "source": [
    "## Setup"
   ]
  },
  {
   "cell_type": "code",
   "execution_count": null,
   "metadata": {
    "colab": {},
    "colab_type": "code",
    "id": "O9o9NsaO8hMy"
   },
   "outputs": [],
   "source": [
    "!apt-get install python3-mysqldb\n",
    "!pip install sqlalchemy sql_magic"
   ]
  },
  {
   "cell_type": "code",
   "execution_count": null,
   "metadata": {
    "colab": {},
    "colab_type": "code",
    "id": "EkIL-uRK8NUi"
   },
   "outputs": [],
   "source": [
    "# This code creates a connection to the database\n",
    "from sqlalchemy import create_engine\n",
    "\n",
    "conn_string = 'mysql://{user}:{password}@{host}/{db}?charset={encoding}'.format(\n",
    "    host = 'db.ipeirotis.org', \n",
    "    user = 'student',\n",
    "    db = 'restaurants',\n",
    "    password = 'dwdstudent2015',\n",
    "    encoding = 'utf8mb4')\n",
    "\n",
    "engine = create_engine(conn_string)\n",
    "con = engine.connect()"
   ]
  },
  {
   "cell_type": "code",
   "execution_count": null,
   "metadata": {
    "colab": {},
    "colab_type": "code",
    "id": "z7muzQXTUFkU"
   },
   "outputs": [],
   "source": [
    "%reload_ext sql_magic"
   ]
  },
  {
   "cell_type": "code",
   "execution_count": null,
   "metadata": {
    "colab": {},
    "colab_type": "code",
    "id": "uHRIPxBvUGfC"
   },
   "outputs": [],
   "source": [
    "%config SQL.conn_name = 'engine'"
   ]
  },
  {
   "cell_type": "markdown",
   "metadata": {
    "colab_type": "text",
    "id": "H0hhloRRUJlV"
   },
   "source": [
    "## Question 1: Output the restaurant name together with the number of reviews submitted for this restaurant."
   ]
  },
  {
   "cell_type": "markdown",
   "metadata": {
    "colab_type": "text",
    "id": "kwraKNb8aZjd"
   },
   "source": [
    "Let's run first the join query, and look at the table.\n",
    "\n",
    "This will be the table on which the GROUP BY query will operate.\n",
    "\n",
    "We order by `restName` to visually illustrate the groups that will be created."
   ]
  },
  {
   "cell_type": "code",
   "execution_count": null,
   "metadata": {
    "colab": {},
    "colab_type": "code",
    "id": "QZjEITHKaSlT"
   },
   "outputs": [],
   "source": [
    "%%read_sql\n",
    "SELECT *\n",
    "FROM Restaurant R INNER JOIN Rating T ON R.restCode=T.restCode\n",
    "ORDER BY restName"
   ]
  },
  {
   "cell_type": "markdown",
   "metadata": {
    "colab_type": "text",
    "id": "B3GCj21VcD_9"
   },
   "source": [
    "Now notice the output when we use a LEFT JOIN instead of an INNER JOIN. Notice the extra restaurants that appear, which have received no reviews (and therefore the `code` and `cID` are NULL)"
   ]
  },
  {
   "cell_type": "code",
   "execution_count": null,
   "metadata": {
    "colab": {},
    "colab_type": "code",
    "id": "9EtFQf2NcCzq"
   },
   "outputs": [],
   "source": [
    "%%read_sql\n",
    "SELECT *\n",
    "FROM Restaurant R LEFT JOIN Rating T ON R.restCode=T.restCode\n",
    "ORDER BY restName"
   ]
  },
  {
   "cell_type": "markdown",
   "metadata": {
    "colab_type": "text",
    "id": "ILA0T03xbT1Z"
   },
   "source": [
    "We now execute the GROUP BY. Notice how we use the `COUNT` command to count the total number of reviews, and the reviews with comments. Since this is an `INNER JOIN`, the `COUNT(*)` and `COUNT(code)` return the same values."
   ]
  },
  {
   "cell_type": "code",
   "execution_count": null,
   "metadata": {
    "colab": {},
    "colab_type": "code",
    "id": "eL_CnyPRUSGI"
   },
   "outputs": [],
   "source": [
    "%%read_sql\n",
    "SELECT restName, \n",
    "    COUNT(*) AS cnt, \n",
    "    COUNT(code) AS num_reviews, \n",
    "    COUNT(comments) AS num_reviews_with_comments\n",
    "FROM Restaurant R INNER JOIN Rating T ON R.restCode=T.restCode\n",
    "GROUP BY restName"
   ]
  },
  {
   "cell_type": "markdown",
   "metadata": {
    "colab_type": "text",
    "id": "TAX86BZ-cdsn"
   },
   "source": [
    "Now, let's switch to a LEFT JOIN. Notice an important change. We cannot rely on `COUNT(*)` anymore to count the number of reviews, and we need to be using the `COUNT(code)`. For example `Nisi` has one review: both the `cnt` and the `num_reviews` column are 1. However, for the `Don Peppe`, which has no reviews, we see that `cnt` is still 1, but `num_reviews` is 0."
   ]
  },
  {
   "cell_type": "code",
   "execution_count": null,
   "metadata": {
    "colab": {},
    "colab_type": "code",
    "id": "uOIAW9jscSzM"
   },
   "outputs": [],
   "source": [
    "%%read_sql\n",
    "SELECT restName, \n",
    "    COUNT(*) AS cnt, \n",
    "    COUNT(code) AS num_reviews, \n",
    "    COUNT(comments) AS num_reviews_with_comments\n",
    "FROM Restaurant R LEFT JOIN Rating T ON R.restCode=T.restCode\n",
    "GROUP BY restName"
   ]
  },
  {
   "cell_type": "code",
   "execution_count": null,
   "metadata": {
    "colab": {},
    "colab_type": "code",
    "id": "FQB0fIIGvNZu"
   },
   "outputs": [],
   "source": [
    "%%read_sql\n",
    "SELECT restName, cuisine, borough,\n",
    "    COUNT(*) AS cnt, \n",
    "    COUNT(code) AS num_reviews, \n",
    "    COUNT(comments) AS num_reviews_with_comments\n",
    "FROM Restaurant R LEFT JOIN Rating T ON R.restCode=T.restCode\n",
    "GROUP BY restName, cuisine, borough\n",
    "ORDER BY cuisine, borough"
   ]
  },
  {
   "cell_type": "markdown",
   "metadata": {
    "colab_type": "text",
    "id": "McZQXcp__OCu"
   },
   "source": [
    "## Question 2: For every Manhattan restaurant output its name and the number of reviews submitted for this restaurant."
   ]
  },
  {
   "cell_type": "code",
   "execution_count": null,
   "metadata": {
    "colab": {},
    "colab_type": "code",
    "id": "W7GayX2v_Nl8"
   },
   "outputs": [],
   "source": [
    "%%read_sql\n",
    "SELECT restName, COUNT(code) AS num_reviews, COUNT(comments) AS num_reviews_with_comments\n",
    "FROM Restaurant R LEFT JOIN Rating T ON R.restCode=T.restCode\n",
    "WHERE borough = 'Manhattan'\n",
    "GROUP BY restName"
   ]
  },
  {
   "cell_type": "markdown",
   "metadata": {
    "colab_type": "text",
    "id": "Hz_1yX-EUeBQ"
   },
   "source": [
    "## Question 3: For every restaurant that was reviewed more than once output it name and the number or reviews submitted for this restaurant."
   ]
  },
  {
   "cell_type": "code",
   "execution_count": null,
   "metadata": {
    "colab": {},
    "colab_type": "code",
    "id": "HXy0Ygy3Uf_m"
   },
   "outputs": [],
   "source": [
    "%%read_sql\n",
    "SELECT restName, COUNT(code) AS num_reviews, COUNT(comments) AS num_reviews_with_comments\n",
    "FROM Restaurant R LEFT JOIN Rating T ON R.restCode=T.restCode\n",
    "GROUP BY restName\n",
    "HAVING num_reviews>1"
   ]
  },
  {
   "cell_type": "markdown",
   "metadata": {
    "colab_type": "text",
    "id": "UozymxRTW-wx"
   },
   "source": [
    "## Question 4: Output the critic's last name and the restaurant name together with the maximal star rating ever issued by this critic for this restaurant."
   ]
  },
  {
   "cell_type": "markdown",
   "metadata": {
    "colab_type": "text",
    "id": "wAqIzSNGfk9j"
   },
   "source": [
    "Again, let's execute first the JOIN of all the tables that we need, so that we can see the data that we will be aggregating. Since we want to organize by critic's last name and restaurant name, we also add the corresponding ORDER BY, so that we can visually group together the rows that we will be aggregating."
   ]
  },
  {
   "cell_type": "code",
   "execution_count": null,
   "metadata": {
    "colab": {},
    "colab_type": "code",
    "id": "ZwtqsRoGW-wz"
   },
   "outputs": [],
   "source": [
    "%%read_sql\n",
    "SELECT *\n",
    "FROM Critic C \n",
    "  INNER JOIN Rating R ON R.cID = C.cID\n",
    "  INNER JOIN Restaurant T ON T.restCode = R.restCode\n",
    "ORDER BY restName, lastN"
   ]
  },
  {
   "cell_type": "markdown",
   "metadata": {
    "colab_type": "text",
    "id": "2KH4AJvzgP_u"
   },
   "source": [
    "Now, let's report the number of reviews that a critic wrote for the restaurant, together with the mix and max ratings. Obviously, when there is only one review, the min and max ratings are the same."
   ]
  },
  {
   "cell_type": "code",
   "execution_count": null,
   "metadata": {
    "colab": {},
    "colab_type": "code",
    "id": "Uobp11rkfdOk"
   },
   "outputs": [],
   "source": [
    "%%read_sql\n",
    "SELECT restName, lastN, \n",
    "    COUNT(R.code) AS num_reviews, \n",
    "    MAX(R.starRating) AS maxRating, \n",
    "    MIN(R.starRating) AS minRating \n",
    "FROM Critic C \n",
    "  INNER JOIN Rating R ON R.cID = C.cID\n",
    "  INNER JOIN Restaurant T ON T.restCode = R.restCode\n",
    "GROUP BY restName, lastN\n",
    "ORDER BY restName, lastN"
   ]
  },
  {
   "cell_type": "markdown",
   "metadata": {
    "colab_type": "text",
    "id": "8NFSCApmXGZ8"
   },
   "source": [
    "## Question 5: For each cuisine-borough pair, output the number of the corresponding restaurants."
   ]
  },
  {
   "cell_type": "code",
   "execution_count": null,
   "metadata": {
    "colab": {},
    "colab_type": "code",
    "id": "bcr5iccDXGZ9"
   },
   "outputs": [],
   "source": [
    "%%read_sql\n",
    "SELECT cuisine, borough, COUNT(*) AS num_restaurants\n",
    "FROM Restaurant\n",
    "GROUP BY cuisine, borough"
   ]
  },
  {
   "cell_type": "markdown",
   "metadata": {
    "colab_type": "text",
    "id": "nezZleqbUeI_"
   },
   "source": [
    "## Question 6: For each NYT reporter, output the number of distinct restaurants this reporter reviewed."
   ]
  },
  {
   "cell_type": "code",
   "execution_count": null,
   "metadata": {
    "colab": {},
    "colab_type": "code",
    "id": "rNfpSzT3UgrM"
   },
   "outputs": [],
   "source": [
    "%%read_sql\n",
    "SELECT *\n",
    "FROM Critic C\n",
    "  INNER JOIN Rating R ON R.cID = C.cID\n",
    "ORDER BY C.cID, R.restCode"
   ]
  },
  {
   "cell_type": "markdown",
   "metadata": {
    "colab_type": "text",
    "id": "6O4EwRToibt0"
   },
   "source": [
    "Now let's execute the GROUP BY. Notice that we only GROUP by the `C.cID` which is the primary key for the table `Critic C`. Since the `cID` is the primary key for that table, we can also add in the SELECT clause the other attributes of the critic (which are unique for a given cID) without adding these attributes in the GROUP BY clause."
   ]
  },
  {
   "cell_type": "code",
   "execution_count": null,
   "metadata": {
    "colab": {},
    "colab_type": "code",
    "id": "YWIO7tvQh16s"
   },
   "outputs": [],
   "source": [
    "%%read_sql\n",
    "SELECT C.cID, \n",
    "  firstN, lastN, affiliation, \n",
    "  COUNT(DISTINCT R.restCode) AS num_distinct_restaurants\n",
    "FROM Critic C\n",
    "  INNER JOIN Rating R ON R.cID = C.cID\n",
    "GROUP BY C.cID"
   ]
  },
  {
   "cell_type": "code",
   "execution_count": null,
   "metadata": {
    "colab": {},
    "colab_type": "code",
    "id": "ISuJTDayiTS5"
   },
   "outputs": [],
   "source": [
    "%%read_sql\n",
    "SELECT C.cID, \n",
    "  firstN, lastN, affiliation, \n",
    "  COUNT(DISTINCT R.restCode) AS num_distinct_restaurants\n",
    "FROM Critic C\n",
    "  INNER JOIN Rating R ON R.cID = C.cID\n",
    "WHERE affiliation = 'NYT'\n",
    "GROUP BY C.cID"
   ]
  },
  {
   "cell_type": "markdown",
   "metadata": {
    "colab_type": "text",
    "id": "_j2bCzADXODe"
   },
   "source": [
    "## Question 7: For every news outlet, output the average star rating submitted by all the reviewers of this outlet. a. consider only Italian restaurants b. consider only Italian restaurants outside of Manhattan"
   ]
  },
  {
   "cell_type": "code",
   "execution_count": null,
   "metadata": {
    "colab": {},
    "colab_type": "code",
    "id": "o9h005rlXODf"
   },
   "outputs": [],
   "source": [
    "%%read_sql\n",
    "SELECT *\n",
    "FROM Critic C\n",
    "  INNER JOIN Rating R ON R.cID = C.cID\n",
    "  INNER JOIN Restaurant T ON T.restCode = R.restCode\n",
    "ORDER BY C.affiliation"
   ]
  },
  {
   "cell_type": "markdown",
   "metadata": {
    "colab_type": "text",
    "id": "OjtmFW39vk8U"
   },
   "source": [
    "Here is the same join as above, but now limited to Italian restaurants"
   ]
  },
  {
   "cell_type": "code",
   "execution_count": null,
   "metadata": {
    "colab": {},
    "colab_type": "code",
    "id": "XHXY6wEkuGES"
   },
   "outputs": [],
   "source": [
    "%%read_sql\n",
    "SELECT *\n",
    "FROM Critic C\n",
    "  INNER JOIN Rating R ON R.cID = C.cID\n",
    "  INNER JOIN Restaurant T ON T.restCode = R.restCode  \n",
    "WHERE cuisine = 'Italian'\n",
    "ORDER BY C.affiliation"
   ]
  },
  {
   "cell_type": "markdown",
   "metadata": {
    "colab_type": "text",
    "id": "0SOsIIepaAcd"
   },
   "source": [
    "If we limit to Italian restaurants outside Manhattan, you will see that we get nothing back, as there are no reviews for Italian restaurants outside Manhattan. (Notice that there *are* Italian restaurants outside Manhattan, but no reviews for these restaurants.)"
   ]
  },
  {
   "cell_type": "code",
   "execution_count": null,
   "metadata": {
    "colab": {},
    "colab_type": "code",
    "id": "nAHmBW2luLDY"
   },
   "outputs": [],
   "source": [
    "%%read_sql\n",
    "SELECT *\n",
    "FROM Critic C\n",
    "  INNER JOIN Rating R ON R.cID = C.cID\n",
    "  INNER JOIN Restaurant T ON T.restCode = R.restCode    \n",
    "WHERE cuisine = 'Italian' AND borough <> 'Manhattan'\n",
    "ORDER BY C.affiliation"
   ]
  },
  {
   "cell_type": "code",
   "execution_count": null,
   "metadata": {
    "colab": {},
    "colab_type": "code",
    "id": "Fuh0ziUB5f2k"
   },
   "outputs": [],
   "source": [
    "%%read_sql\n",
    "SELECT C.affiliation, COUNT(*) AS num_reviews, AVG(starRating) AS avgRating\n",
    "FROM Critic C\n",
    "  INNER JOIN Rating R ON R.cID = C.cID\n",
    "  INNER JOIN Restaurant T ON T.restCode = R.restCode  \n",
    "WHERE cuisine = 'Italian'  \n",
    "GROUP BY C.affiliation\n",
    "ORDER BY C.affiliation"
   ]
  },
  {
   "cell_type": "code",
   "execution_count": null,
   "metadata": {
    "colab": {},
    "colab_type": "code",
    "id": "vfpkBEmPvdk0"
   },
   "outputs": [],
   "source": [
    "%%read_sql\n",
    "SELECT C.affiliation, COUNT(*) AS num_reviews, AVG(starRating) AS avgRating\n",
    "FROM Critic C\n",
    "  INNER JOIN Rating R ON R.cID = C.cID\n",
    "  INNER JOIN Restaurant T ON T.restCode = R.restCode  \n",
    "WHERE cuisine = 'Italian'  AND borough <> 'Manhattan'\n",
    "GROUP BY C.affiliation\n",
    "ORDER BY C.affiliation"
   ]
  },
  {
   "cell_type": "markdown",
   "metadata": {
    "colab_type": "text",
    "id": "dFYmhG1DX3Ob"
   },
   "source": [
    "## Question 8: For every borough output the max star rating submitted for any restaurant within this borough (in which borough do you have the best restaurant)"
   ]
  },
  {
   "cell_type": "code",
   "execution_count": null,
   "metadata": {
    "colab": {},
    "colab_type": "code",
    "id": "F3nEhrb8FBjm"
   },
   "outputs": [],
   "source": [
    "%%read_sql\n",
    "SELECT *\n",
    "FROM Restaurant R \n",
    "  INNER JOIN Rating T ON T.restCode = R.restCode\n",
    "ORDER BY borough"
   ]
  },
  {
   "cell_type": "code",
   "execution_count": null,
   "metadata": {
    "colab": {},
    "colab_type": "code",
    "id": "CToQxJjeFDyJ"
   },
   "outputs": [],
   "source": [
    "%%read_sql\n",
    "SELECT borough, MAX(starRating) AS maxRating\n",
    "FROM Restaurant R \n",
    "  INNER JOIN Rating T ON T.restCode = R.restCode\n",
    "GROUP BY borough\n",
    "ORDER BY borough"
   ]
  },
  {
   "cell_type": "code",
   "execution_count": null,
   "metadata": {
    "colab": {},
    "colab_type": "code",
    "id": "oza36RHjX7Ij"
   },
   "outputs": [],
   "source": [
    "%%read_sql\n",
    "SELECT *\n",
    "FROM Restaurant R \n",
    "  LEFT JOIN Rating T ON T.restCode = R.restCode\n",
    "ORDER BY borough"
   ]
  },
  {
   "cell_type": "code",
   "execution_count": null,
   "metadata": {
    "colab": {},
    "colab_type": "code",
    "id": "48I66Fp4DTcP"
   },
   "outputs": [],
   "source": [
    "%%read_sql\n",
    "SELECT borough, MAX(starRating) AS maxRating\n",
    "FROM Restaurant R \n",
    "  LEFT JOIN Rating T ON T.restCode = R.restCode\n",
    "GROUP BY borough\n",
    "ORDER BY borough"
   ]
  }
 ],
 "metadata": {
  "anaconda-cloud": {},
  "colab": {
   "collapsed_sections": [],
   "include_colab_link": true,
   "name": "Practice Aggregate+Join Queries: Solutions",
   "provenance": []
  },
  "kernelspec": {
   "display_name": "Python 3",
   "language": "python",
   "name": "python3"
  },
  "language_info": {
   "codemirror_mode": {
    "name": "ipython",
    "version": 3
   },
   "file_extension": ".py",
   "mimetype": "text/x-python",
   "name": "python",
   "nbconvert_exporter": "python",
   "pygments_lexer": "ipython3",
   "version": "3.6.6"
  }
 },
 "nbformat": 4,
 "nbformat_minor": 0
}
