{
 "cells": [
  {
   "cell_type": "markdown",
   "metadata": {
    "colab_type": "text",
    "id": "QBeMTyL26ULI"
   },
   "source": [
    "# SQL: JoinQueries"
   ]
  },
  {
   "cell_type": "markdown",
   "metadata": {
    "colab_type": "text",
    "id": "w8oa_JjV7F_h"
   },
   "source": [
    "## Setup"
   ]
  },
  {
   "cell_type": "markdown",
   "metadata": {
    "colab_type": "text",
    "id": "0SuVR-1d7Jr4"
   },
   "source": [
    "We are now installing the necessary packages to interact with the MySQL database and issue SQL queries using the notebook."
   ]
  },
  {
   "cell_type": "code",
   "execution_count": null,
   "metadata": {
    "colab": {
     "base_uri": "https://localhost:8080/",
     "height": 874
    },
    "colab_type": "code",
    "id": "I6vMQAK86ipS",
    "outputId": "f00d993f-bd3b-4f07-fad1-139cb8e5fff5"
   },
   "outputs": [],
   "source": [
    "!sudo pip3 install -U -q PyMySQL sqlalchemy sql_magic"
   ]
  },
  {
   "cell_type": "code",
   "execution_count": null,
   "metadata": {
    "colab": {
     "base_uri": "https://localhost:8080/",
     "height": 17
    },
    "colab_type": "code",
    "id": "vOuWkjz36ULS",
    "outputId": "601dd859-d6e5-4ff5-819f-10dcec8019ba"
   },
   "outputs": [],
   "source": [
    "%reload_ext sql_magic"
   ]
  },
  {
   "cell_type": "code",
   "execution_count": null,
   "metadata": {
    "colab": {},
    "colab_type": "code",
    "id": "KE_bhLw16ULK"
   },
   "outputs": [],
   "source": [
    "from sqlalchemy import create_engine\n",
    "\n",
    "conn_string = 'mysql+pymysql://{user}:{password}@{host}/?charset=utf8'.format(\n",
    "    host='db.ipeirotis.org',\n",
    "    user='student',\n",
    "    password='dwdstudent2015',\n",
    "    encoding='utf-8')\n",
    "engine = create_engine(conn_string)"
   ]
  },
  {
   "cell_type": "code",
   "execution_count": null,
   "metadata": {
    "colab": {},
    "colab_type": "code",
    "id": "fivqywfX6ULV"
   },
   "outputs": [],
   "source": [
    "%config SQL.conn_name = 'engine'"
   ]
  },
  {
   "cell_type": "markdown",
   "metadata": {
    "colab_type": "text",
    "heading_collapsed": true,
    "id": "I3gMmBCf9tFD"
   },
   "source": [
    "## Poor man's joins: Find the genres that Steven Spielberg typically directs\n",
    "\n",
    "Use the table directors_genres  and find all genres of films and the corresponding probabilities for the director ID that corresponds to Steven Spielberg. Sort the results by probability. \n"
   ]
  },
  {
   "cell_type": "markdown",
   "metadata": {
    "colab_type": "text",
    "heading_collapsed": true,
    "hidden": true,
    "id": "rWp006T59tFE"
   },
   "source": [
    "#### Switch to IMDb"
   ]
  },
  {
   "cell_type": "code",
   "execution_count": null,
   "metadata": {
    "colab": {
     "base_uri": "https://localhost:8080/",
     "height": 0
    },
    "colab_type": "code",
    "hidden": true,
    "id": "r4mkYlAl9tFE",
    "outputId": "041f76f9-d2f2-4fa5-eff8-a28eb79d8d26"
   },
   "outputs": [],
   "source": [
    "%%read_sql\n",
    "USE imdb"
   ]
  },
  {
   "cell_type": "markdown",
   "metadata": {
    "colab_type": "text",
    "hidden": true,
    "id": "YpawdZmd9tFI"
   },
   "source": [
    "#### Find the entry for Steven Spielberg to find his id"
   ]
  },
  {
   "cell_type": "code",
   "execution_count": null,
   "metadata": {
    "colab": {
     "base_uri": "https://localhost:8080/",
     "height": 0
    },
    "colab_type": "code",
    "hidden": true,
    "id": "JBb4m1r79tFI",
    "outputId": "3a82522e-ac5a-49fa-e40f-86b3828d86e6"
   },
   "outputs": [],
   "source": [
    "%%read_sql\n",
    "SELECT *\n",
    "FROM directors \n",
    "WHERE first_name = 'Steven' AND last_name = 'Spielberg'"
   ]
  },
  {
   "cell_type": "markdown",
   "metadata": {
    "colab_type": "text",
    "hidden": true,
    "id": "fs2Fcwx59tFM"
   },
   "source": [
    "#### Query the `directors_genres` table for Spielberg movies (pick director id value from previous query)"
   ]
  },
  {
   "cell_type": "code",
   "execution_count": null,
   "metadata": {
    "colab": {
     "base_uri": "https://localhost:8080/",
     "height": 0
    },
    "colab_type": "code",
    "hidden": true,
    "id": "34ZxqrLh9tFN",
    "outputId": "146a7f5f-af01-4cf6-9111-1f09bae84f46"
   },
   "outputs": [],
   "source": [
    "%%read_sql\n",
    "SELECT *\n",
    "FROM directors_genres\n",
    "WHERE director_id = 75380\n",
    "ORDER BY prob DESC"
   ]
  },
  {
   "cell_type": "markdown",
   "metadata": {
    "colab_type": "text",
    "id": "_MDShnOm9tFb"
   },
   "source": [
    "## Simple Join Queries"
   ]
  },
  {
   "cell_type": "markdown",
   "metadata": {
    "colab_type": "text",
    "heading_collapsed": true,
    "id": "Fkk5nVDd9tFc"
   },
   "source": [
    "#### Switch to IMDb"
   ]
  },
  {
   "cell_type": "code",
   "execution_count": null,
   "metadata": {
    "colab": {
     "base_uri": "https://localhost:8080/",
     "height": 0
    },
    "colab_type": "code",
    "hidden": true,
    "id": "3yP0H1I99tFc",
    "outputId": "e1080f54-afe1-49b2-f0ad-6006458b7bab"
   },
   "outputs": [],
   "source": [
    "%%read_sql\n",
    "USE imdb"
   ]
  },
  {
   "cell_type": "markdown",
   "metadata": {
    "colab_type": "text",
    "id": "ttP5_eGW9tFg"
   },
   "source": [
    "#### List all the movies and their genres"
   ]
  },
  {
   "cell_type": "code",
   "execution_count": null,
   "metadata": {
    "colab": {
     "base_uri": "https://localhost:8080/",
     "height": 0
    },
    "colab_type": "code",
    "id": "ORns1H4t9tFh",
    "outputId": "66cf65b0-b7cd-4c52-95c0-69c5eef2016c"
   },
   "outputs": [],
   "source": [
    "%%read_sql\n",
    "SELECT *\n",
    "FROM movies M \n",
    "  INNER JOIN movies_genres G ON M.id = G.movie_id\n"
   ]
  },
  {
   "cell_type": "markdown",
   "metadata": {
    "colab_type": "text",
    "id": "Ug9ontFN9tFj"
   },
   "source": [
    "#### List the movie genres for the movies directed by Steven Spielberg and sort them in decreasing order of their probability (use the director_genres table)\n",
    "\n"
   ]
  },
  {
   "cell_type": "code",
   "execution_count": null,
   "metadata": {
    "colab": {
     "base_uri": "https://localhost:8080/",
     "height": 0
    },
    "colab_type": "code",
    "id": "h8EYdo-j9tFk",
    "outputId": "b7805875-e887-44d3-b0ee-df2045579d5b"
   },
   "outputs": [],
   "source": [
    "%%read_sql\n",
    "SELECT *\n",
    "FROM directors D\n",
    "  INNER JOIN directors_genres G ON G.director_id = D.id\n",
    "WHERE D.first_name = 'Steven' AND D.last_name = 'Spielberg'\n",
    "ORDER BY G.prob DESC"
   ]
  },
  {
   "cell_type": "code",
   "execution_count": null,
   "metadata": {
    "colab": {
     "base_uri": "https://localhost:8080/",
     "height": 0
    },
    "colab_type": "code",
    "id": "mqHKr_2A_zpW",
    "outputId": "50d200fa-ee5f-400f-9424-48cb9863610d"
   },
   "outputs": [],
   "source": [
    "%%read_sql\n",
    "SELECT G.genre, G.prob\n",
    "FROM directors D\n",
    "  INNER JOIN directors_genres G ON G.director_id = D.id\n",
    "WHERE D.first_name = 'Steven' AND D.last_name = 'Spielberg'\n",
    "ORDER BY G.prob DESC"
   ]
  },
  {
   "cell_type": "markdown",
   "metadata": {
    "colab_type": "text",
    "id": "JWe0N-_j9tFm"
   },
   "source": [
    "#### List all the movies and their directors"
   ]
  },
  {
   "cell_type": "code",
   "execution_count": null,
   "metadata": {
    "colab": {
     "base_uri": "https://localhost:8080/",
     "height": 0
    },
    "colab_type": "code",
    "id": "eInzdfdQ9tFn",
    "outputId": "ae10252a-226b-47db-ae19-d33960dedb2a"
   },
   "outputs": [],
   "source": [
    "%%read_sql\n",
    "SELECT *\n",
    "FROM directors D\n",
    "  INNER JOIN movies_directors MD ON MD.director_id = D.id\n",
    "  INNER JOIN movies M ON M.id = MD.movie_id"
   ]
  },
  {
   "cell_type": "code",
   "execution_count": null,
   "metadata": {
    "colab": {
     "base_uri": "https://localhost:8080/",
     "height": 0
    },
    "colab_type": "code",
    "id": "oZQYbz_ZBp8r",
    "outputId": "2315f1ef-adfe-4ec7-ae23-9070be0ba60c"
   },
   "outputs": [],
   "source": [
    "%%read_sql\n",
    "SELECT MD.director_id, D.first_name AS director_first_name, D.last_name AS director_last_name,\n",
    "       MD.movie_id, M.name AS movie_title, M.year AS release_year, M.rating AS movie_rating \n",
    "FROM directors D\n",
    "  INNER JOIN movies_directors MD ON MD.director_id = D.id\n",
    "  INNER JOIN movies M ON M.id = MD.movie_id"
   ]
  },
  {
   "cell_type": "markdown",
   "metadata": {
    "colab_type": "text",
    "id": "Z6wnAoJi9tFq"
   },
   "source": [
    "#### List all the movies directed by Steven Spielberg"
   ]
  },
  {
   "cell_type": "code",
   "execution_count": null,
   "metadata": {
    "colab": {
     "base_uri": "https://localhost:8080/",
     "height": 0
    },
    "colab_type": "code",
    "id": "YlXHj1J59tFr",
    "outputId": "191b7bd7-0bb5-45b8-9837-35fd35450102"
   },
   "outputs": [],
   "source": [
    "%%read_sql\n",
    "SELECT MD.director_id, D.first_name AS director_first_name, D.last_name AS director_last_name,\n",
    "       MD.movie_id, M.name AS movie_title, M.year AS release_year, M.rating AS movie_rating \n",
    "FROM directors D\n",
    "  INNER JOIN movies_directors MD ON MD.director_id = D.id\n",
    "  INNER JOIN movies M ON M.id = MD.movie_id\n",
    "WHERE D.first_name = 'Steven' AND D.last_name = 'Spielberg'\n",
    "ORDER BY M.rating DESC"
   ]
  },
  {
   "cell_type": "markdown",
   "metadata": {
    "colab_type": "text",
    "id": "xSkwslad9tFu"
   },
   "source": [
    "## Join Practice Queries: Drama movies from 2000\n"
   ]
  },
  {
   "cell_type": "markdown",
   "metadata": {
    "colab_type": "text",
    "id": "kQ5zyueL9tFv"
   },
   "source": [
    "#### Switch to IMDb"
   ]
  },
  {
   "cell_type": "code",
   "execution_count": null,
   "metadata": {
    "colab": {
     "base_uri": "https://localhost:8080/",
     "height": 0
    },
    "colab_type": "code",
    "id": "H-szzUyJ9tFv",
    "outputId": "8b18cf58-36f7-47ab-cc51-671097b63136"
   },
   "outputs": [],
   "source": [
    "%%read_sql\n",
    "USE imdb"
   ]
  },
  {
   "cell_type": "markdown",
   "metadata": {
    "colab_type": "text",
    "id": "K_rzfAN19tFy"
   },
   "source": [
    "#### List all the movies from year 2000\n",
    "\n"
   ]
  },
  {
   "cell_type": "code",
   "execution_count": null,
   "metadata": {
    "colab": {
     "base_uri": "https://localhost:8080/",
     "height": 0
    },
    "colab_type": "code",
    "id": "p5qm1Syo9tFz",
    "outputId": "8cb9298a-2f26-4ad8-ca60-c52fd3b3ab35"
   },
   "outputs": [],
   "source": [
    "%%read_sql\n",
    "SELECT *\n",
    "FROM movies\n",
    "WHERE year=2000"
   ]
  },
  {
   "cell_type": "markdown",
   "metadata": {
    "colab_type": "text",
    "id": "wZOCUQIJEgCn"
   },
   "source": [
    "#### List all the movies from year 2000 and their genres"
   ]
  },
  {
   "cell_type": "code",
   "execution_count": null,
   "metadata": {
    "colab": {
     "base_uri": "https://localhost:8080/",
     "height": 0
    },
    "colab_type": "code",
    "id": "Pf3HKmOXEXf0",
    "outputId": "d5567d96-fe5d-4ff8-eeb8-553bb539abb7"
   },
   "outputs": [],
   "source": [
    "%%read_sql\n",
    "SELECT *\n",
    "FROM movies M\n",
    "  INNER JOIN movies_genres G ON G.movie_id = M.id\n",
    "WHERE M.year=2000"
   ]
  },
  {
   "cell_type": "markdown",
   "metadata": {
    "colab_type": "text",
    "id": "B16wKDtKEgjK"
   },
   "source": [
    "#### List all the Drama movies from year 2000"
   ]
  },
  {
   "cell_type": "code",
   "execution_count": null,
   "metadata": {
    "colab": {
     "base_uri": "https://localhost:8080/",
     "height": 0
    },
    "colab_type": "code",
    "id": "OeGWPNkfEXlU",
    "outputId": "70a44d8a-1a62-4c12-f1f4-3f96c901977c"
   },
   "outputs": [],
   "source": [
    "%%read_sql\n",
    "SELECT *\n",
    "FROM movies M\n",
    "  INNER JOIN movies_genres G ON G.movie_id = M.id\n",
    "WHERE M.year=2000 AND G.genre = 'Drama'"
   ]
  },
  {
   "cell_type": "markdown",
   "metadata": {
    "colab_type": "text",
    "id": "vIZEEwHLEhGk"
   },
   "source": [
    "#### List all the Drama movies from year 2000 with ratings"
   ]
  },
  {
   "cell_type": "code",
   "execution_count": null,
   "metadata": {
    "colab": {
     "base_uri": "https://localhost:8080/",
     "height": 0
    },
    "colab_type": "code",
    "id": "6b82AvLKEXs7",
    "outputId": "0c98c557-807d-4736-908a-af92e43c9a4c"
   },
   "outputs": [],
   "source": [
    "%%read_sql\n",
    "SELECT *\n",
    "FROM movies M\n",
    "  INNER JOIN movies_genres G ON G.movie_id = M.id\n",
    "WHERE M.year=2000 AND G.genre = 'Drama' AND M.rating IS NOT NULL"
   ]
  },
  {
   "cell_type": "markdown",
   "metadata": {
    "colab_type": "text",
    "id": "vqk5GxtUF9Wi"
   },
   "source": [
    "#### List the top-50 Drama movies from year 2000, based on the ratings \n"
   ]
  },
  {
   "cell_type": "code",
   "execution_count": null,
   "metadata": {
    "colab": {
     "base_uri": "https://localhost:8080/",
     "height": 0
    },
    "colab_type": "code",
    "id": "mn10NJiAF-lB",
    "outputId": "4ce4a679-e636-4c12-b3d9-77e5c9d45087"
   },
   "outputs": [],
   "source": [
    "%%read_sql\n",
    "SELECT *\n",
    "FROM movies M\n",
    "  INNER JOIN movies_genres G ON G.movie_id = M.id\n",
    "WHERE M.year=2000 AND G.genre = 'Drama' AND M.rating IS NOT NULL\n",
    "ORDER BY M.rating DESC\n",
    "LIMIT 50"
   ]
  },
  {
   "cell_type": "markdown",
   "metadata": {
    "colab_type": "text",
    "id": "s_3p8olC9tGI"
   },
   "source": [
    "## Join Practice Queries: James Bond movies"
   ]
  },
  {
   "cell_type": "markdown",
   "metadata": {
    "colab_type": "text",
    "heading_collapsed": true,
    "id": "p3-bCdJH9tGJ"
   },
   "source": [
    "#### Switch to IMDb"
   ]
  },
  {
   "cell_type": "code",
   "execution_count": null,
   "metadata": {
    "colab": {
     "base_uri": "https://localhost:8080/",
     "height": 0
    },
    "colab_type": "code",
    "hidden": true,
    "id": "Tw7O43CO9tGJ",
    "outputId": "957e0ac9-aec8-4c98-c993-c9154a6e10f7"
   },
   "outputs": [],
   "source": [
    "%%read_sql\n",
    "USE imdb"
   ]
  },
  {
   "cell_type": "markdown",
   "metadata": {
    "colab_type": "text",
    "id": "b4mdntH09tGM"
   },
   "source": [
    "#### List all the movies where there is an actor with the role ‘James Bond’\n"
   ]
  },
  {
   "cell_type": "code",
   "execution_count": null,
   "metadata": {
    "colab": {
     "base_uri": "https://localhost:8080/",
     "height": 0
    },
    "colab_type": "code",
    "id": "FsIKEX3k9tGM",
    "outputId": "ae6fbfbd-4715-4cdc-9344-4d9a373e3aa2"
   },
   "outputs": [],
   "source": [
    "%%read_sql\n",
    "SELECT *\n",
    "FROM movies M\n",
    "  INNER JOIN roles R ON R.movie_id = M.id\n",
    "WHERE R.role = 'James Bond'"
   ]
  },
  {
   "cell_type": "markdown",
   "metadata": {
    "colab_type": "text",
    "id": "NZTYMSH_9tGQ"
   },
   "source": [
    "#### List the actors who played ‘James Bond’"
   ]
  },
  {
   "cell_type": "code",
   "execution_count": null,
   "metadata": {
    "colab": {
     "base_uri": "https://localhost:8080/",
     "height": 0
    },
    "colab_type": "code",
    "id": "ez3iC8Gw9tGQ",
    "outputId": "841ac63a-d7cc-4997-8371-bd5436dee757"
   },
   "outputs": [],
   "source": [
    "%%read_sql\n",
    "SELECT *\n",
    "FROM actors A \n",
    "  INNER JOIN roles R ON R.actor_id = A.id\n",
    "WHERE R.role = 'James Bond'"
   ]
  },
  {
   "cell_type": "markdown",
   "metadata": {
    "colab_type": "text",
    "id": "ZGc-OAiGG2c0"
   },
   "source": [
    "#### List the actors who played ‘James Bond’ and the name of the movie"
   ]
  },
  {
   "cell_type": "code",
   "execution_count": null,
   "metadata": {
    "colab": {
     "base_uri": "https://localhost:8080/",
     "height": 0
    },
    "colab_type": "code",
    "id": "MDSiqEro9tGT",
    "outputId": "e78a3465-9dc3-4594-d1f6-8a3a80d3e56d"
   },
   "outputs": [],
   "source": [
    "%%read_sql\n",
    "SELECT *\n",
    "FROM actors A \n",
    "  INNER JOIN roles R ON R.actor_id = A.id\n",
    "  INNER JOIN movies M ON M.id = R.movie_id\n",
    "WHERE R.role = 'James Bond'"
   ]
  },
  {
   "cell_type": "markdown",
   "metadata": {
    "colab_type": "text",
    "id": "z5nfbmRLLpy_"
   },
   "source": [
    "#### List the actors who played ‘James Bond’ and the name of the movie. Rank the result by rating"
   ]
  },
  {
   "cell_type": "code",
   "execution_count": null,
   "metadata": {
    "colab": {
     "base_uri": "https://localhost:8080/",
     "height": 0
    },
    "colab_type": "code",
    "id": "Ft_nT9pILp8l",
    "outputId": "6c96d0bc-b9a5-479b-dcf5-854623b265e6"
   },
   "outputs": [],
   "source": [
    "%%read_sql\n",
    "SELECT *\n",
    "FROM actors A \n",
    "  INNER JOIN roles R ON R.actor_id = A.id\n",
    "  INNER JOIN movies M ON M.id = R.movie_id\n",
    "WHERE R.role = 'James Bond'\n",
    "ORDER BY M.rating DESC"
   ]
  },
  {
   "cell_type": "markdown",
   "metadata": {
    "colab_type": "text",
    "id": "Eo565rPPLqIb"
   },
   "source": [
    "#### List the actors who played ‘James Bond’ and the name of the movie. Rank the result by year"
   ]
  },
  {
   "cell_type": "code",
   "execution_count": null,
   "metadata": {
    "colab": {
     "base_uri": "https://localhost:8080/",
     "height": 0
    },
    "colab_type": "code",
    "id": "o6_tmYpULqQi",
    "outputId": "bac6e54f-7f72-4e35-a6ae-acfa928d16f3"
   },
   "outputs": [],
   "source": [
    "%%read_sql\n",
    "SELECT *\n",
    "FROM actors A \n",
    "  INNER JOIN roles R ON R.actor_id = A.id\n",
    "  INNER JOIN movies M ON M.id = R.movie_id\n",
    "WHERE R.role = 'James Bond'\n",
    "ORDER BY M.year"
   ]
  },
  {
   "cell_type": "markdown",
   "metadata": {
    "colab_type": "text",
    "id": "tq-LsJnvMKa5"
   },
   "source": [
    "## JOIN practice queries: Brad Pitt movies"
   ]
  },
  {
   "cell_type": "markdown",
   "metadata": {
    "colab_type": "text",
    "id": "m4MjHIJMMY1T"
   },
   "source": [
    "#### List all the movies where Brad Pitt is playing"
   ]
  },
  {
   "cell_type": "code",
   "execution_count": null,
   "metadata": {
    "colab": {
     "base_uri": "https://localhost:8080/",
     "height": 0
    },
    "colab_type": "code",
    "id": "zH6b_fA6MMTW",
    "outputId": "078ef530-6584-4911-f0c8-242671d00d1e"
   },
   "outputs": [],
   "source": [
    "%%read_sql\n",
    "SELECT *\n",
    "FROM actors A \n",
    "  INNER JOIN roles R ON R.actor_id = A.id\n",
    "  INNER JOIN movies M ON M.id = R.movie_id\n",
    "WHERE A.first_name = 'Brad' AND A.last_name = 'Pitt'\n"
   ]
  },
  {
   "cell_type": "markdown",
   "metadata": {
    "colab_type": "text",
    "id": "_BpdNyeqMc-W"
   },
   "source": [
    "#### List all the movies where Brad Pitt is playing. Exclude the movies where he plays “himself”\n",
    "\n"
   ]
  },
  {
   "cell_type": "code",
   "execution_count": null,
   "metadata": {
    "colab": {
     "base_uri": "https://localhost:8080/",
     "height": 0
    },
    "colab_type": "code",
    "id": "ATQGgUA0MdG6",
    "outputId": "5383ab02-2dc8-4e10-bf62-20f950f33abb"
   },
   "outputs": [],
   "source": [
    "%%read_sql\n",
    "SELECT *\n",
    "FROM actors A \n",
    "  INNER JOIN roles R ON R.actor_id = A.id\n",
    "  INNER JOIN movies M ON M.id = R.movie_id\n",
    "WHERE A.first_name = 'Brad' AND A.last_name = 'Pitt'\n",
    "  AND R.role NOT LIKE '%%himself%%'"
   ]
  },
  {
   "cell_type": "markdown",
   "metadata": {
    "colab_type": "text",
    "id": "iNING8ixNUdR"
   },
   "source": [
    "#### List all the movies where Brad Pitt is playing. Exclude the movies where he plays “himself”. Rank the result by movie rating."
   ]
  },
  {
   "cell_type": "code",
   "execution_count": null,
   "metadata": {
    "colab": {
     "base_uri": "https://localhost:8080/",
     "height": 0
    },
    "colab_type": "code",
    "id": "3xe3ObeoNUnr",
    "outputId": "8a762c64-6751-4652-a6ed-68f57a044985"
   },
   "outputs": [],
   "source": [
    "%%read_sql\n",
    "SELECT *\n",
    "FROM actors A \n",
    "  INNER JOIN roles R ON R.actor_id = A.id\n",
    "  INNER JOIN movies M ON M.id = R.movie_id\n",
    "WHERE A.first_name = 'Brad' AND A.last_name = 'Pitt'\n",
    "  AND R.role NOT LIKE '%%himself%%'\n",
    "ORDER BY M.rating DESC"
   ]
  },
  {
   "cell_type": "markdown",
   "metadata": {
    "colab_type": "text",
    "id": "cMkPRyJuNUwl"
   },
   "source": [
    "#### List all the movies where Brad Pitt is playing. Exclude the movies where he plays “himself”. Rank the result by year."
   ]
  },
  {
   "cell_type": "code",
   "execution_count": null,
   "metadata": {
    "colab": {
     "base_uri": "https://localhost:8080/",
     "height": 1000
    },
    "colab_type": "code",
    "id": "lFlvJ6NLNU6b",
    "outputId": "63a4fb79-dbba-4be6-beaa-09675f350183"
   },
   "outputs": [],
   "source": [
    "%%read_sql\n",
    "SELECT *\n",
    "FROM actors A \n",
    "  INNER JOIN roles R ON R.actor_id = A.id\n",
    "  INNER JOIN movies M ON M.id = R.movie_id\n",
    "WHERE A.first_name = 'Brad' AND A.last_name = 'Pitt'\n",
    "  AND R.role NOT LIKE '%%himself%%'\n",
    "ORDER BY M.year"
   ]
  },
  {
   "cell_type": "markdown",
   "metadata": {
    "colab_type": "text",
    "id": "qtJlwUaqSP1m"
   },
   "source": [
    "## JOIN Practice Queries: Facebook"
   ]
  },
  {
   "cell_type": "markdown",
   "metadata": {
    "colab_type": "text",
    "id": "uRuIW4tkSUac"
   },
   "source": [
    "#### Switch to Facebook"
   ]
  },
  {
   "cell_type": "code",
   "execution_count": null,
   "metadata": {
    "colab": {
     "base_uri": "https://localhost:8080/",
     "height": 34
    },
    "colab_type": "code",
    "id": "1WMp8nSZSUnw",
    "outputId": "d5b49712-93dc-4ea7-8a48-b4ef915f781f"
   },
   "outputs": [],
   "source": [
    "%%read_sql\n",
    "USE facebook;"
   ]
  },
  {
   "cell_type": "markdown",
   "metadata": {
    "colab_type": "text",
    "id": "BjW1KQylSqo1"
   },
   "source": [
    "#### List all the Single students\n",
    "\n"
   ]
  },
  {
   "cell_type": "code",
   "execution_count": null,
   "metadata": {
    "colab": {
     "base_uri": "https://localhost:8080/",
     "height": 808
    },
    "colab_type": "code",
    "id": "spEB_YFdS5bJ",
    "outputId": "b91f86fc-bc44-400a-ae61-230150c06d51"
   },
   "outputs": [],
   "source": [
    "%%read_sql\n",
    "SELECT *\n",
    "FROM Profiles P\n",
    "  INNER JOIN Relationship R ON R.ProfileID = P.ProfileID\n",
    "WHERE R.Status = 'Single'"
   ]
  },
  {
   "cell_type": "markdown",
   "metadata": {
    "colab_type": "text",
    "id": "f3vLsQUMSucj"
   },
   "source": [
    "#### List all the Single students who live in Palladium (as declared in the “Residence” attribute).  Allow for flexible matching of the “Residence” as people list Palladium in different manner (e.g “Palladium 101” vs “Palladium”)\n",
    "\n",
    "\n",
    "\n",
    "\n"
   ]
  },
  {
   "cell_type": "code",
   "execution_count": null,
   "metadata": {
    "colab": {
     "base_uri": "https://localhost:8080/",
     "height": 724
    },
    "colab_type": "code",
    "id": "KEqE1DD3S54O",
    "outputId": "31aef8bf-11fb-4577-bff0-cc4ef5b5d055"
   },
   "outputs": [],
   "source": [
    "%%read_sql\n",
    "SELECT *\n",
    "FROM Profiles P\n",
    "  INNER JOIN Relationship R ON R.ProfileID = P.ProfileID\n",
    "WHERE R.Status = 'Single' AND P.Residence LIKE 'Palladium%%'"
   ]
  },
  {
   "cell_type": "markdown",
   "metadata": {
    "colab_type": "text",
    "id": "rPVldPt9Sufi"
   },
   "source": [
    "#### List all the Single students LookingFor “random play”. List their AIM and their gender in the results.\n",
    "\n"
   ]
  },
  {
   "cell_type": "code",
   "execution_count": null,
   "metadata": {
    "colab": {
     "base_uri": "https://localhost:8080/",
     "height": 418
    },
    "colab_type": "code",
    "id": "7M05OvjQS6WN",
    "outputId": "e4a8d2d1-7d60-4ea6-d3b8-617342068bfa"
   },
   "outputs": [],
   "source": [
    "%%read_sql\n",
    "SELECT P.AIM, P.Sex\n",
    "FROM Profiles P\n",
    "  INNER JOIN Relationship R ON R.ProfileID = P.ProfileID\n",
    "  INNER JOIN LookingFor L ON L.ProfileID = P.ProfileID\n",
    "WHERE R.Status = 'Single' AND L.LookingFor = 'Random Play'"
   ]
  },
  {
   "cell_type": "markdown",
   "metadata": {
    "colab_type": "text",
    "id": "cJKTZPZLSuiQ"
   },
   "source": [
    "#### List all the students who have “The Killers” as favorite Music\n",
    "\n",
    "\n"
   ]
  },
  {
   "cell_type": "code",
   "execution_count": null,
   "metadata": {
    "colab": {
     "base_uri": "https://localhost:8080/",
     "height": 418
    },
    "colab_type": "code",
    "id": "PG-KqimmS61B",
    "outputId": "504d3817-6fc4-4ab7-ec87-56ddef681a8e"
   },
   "outputs": [],
   "source": [
    "%%read_sql\n",
    "SELECT P.*\n",
    "FROM Profiles P\n",
    "  INNER JOIN FavoriteMusic M ON M.ProfileID = P.ProfileID\n",
    "WHERE M.Music = 'The Killers'"
   ]
  },
  {
   "cell_type": "markdown",
   "metadata": {
    "colab_type": "text",
    "id": "mz__4n_HSula"
   },
   "source": [
    "#### List all the Finance students who like the book “1984”"
   ]
  },
  {
   "cell_type": "code",
   "execution_count": null,
   "metadata": {
    "colab": {
     "base_uri": "https://localhost:8080/",
     "height": 791
    },
    "colab_type": "code",
    "id": "TElCnM9BS7aS",
    "outputId": "1e54a94e-8d04-4011-9672-f2a778314000"
   },
   "outputs": [],
   "source": [
    "%%read_sql\n",
    "SELECT P.*\n",
    "FROM Profiles P\n",
    "  INNER JOIN FavoriteBooks B ON B.ProfileID = P.ProfileID\n",
    "WHERE B.Book = '1984'"
   ]
  },
  {
   "cell_type": "markdown",
   "metadata": {
    "colab_type": "text",
    "id": "ohS9d19BSuoQ"
   },
   "source": [
    "## Self Joins"
   ]
  },
  {
   "cell_type": "markdown",
   "metadata": {
    "colab_type": "text",
    "id": "TMYSvVCQaLZP"
   },
   "source": [
    "#### Switch to IMDb"
   ]
  },
  {
   "cell_type": "code",
   "execution_count": null,
   "metadata": {
    "colab": {
     "base_uri": "https://localhost:8080/",
     "height": 34
    },
    "colab_type": "code",
    "id": "tTr2TEhzaqBV",
    "outputId": "66c7537d-f69d-4aa2-f1a5-86b34c44f2a0"
   },
   "outputs": [],
   "source": [
    "%%read_sql\n",
    "USE imdb;  "
   ]
  },
  {
   "cell_type": "markdown",
   "metadata": {
    "colab_type": "text",
    "id": "oVasbLaITAqQ"
   },
   "source": [
    "#### List the movies in the database that have both drama and comedy listed among their genres"
   ]
  },
  {
   "cell_type": "code",
   "execution_count": null,
   "metadata": {
    "colab": {
     "base_uri": "https://localhost:8080/",
     "height": 418
    },
    "colab_type": "code",
    "id": "FJ96kMxZTAiZ",
    "outputId": "fe08d473-20a2-4416-c445-f99817fd4e04"
   },
   "outputs": [],
   "source": [
    "%%read_sql\n",
    "SELECT *\n",
    "FROM movies M\n",
    "  INNER JOIN movies_genres G1 ON G1.movie_id = M.id\n",
    "  INNER JOIN movies_genres G2 ON G2.movie_id = M.id\n",
    "WHERE G1.genre = 'Drama' AND G2.genre = 'Comedy'"
   ]
  },
  {
   "cell_type": "markdown",
   "metadata": {
    "colab_type": "text",
    "id": "QisVXGrKaN1H"
   },
   "source": [
    "#### Switch to Facebook"
   ]
  },
  {
   "cell_type": "code",
   "execution_count": null,
   "metadata": {
    "colab": {
     "base_uri": "https://localhost:8080/",
     "height": 34
    },
    "colab_type": "code",
    "id": "ij5UWQHgW9I2",
    "outputId": "c9d6bdbe-ee67-408d-aa46-e4ba4690ff51"
   },
   "outputs": [],
   "source": [
    "%%read_sql\n",
    "USE facebook;  "
   ]
  },
  {
   "cell_type": "markdown",
   "metadata": {
    "colab_type": "text",
    "id": "V_RLJ8NcTAwP"
   },
   "source": [
    "#### List the Profile IDs and for students majoring in computer science and another concentration (Concentration table); show the second concentration as well\n"
   ]
  },
  {
   "cell_type": "code",
   "execution_count": null,
   "metadata": {
    "colab": {
     "base_uri": "https://localhost:8080/",
     "height": 418
    },
    "colab_type": "code",
    "id": "uBQb8AShXFr2",
    "outputId": "1c79f1eb-ebb0-4814-a470-62aff639d54b"
   },
   "outputs": [],
   "source": [
    "%%read_sql\n",
    "SELECT *\n",
    "FROM Concentration C1\n",
    "  INNER JOIN Concentration C2 ON C1.ProfileID = C2.ProfileID\n",
    "WHERE C1.Concentration = 'Computer Science' AND C2.Concentration != 'Computer Science'"
   ]
  },
  {
   "cell_type": "markdown",
   "metadata": {
    "colab_type": "text",
    "id": "Go2Nz49IZX9t"
   },
   "source": [
    "## Outer Joins"
   ]
  },
  {
   "cell_type": "markdown",
   "metadata": {
    "colab_type": "text",
    "id": "W1fi1ua1ZYM3"
   },
   "source": [
    "#### Switch to IMDB"
   ]
  },
  {
   "cell_type": "code",
   "execution_count": null,
   "metadata": {
    "colab": {
     "base_uri": "https://localhost:8080/",
     "height": 34
    },
    "colab_type": "code",
    "id": "nv7WQOogZYa5",
    "outputId": "6d3f5f58-d607-4166-b3d1-082be88f8867"
   },
   "outputs": [],
   "source": [
    "%%read_sql \n",
    "USE imdb;"
   ]
  },
  {
   "cell_type": "markdown",
   "metadata": {
    "colab_type": "text",
    "id": "7YYa1a_DZhaD"
   },
   "source": [
    "#### List all the movies without actors"
   ]
  },
  {
   "cell_type": "code",
   "execution_count": null,
   "metadata": {
    "colab": {
     "base_uri": "https://localhost:8080/",
     "height": 418
    },
    "colab_type": "code",
    "id": "qNvVOLjAZhhG",
    "outputId": "8c11dc62-14b6-4d70-a4fa-73a22e6294f7"
   },
   "outputs": [],
   "source": [
    "%%read_sql\n",
    "SELECT M.*, R.*\n",
    "FROM movies M\n",
    "  LEFT JOIN roles R ON M.id = R.movie_id\n",
    "WHERE R.movie_id IS NULL"
   ]
  },
  {
   "cell_type": "markdown",
   "metadata": {
    "colab_type": "text",
    "id": "6Cz5uY3LZhse"
   },
   "source": [
    "#### List all the movies without an associated genre"
   ]
  },
  {
   "cell_type": "code",
   "execution_count": null,
   "metadata": {
    "colab": {
     "base_uri": "https://localhost:8080/",
     "height": 418
    },
    "colab_type": "code",
    "id": "haorvdVxZhyc",
    "outputId": "b58c0eb2-5356-450d-ddcb-b9a59f2c0467"
   },
   "outputs": [],
   "source": [
    "%%read_sql\n",
    "SELECT M.*\n",
    "FROM movies M\n",
    "  LEFT JOIN movies_genres G ON M.id = G.movie_id\n",
    "WHERE G.movie_id IS NULL"
   ]
  },
  {
   "cell_type": "markdown",
   "metadata": {
    "colab_type": "text",
    "id": "TMwnbZywZh4y"
   },
   "source": [
    "#### List all the Students that have not listed a Concentration"
   ]
  },
  {
   "cell_type": "code",
   "execution_count": null,
   "metadata": {
    "colab": {
     "base_uri": "https://localhost:8080/",
     "height": 34
    },
    "colab_type": "code",
    "id": "GcPtXFloZh-z",
    "outputId": "bd910bf2-7867-4227-a47f-313b250e82f4"
   },
   "outputs": [],
   "source": [
    "%%read_sql \n",
    "USE facebook;"
   ]
  },
  {
   "cell_type": "code",
   "execution_count": null,
   "metadata": {
    "colab": {
     "base_uri": "https://localhost:8080/",
     "height": 690
    },
    "colab_type": "code",
    "id": "UMC3uIh_a7Qy",
    "outputId": "9245f7fd-ebda-4fea-8689-54a091696a09"
   },
   "outputs": [],
   "source": [
    "%%read_sql\n",
    "SELECT P.*, C.*\n",
    "FROM Profiles P\n",
    "  LEFT JOIN Concentration C ON P.ProfileID = C.ProfileID\n",
    "  WHERE C.ProfileID IS NULL "
   ]
  }
 ],
 "metadata": {
  "colab": {
   "name": "A-Navigation_Queries.ipynb",
   "provenance": []
  },
  "kernelspec": {
   "display_name": "Python 3",
   "language": "python",
   "name": "python3"
  },
  "language_info": {
   "codemirror_mode": {
    "name": "ipython",
    "version": 3
   },
   "file_extension": ".py",
   "mimetype": "text/x-python",
   "name": "python",
   "nbconvert_exporter": "python",
   "pygments_lexer": "ipython3",
   "version": "3.8.2"
  }
 },
 "nbformat": 4,
 "nbformat_minor": 1
}
