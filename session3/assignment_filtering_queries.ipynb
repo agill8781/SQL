{
  "nbformat": 4,
  "nbformat_minor": 0,
  "metadata": {
    "anaconda-cloud": {},
    "colab": {
      "name": "Session 3 Assignment",
      "provenance": [],
      "collapsed_sections": [],
      "include_colab_link": true
    },
    "kernelspec": {
      "display_name": "Python 3",
      "language": "python",
      "name": "python3"
    },
    "language_info": {
      "codemirror_mode": {
        "name": "ipython",
        "version": 3
      },
      "file_extension": ".py",
      "mimetype": "text/x-python",
      "name": "python",
      "nbconvert_exporter": "python",
      "pygments_lexer": "ipython3",
      "version": "3.6.6"
    }
  },
  "cells": [
    {
      "cell_type": "markdown",
      "metadata": {
        "id": "view-in-github",
        "colab_type": "text"
      },
      "source": [
        "<a href=\"https://colab.research.google.com/github/ipeirotis/introduction-to-databases/blob/master/session3/assignment_filtering_queries.ipynb\" target=\"_parent\"><img src=\"https://colab.research.google.com/assets/colab-badge.svg\" alt=\"Open In Colab\"/></a>"
      ]
    },
    {
      "cell_type": "markdown",
      "metadata": {
        "id": "SkZqhwkf8NUg"
      },
      "source": [
        "# Session 3: Filtering Queries Assignment\n",
        "\n",
        "\n",
        "In this segment we will connect to the *Music* database."
      ]
    },
    {
      "cell_type": "markdown",
      "metadata": {
        "id": "5u_6yLTDT6Kn"
      },
      "source": [
        "## Setup"
      ]
    },
    {
      "cell_type": "code",
      "metadata": {
        "id": "O9o9NsaO8hMy"
      },
      "source": [
        "# !sudo pip3 install PyMySQL sqlalchemy sql_magic"
      ],
      "execution_count": null,
      "outputs": []
    },
    {
      "cell_type": "code",
      "metadata": {
        "id": "EkIL-uRK8NUi"
      },
      "source": [
        "# This code creates a connection to the database\n",
        "from sqlalchemy import create_engine\n",
        "\n",
        "conn_string = \"mysql+pymysql://{user}:{password}@{host}/{db}?charset={encoding}\".format(\n",
        "    host=\"db.ipeirotis.org\",\n",
        "    user=\"student\",\n",
        "    db=\"music\",\n",
        "    password=\"dwdstudent2015\",\n",
        "    encoding=\"utf8mb4\",\n",
        ")\n",
        "\n",
        "engine = create_engine(conn_string)\n",
        "con = engine.connect()"
      ],
      "execution_count": null,
      "outputs": []
    },
    {
      "cell_type": "code",
      "metadata": {
        "id": "z7muzQXTUFkU"
      },
      "source": [
        "%reload_ext sql_magic"
      ],
      "execution_count": null,
      "outputs": []
    },
    {
      "cell_type": "code",
      "metadata": {
        "id": "uHRIPxBvUGfC"
      },
      "source": [
        "%config SQL.conn_name = 'engine'"
      ],
      "execution_count": null,
      "outputs": []
    },
    {
      "cell_type": "markdown",
      "metadata": {
        "id": "UJmBOzZyLnTI"
      },
      "source": [
        "This is an example of how you can write an SQL query in the notebook. You write your SQL query after the `%%read_sql` line"
      ]
    },
    {
      "cell_type": "code",
      "metadata": {
        "id": "sWa1Uv_6X9zi"
      },
      "source": [
        "%%read_sql\n",
        "SELECT * \n",
        "FROM played"
      ],
      "execution_count": null,
      "outputs": []
    },
    {
      "cell_type": "markdown",
      "metadata": {
        "id": "H0hhloRRUJlV"
      },
      "source": [
        "## Question 1: Show the entry for the artist with id equal to 5."
      ]
    },
    {
      "cell_type": "code",
      "metadata": {
        "id": "eL_CnyPRUSGI"
      },
      "source": [
        "%%read_sql\n"
      ],
      "execution_count": null,
      "outputs": []
    },
    {
      "cell_type": "markdown",
      "metadata": {
        "id": "Hz_1yX-EUeBQ"
      },
      "source": [
        "## Question 2: Show the entry for the artist named `The Rolling Stones` "
      ]
    },
    {
      "cell_type": "code",
      "metadata": {
        "id": "HXy0Ygy3Uf_m"
      },
      "source": [
        "%%read_sql\n"
      ],
      "execution_count": null,
      "outputs": []
    },
    {
      "cell_type": "markdown",
      "metadata": {
        "id": "UozymxRTW-wx"
      },
      "source": [
        "## Question 3: Using the `id` of Rolling Stones from Question 2, list all the albums of `The Rolling Stones`"
      ]
    },
    {
      "cell_type": "code",
      "metadata": {
        "id": "ZwtqsRoGW-wz"
      },
      "source": [
        "%%read_sql\n"
      ],
      "execution_count": null,
      "outputs": []
    },
    {
      "cell_type": "markdown",
      "metadata": {
        "id": "8NFSCApmXGZ8"
      },
      "source": [
        "## Question 4: Find the tracks for the artist with id `3`, from the artist's album with id `2`."
      ]
    },
    {
      "cell_type": "code",
      "metadata": {
        "id": "bcr5iccDXGZ9"
      },
      "source": [
        "%%read_sql"
      ],
      "execution_count": null,
      "outputs": []
    },
    {
      "cell_type": "markdown",
      "metadata": {
        "id": "nezZleqbUeI_"
      },
      "source": [
        "## Question 5: Find the tracts with names that earlier alphabetically than (is less than) `M`.\n",
        "\n",
        "Note that inequality queries can be used with text and not only with numbers."
      ]
    },
    {
      "cell_type": "code",
      "metadata": {
        "id": "rNfpSzT3UgrM"
      },
      "source": [
        "%%read_sql\n"
      ],
      "execution_count": null,
      "outputs": []
    },
    {
      "cell_type": "markdown",
      "metadata": {
        "id": "_j2bCzADXODe"
      },
      "source": [
        "## Question 6: Find all albums with a title that begins with a character greater than `E` (*not* inclusive of albums that start with `E`) but less than `S` (again,  *not* inclusive of albums that start with `S`)."
      ]
    },
    {
      "cell_type": "code",
      "metadata": {
        "id": "o9h005rlXODf"
      },
      "source": [
        "%%read_sql\n"
      ],
      "execution_count": null,
      "outputs": []
    },
    {
      "cell_type": "markdown",
      "metadata": {
        "id": "HF9cHpSDXaZd"
      },
      "source": [
        "## Question 7: List the 10 longest tracks in terms of time length."
      ]
    },
    {
      "cell_type": "code",
      "metadata": {
        "id": "mvLQdbdiXSmw"
      },
      "source": [
        "%%read_sql\n"
      ],
      "execution_count": null,
      "outputs": []
    },
    {
      "cell_type": "markdown",
      "metadata": {
        "id": "ntj5f4n8U3dT"
      },
      "source": [
        "## Question 8: List all the tracts for the artists with ids 1, 3, and 5. Show two variations of the query. One query using the `OR` boolean condition, and one query using the `IN` operation."
      ]
    },
    {
      "cell_type": "code",
      "metadata": {
        "id": "mPCpyhbwU3dV"
      },
      "source": [
        "%%read_sql\n",
        "# Using the OR"
      ],
      "execution_count": null,
      "outputs": []
    },
    {
      "cell_type": "code",
      "metadata": {
        "id": "kGPCoB8NgZZP"
      },
      "source": [
        "%%read_sql\n",
        "# Using the IN"
      ],
      "execution_count": null,
      "outputs": []
    },
    {
      "cell_type": "markdown",
      "metadata": {
        "id": "23bSA8IUU1Og"
      },
      "source": [
        "## Question 9: Find all the tracks that include the word \"Love\" anywhere in the title. It is fine to include tracks where `love` is part of a bigger word (e.g, `lovebird`).\n",
        "\n",
        "A bit of a complication: In the Colab environment, you need to enter the `%` character twice in a `LIKE` string instead of just once in MySQL Workbench."
      ]
    },
    {
      "cell_type": "code",
      "metadata": {
        "id": "hTD97qjaU1Oi"
      },
      "source": [
        "%%read_sql\n"
      ],
      "execution_count": null,
      "outputs": []
    },
    {
      "cell_type": "markdown",
      "metadata": {
        "id": "eWgdmtHHURaS"
      },
      "source": [
        "## Question 10: List all the tracks by artist with id `1` starting with the letter `L` and order them in descending order of time length."
      ]
    },
    {
      "cell_type": "code",
      "metadata": {
        "id": "ygI_N9gBUhWy"
      },
      "source": [
        "%%read_sql\n"
      ],
      "execution_count": null,
      "outputs": []
    }
  ]
}