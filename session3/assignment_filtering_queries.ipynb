{
 "cells": [
  {
   "cell_type": "markdown",
   "metadata": {
    "colab_type": "text",
    "id": "view-in-github"
   },
   "source": [
    "<a href=\"https://colab.research.google.com/github/ipeirotis/introduction-to-databases/blob/master/session3/assignment_filtering_queries.ipynb\" target=\"_parent\"><img src=\"https://colab.research.google.com/assets/colab-badge.svg\" alt=\"Open In Colab\"/></a>"
   ]
  },
  {
   "cell_type": "markdown",
   "metadata": {
    "colab_type": "text",
    "id": "SkZqhwkf8NUg"
   },
   "source": [
    "# Session 3: Filtering Queries Assignment\n",
    "\n",
    "\n",
    "In this segment we will connect to the *Music* database."
   ]
  },
  {
   "cell_type": "markdown",
   "metadata": {
    "colab_type": "text",
    "id": "5u_6yLTDT6Kn"
   },
   "source": [
    "## Setup"
   ]
  },
  {
   "cell_type": "code",
   "execution_count": null,
   "metadata": {
    "colab": {},
    "colab_type": "code",
    "id": "O9o9NsaO8hMy"
   },
   "outputs": [],
   "source": [
    "!apt-get install python3-mysqldb\n",
    "!pip install sqlalchemy sql_magic"
   ]
  },
  {
   "cell_type": "code",
   "execution_count": null,
   "metadata": {
    "colab": {},
    "colab_type": "code",
    "id": "EkIL-uRK8NUi"
   },
   "outputs": [],
   "source": [
    "# This code creates a connection to the database\n",
    "from sqlalchemy import create_engine\n",
    "\n",
    "conn_string = 'mysql://{user}:{password}@{host}/{db}?charset={encoding}'.format(\n",
    "    host = 'db.ipeirotis.org', \n",
    "    user = 'student',\n",
    "    db = 'music',\n",
    "    password = 'dwdstudent2015',\n",
    "    encoding = 'utf8mb4')\n",
    "\n",
    "engine = create_engine(conn_string)\n",
    "con = engine.connect()"
   ]
  },
  {
   "cell_type": "code",
   "execution_count": null,
   "metadata": {
    "colab": {},
    "colab_type": "code",
    "id": "z7muzQXTUFkU"
   },
   "outputs": [],
   "source": [
    "%reload_ext sql_magic"
   ]
  },
  {
   "cell_type": "code",
   "execution_count": null,
   "metadata": {
    "colab": {},
    "colab_type": "code",
    "id": "uHRIPxBvUGfC"
   },
   "outputs": [],
   "source": [
    "%config SQL.conn_name = 'engine'"
   ]
  },
  {
   "cell_type": "markdown",
   "metadata": {
    "colab_type": "text",
    "id": "UJmBOzZyLnTI"
   },
   "source": [
    "This is an example of how you can write an SQL query in the notebook. You write your SQL query after the `%%read_sql` line"
   ]
  },
  {
   "cell_type": "code",
   "execution_count": null,
   "metadata": {
    "colab": {},
    "colab_type": "code",
    "id": "sWa1Uv_6X9zi"
   },
   "outputs": [],
   "source": [
    "%%read_sql\n",
    "SELECT * \n",
    "FROM played"
   ]
  },
  {
   "cell_type": "markdown",
   "metadata": {
    "colab_type": "text",
    "id": "H0hhloRRUJlV"
   },
   "source": [
    "## Question 1: Show the entry for the artist with id equal to 5."
   ]
  },
  {
   "cell_type": "code",
   "execution_count": null,
   "metadata": {
    "colab": {},
    "colab_type": "code",
    "id": "eL_CnyPRUSGI"
   },
   "outputs": [],
   "source": [
    "%%read_sql\n"
   ]
  },
  {
   "cell_type": "markdown",
   "metadata": {
    "colab_type": "text",
    "id": "Hz_1yX-EUeBQ"
   },
   "source": [
    "## Question 2: Show the entry for the artist named `The Rolling Stones` "
   ]
  },
  {
   "cell_type": "code",
   "execution_count": null,
   "metadata": {
    "colab": {},
    "colab_type": "code",
    "id": "HXy0Ygy3Uf_m"
   },
   "outputs": [],
   "source": [
    "%%read_sql\n"
   ]
  },
  {
   "cell_type": "markdown",
   "metadata": {
    "colab_type": "text",
    "id": "UozymxRTW-wx"
   },
   "source": [
    "## Question 3: Using the `id` of Rolling Stones from Question 2, list all the albums of `The Rolling Stones`"
   ]
  },
  {
   "cell_type": "code",
   "execution_count": null,
   "metadata": {
    "colab": {},
    "colab_type": "code",
    "id": "ZwtqsRoGW-wz"
   },
   "outputs": [],
   "source": [
    "%%read_sql\n"
   ]
  },
  {
   "cell_type": "markdown",
   "metadata": {
    "colab_type": "text",
    "id": "8NFSCApmXGZ8"
   },
   "source": [
    "## Question 4: Find the tracks for the artist with id `3`, from the artist's album with id `2`."
   ]
  },
  {
   "cell_type": "code",
   "execution_count": null,
   "metadata": {
    "colab": {},
    "colab_type": "code",
    "id": "bcr5iccDXGZ9"
   },
   "outputs": [],
   "source": [
    "%%read_sql"
   ]
  },
  {
   "cell_type": "markdown",
   "metadata": {
    "colab_type": "text",
    "id": "nezZleqbUeI_"
   },
   "source": [
    "## Question 5: Find the tracts with names that earlier alphabetically than (is less than) `M`.\n",
    "\n",
    "Note that inequality queries can be used with text and not only with numbers."
   ]
  },
  {
   "cell_type": "code",
   "execution_count": null,
   "metadata": {
    "colab": {},
    "colab_type": "code",
    "id": "rNfpSzT3UgrM"
   },
   "outputs": [],
   "source": [
    "%%read_sql\n"
   ]
  },
  {
   "cell_type": "markdown",
   "metadata": {
    "colab_type": "text",
    "id": "_j2bCzADXODe"
   },
   "source": [
    "## Question 6: Find all albums with a title that begins with a character greater than `E` (*not* inclusive of albums that start with `E`) but less than `S` (again,  *not* inclusive of albums that start with `S`)."
   ]
  },
  {
   "cell_type": "code",
   "execution_count": null,
   "metadata": {
    "colab": {},
    "colab_type": "code",
    "id": "o9h005rlXODf"
   },
   "outputs": [],
   "source": [
    "%%read_sql\n"
   ]
  },
  {
   "cell_type": "markdown",
   "metadata": {
    "colab_type": "text",
    "id": "HF9cHpSDXaZd"
   },
   "source": [
    "## Question 7: List the 10 longest tracks in terms of time length."
   ]
  },
  {
   "cell_type": "code",
   "execution_count": null,
   "metadata": {
    "colab": {},
    "colab_type": "code",
    "id": "mvLQdbdiXSmw"
   },
   "outputs": [],
   "source": [
    "%%read_sql\n"
   ]
  },
  {
   "cell_type": "markdown",
   "metadata": {
    "colab_type": "text",
    "id": "ntj5f4n8U3dT"
   },
   "source": [
    "## Question 8: List all the tracts for the artists with ids 1, 3, and 5. Show two variations of the query. One query using the `OR` boolean condition, and one query using the `IN` operation."
   ]
  },
  {
   "cell_type": "code",
   "execution_count": null,
   "metadata": {
    "colab": {},
    "colab_type": "code",
    "id": "mPCpyhbwU3dV"
   },
   "outputs": [],
   "source": [
    "%%read_sql\n",
    "# Using the OR"
   ]
  },
  {
   "cell_type": "code",
   "execution_count": null,
   "metadata": {
    "colab": {},
    "colab_type": "code",
    "id": "kGPCoB8NgZZP"
   },
   "outputs": [],
   "source": [
    "%%read_sql\n",
    "# Using the IN"
   ]
  },
  {
   "cell_type": "markdown",
   "metadata": {
    "colab_type": "text",
    "id": "23bSA8IUU1Og"
   },
   "source": [
    "## Question 9: Find all the tracks that include the word \"Love\" anywhere in the title. It is fine to include tracks where `love` is part of a bigger word (e.g, `lovebird`).\n",
    "\n",
    "A bit of a complication: In the Colab environment, you need to enter the `%` character twice in a `LIKE` string instead of just once in MySQL Workbench."
   ]
  },
  {
   "cell_type": "code",
   "execution_count": null,
   "metadata": {
    "colab": {},
    "colab_type": "code",
    "id": "hTD97qjaU1Oi"
   },
   "outputs": [],
   "source": [
    "%%read_sql\n"
   ]
  },
  {
   "cell_type": "markdown",
   "metadata": {
    "colab_type": "text",
    "id": "eWgdmtHHURaS"
   },
   "source": [
    "## Question 10: List all the tracks by artist with id `1` starting with the letter `L` and order them in descending order of time length."
   ]
  },
  {
   "cell_type": "code",
   "execution_count": null,
   "metadata": {
    "colab": {},
    "colab_type": "code",
    "id": "ygI_N9gBUhWy"
   },
   "outputs": [],
   "source": [
    "%%read_sql\n"
   ]
  }
 ],
 "metadata": {
  "anaconda-cloud": {},
  "colab": {
   "collapsed_sections": [],
   "include_colab_link": true,
   "name": "Session 3 Assignment",
   "provenance": []
  },
  "kernelspec": {
   "display_name": "Python 3",
   "language": "python",
   "name": "python3"
  },
  "language_info": {
   "codemirror_mode": {
    "name": "ipython",
    "version": 3
   },
   "file_extension": ".py",
   "mimetype": "text/x-python",
   "name": "python",
   "nbconvert_exporter": "python",
   "pygments_lexer": "ipython3",
   "version": "3.6.6"
  }
 },
 "nbformat": 4,
 "nbformat_minor": 0
}
