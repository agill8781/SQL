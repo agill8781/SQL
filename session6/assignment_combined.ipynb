{
 "cells": [
  {
   "cell_type": "markdown",
   "metadata": {
    "colab_type": "text",
    "id": "view-in-github"
   },
   "source": [
    "<a href=\"https://colab.research.google.com/github/ipeirotis/introduction-to-databases/blob/master/session6/assignment_combined.ipynb\" target=\"_parent\"><img src=\"https://colab.research.google.com/assets/colab-badge.svg\" alt=\"Open In Colab\"/></a>"
   ]
  },
  {
   "cell_type": "markdown",
   "metadata": {
    "colab_type": "text",
    "id": "SkZqhwkf8NUg"
   },
   "source": [
    "# Session 6: Putting All Together Assignment\n",
    "\n",
    "\n",
    "In this segment we will connect to the *Music* database."
   ]
  },
  {
   "cell_type": "markdown",
   "metadata": {
    "colab_type": "text",
    "id": "5u_6yLTDT6Kn"
   },
   "source": [
    "## Setup"
   ]
  },
  {
   "cell_type": "code",
   "execution_count": null,
   "metadata": {
    "colab": {},
    "colab_type": "code",
    "id": "O9o9NsaO8hMy"
   },
   "outputs": [],
   "source": [
    "!apt-get install python3-mysqldb\n",
    "!pip install sqlalchemy sql_magic"
   ]
  },
  {
   "cell_type": "code",
   "execution_count": null,
   "metadata": {
    "colab": {},
    "colab_type": "code",
    "id": "EkIL-uRK8NUi"
   },
   "outputs": [],
   "source": [
    "# This code creates a connection to the database\n",
    "from sqlalchemy import create_engine\n",
    "\n",
    "conn_string = 'mysql://{user}:{password}@{host}/{db}?charset={encoding}'.format(\n",
    "    host = 'db.ipeirotis.org', \n",
    "    user = 'student',\n",
    "    db = 'music',\n",
    "    password = 'dwdstudent2015',\n",
    "    encoding = 'utf8mb4')\n",
    "\n",
    "engine = create_engine(conn_string)\n",
    "con = engine.connect()"
   ]
  },
  {
   "cell_type": "code",
   "execution_count": null,
   "metadata": {
    "colab": {
     "base_uri": "https://localhost:8080/",
     "height": 70
    },
    "colab_type": "code",
    "id": "z7muzQXTUFkU",
    "outputId": "23291ed1-433d-4ec4-a078-0071fdf4970a"
   },
   "outputs": [],
   "source": [
    "%reload_ext sql_magic"
   ]
  },
  {
   "cell_type": "code",
   "execution_count": null,
   "metadata": {
    "colab": {},
    "colab_type": "code",
    "id": "uHRIPxBvUGfC"
   },
   "outputs": [],
   "source": [
    "%config SQL.conn_name = 'engine'"
   ]
  },
  {
   "cell_type": "markdown",
   "metadata": {
    "colab_type": "text",
    "id": "NdgXvtmRLayC"
   },
   "source": [
    "This is an example of how you can write an SQL query in the notebook.\n",
    " You write your SQL query after the `%%read_sql` line."
   ]
  },
  {
   "cell_type": "code",
   "execution_count": null,
   "metadata": {
    "colab": {},
    "colab_type": "code",
    "id": "sWa1Uv_6X9zi"
   },
   "outputs": [],
   "source": [
    "%%read_sql\n",
    "SELECT * \n",
    "FROM played"
   ]
  },
  {
   "cell_type": "markdown",
   "metadata": {
    "colab_type": "text",
    "id": "H0hhloRRUJlV"
   },
   "source": [
    "## Question 1: Show the name of the artist and the number of albums for each artist in the database. Name the column that shows the number of albums as `num_albums`."
   ]
  },
  {
   "cell_type": "code",
   "execution_count": null,
   "metadata": {
    "colab": {},
    "colab_type": "code",
    "id": "eL_CnyPRUSGI"
   },
   "outputs": [],
   "source": [
    "%%read_sql\n"
   ]
  },
  {
   "cell_type": "markdown",
   "metadata": {
    "colab_type": "text",
    "id": "Hz_1yX-EUeBQ"
   },
   "source": [
    "## Question 2: Show the name of the album, the number of tracks in the album, and the total length of the album. Name as `num_tracks` the columns that shows the number of tracks, and name as `length_minutes` the columns that shows the time length of the album."
   ]
  },
  {
   "cell_type": "code",
   "execution_count": null,
   "metadata": {
    "colab": {},
    "colab_type": "code",
    "id": "HXy0Ygy3Uf_m"
   },
   "outputs": [],
   "source": [
    "%%read_sql\n",
    "\n"
   ]
  },
  {
   "cell_type": "markdown",
   "metadata": {
    "colab_type": "text",
    "id": "UozymxRTW-wx"
   },
   "source": [
    "## Question 3: Expand query 2, to show not only the name of the album but also the name of the artist, _in addition_ to the information already shown in query 2 (i.e., name of the album, number of tracks, and album length)."
   ]
  },
  {
   "cell_type": "code",
   "execution_count": null,
   "metadata": {
    "colab": {},
    "colab_type": "code",
    "id": "ZwtqsRoGW-wz"
   },
   "outputs": [],
   "source": [
    "%%read_sql\n"
   ]
  },
  {
   "cell_type": "markdown",
   "metadata": {
    "colab_type": "text",
    "id": "8NFSCApmXGZ8"
   },
   "source": [
    "## Question 4: For every artist, show the average length of the tracks, and the standard deviation for the track length.\n",
    "\n"
   ]
  },
  {
   "cell_type": "code",
   "execution_count": null,
   "metadata": {
    "colab": {},
    "colab_type": "code",
    "id": "bcr5iccDXGZ9"
   },
   "outputs": [],
   "source": [
    "%%read_sql\n"
   ]
  },
  {
   "cell_type": "markdown",
   "metadata": {
    "colab_type": "text",
    "id": "nezZleqbUeI_"
   },
   "source": [
    "## Question 5: Analyze the songs that the user has played and, for each artist, show the first and last time that the user has listened to the artist."
   ]
  },
  {
   "cell_type": "code",
   "execution_count": null,
   "metadata": {
    "colab": {},
    "colab_type": "code",
    "id": "rNfpSzT3UgrM"
   },
   "outputs": [],
   "source": [
    "%%read_sql\n"
   ]
  },
  {
   "cell_type": "markdown",
   "metadata": {
    "colab_type": "text",
    "id": "_j2bCzADXODe"
   },
   "source": [
    "## Question 6: Show the name of each track and the time it was played. Include tracks that were not played at all by the user. (Hint: You need an outer join.)"
   ]
  },
  {
   "cell_type": "code",
   "execution_count": null,
   "metadata": {
    "colab": {},
    "colab_type": "code",
    "id": "o9h005rlXODf"
   },
   "outputs": [],
   "source": [
    "%%read_sql\n"
   ]
  },
  {
   "cell_type": "markdown",
   "metadata": {
    "colab_type": "text",
    "id": "HF9cHpSDXaZd"
   },
   "source": [
    "## Question 7: List all the names of the albums and the album length (across all the album's tracks), where the total album length  is longer than 60 minutes."
   ]
  },
  {
   "cell_type": "code",
   "execution_count": null,
   "metadata": {
    "colab": {},
    "colab_type": "code",
    "id": "mvLQdbdiXSmw"
   },
   "outputs": [],
   "source": [
    "%%read_sql\n"
   ]
  },
  {
   "cell_type": "markdown",
   "metadata": {
    "colab_type": "text",
    "id": "ntj5f4n8U3dT"
   },
   "source": [
    "## Question 8: Show the names of the artists that have more than 12 tracks in the database."
   ]
  },
  {
   "cell_type": "code",
   "execution_count": null,
   "metadata": {
    "colab": {},
    "colab_type": "code",
    "id": "mPCpyhbwU3dV"
   },
   "outputs": [],
   "source": [
    "%%read_sql"
   ]
  },
  {
   "cell_type": "markdown",
   "metadata": {
    "colab_type": "text",
    "id": "23bSA8IUU1Og"
   },
   "source": [
    "## Question 9: Show how many tracks are on each of the albums by the artist `New Order`. List the name of the album and the number of tracks in the output."
   ]
  },
  {
   "cell_type": "code",
   "execution_count": null,
   "metadata": {
    "colab": {},
    "colab_type": "code",
    "id": "hTD97qjaU1Oi"
   },
   "outputs": [],
   "source": [
    "%%read_sql\n"
   ]
  },
  {
   "cell_type": "markdown",
   "metadata": {
    "colab_type": "text",
    "id": "eWgdmtHHURaS"
   },
   "source": [
    "## Question 10: By analyzing the songs that the user has played and, for each album, show the first and last time that the user has listened to the album. Include albums that the user has *not* listened at all. List also the artist name for the album. (Hint: you need an *outer* join for this.) "
   ]
  },
  {
   "cell_type": "code",
   "execution_count": null,
   "metadata": {
    "colab": {},
    "colab_type": "code",
    "id": "ygI_N9gBUhWy"
   },
   "outputs": [],
   "source": [
    "%%read_sql\n"
   ]
  }
 ],
 "metadata": {
  "anaconda-cloud": {},
  "colab": {
   "collapsed_sections": [],
   "include_colab_link": true,
   "name": "Session 6: Putting All Together Queries",
   "provenance": []
  },
  "kernelspec": {
   "display_name": "Python 3",
   "language": "python",
   "name": "python3"
  },
  "language_info": {
   "codemirror_mode": {
    "name": "ipython",
    "version": 3
   },
   "file_extension": ".py",
   "mimetype": "text/x-python",
   "name": "python",
   "nbconvert_exporter": "python",
   "pygments_lexer": "ipython3",
   "version": "3.6.6"
  }
 },
 "nbformat": 4,
 "nbformat_minor": 0
}
