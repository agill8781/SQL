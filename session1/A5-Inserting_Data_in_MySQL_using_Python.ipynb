{
  "nbformat": 4,
  "nbformat_minor": 0,
  "metadata": {
    "kernelspec": {
      "display_name": "Python 3",
      "language": "python",
      "name": "python3"
    },
    "language_info": {
      "codemirror_mode": {
        "name": "ipython",
        "version": 3
      },
      "file_extension": ".py",
      "mimetype": "text/x-python",
      "name": "python",
      "nbconvert_exporter": "python",
      "pygments_lexer": "ipython3",
      "version": "3.6.9"
    },
    "colab": {
      "name": "A5-Inserting_Data_in_MySQL_using_Python.ipynb",
      "provenance": []
    }
  },
  "cells": [
    {
      "cell_type": "markdown",
      "metadata": {
        "id": "IhpLu2WHEt02"
      },
      "source": [
        "## Inserting data in MySQL using Python\n",
        "\n",
        "First let's start with a basic piece of code that fetches the data that we want to insert in the database. For our example, we will get the data about the Citibike stations, using the correspoding API call provided by the Citibike website:"
      ]
    },
    {
      "cell_type": "code",
      "metadata": {
        "id": "g-_StVU-Et03"
      },
      "source": [
        "import requests\n",
        "\n",
        "from datetime import date, datetime, timedelta"
      ],
      "execution_count": null,
      "outputs": []
    },
    {
      "cell_type": "code",
      "metadata": {
        "id": "Ues1lO5FEt09"
      },
      "source": [
        "# Let's get the data from the Citibike API\n",
        "url = 'https://gbfs.citibikenyc.com/gbfs/en/station_information.json'\n",
        "results = requests.get(url).json() "
      ],
      "execution_count": null,
      "outputs": []
    },
    {
      "cell_type": "code",
      "metadata": {
        "id": "Jzs_lCvxEt1B"
      },
      "source": [
        "# We only need a subset of the data in the JSON returned by the Citibike API, so we keep only we need\n",
        "data = results[\"data\"][\"stations\"]"
      ],
      "execution_count": null,
      "outputs": []
    },
    {
      "cell_type": "code",
      "metadata": {
        "id": "jAlZwKq8J0OM"
      },
      "source": [
        "len(data)"
      ],
      "execution_count": null,
      "outputs": []
    },
    {
      "cell_type": "markdown",
      "metadata": {
        "id": "A602v25kEt1L"
      },
      "source": [
        "Now we will connect to our MySQL server. We will use the MySQLdb library of Python.\n",
        "\n",
        "If you do not have the library, you need to install it by typing in the shell:\n"
      ]
    },
    {
      "cell_type": "code",
      "metadata": {
        "id": "Zq3aQJmsEt1L"
      },
      "source": [
        "!sudo pip3 install -U -q PyMySQL sqlalchemy sql_magic"
      ],
      "execution_count": null,
      "outputs": []
    },
    {
      "cell_type": "code",
      "metadata": {
        "id": "KxuM5dGREt1Q"
      },
      "source": [
        "import sqlalchemy\n",
        "from sqlalchemy import create_engine\n",
        "\n",
        "conn_string = 'mysql+pymysql://{user}:{password}@{host}/'.format(\n",
        "    host = 'db.ipeirotis.org', \n",
        "    user = 'student',\n",
        "    password = 'dwdstudent2015')\n",
        "\n",
        "engine = create_engine(conn_string)"
      ],
      "execution_count": null,
      "outputs": []
    },
    {
      "cell_type": "markdown",
      "metadata": {
        "id": "VzsnOW_AEt1U"
      },
      "source": [
        "Once we have connected successfully, we need to create our database:"
      ]
    },
    {
      "cell_type": "code",
      "metadata": {
        "id": "TQT4IE2FEt1U"
      },
      "source": [
        "# Query to create a database\n",
        "# In this example, we will try to create the (existing) database \"public\"\n",
        "# But in general, we can give any name to the database\n",
        "db_name = 'public'\n",
        "create_db_query = f\"CREATE DATABASE IF NOT EXISTS {db_name} DEFAULT CHARACTER SET 'utf8'\"\n",
        "\n",
        "# Create a database\n",
        "engine.execute(create_db_query)"
      ],
      "execution_count": null,
      "outputs": []
    },
    {
      "cell_type": "markdown",
      "metadata": {
        "id": "3sa0ArJhEt1Z"
      },
      "source": [
        "Then we create the table where we will store our data. For our example, we will just import three fields in the database: station_id, station_name, and number_of_docks"
      ]
    },
    {
      "cell_type": "code",
      "metadata": {
        "id": "qzWnULWfEt1a"
      },
      "source": [
        "# To avoid conflicts between people writing in the same database, we add a random suffix in the tables\n",
        "# We only create the variable once while running the notebook\n",
        "import uuid\n",
        "if 'suffix' not in globals():\n",
        "    suffix = str(uuid.uuid4())[:8]\n",
        "print(suffix)"
      ],
      "execution_count": null,
      "outputs": []
    },
    {
      "cell_type": "code",
      "metadata": {
        "id": "gTbzvvk7J-Fd"
      },
      "source": [
        "data[1]"
      ],
      "execution_count": null,
      "outputs": []
    },
    {
      "cell_type": "code",
      "metadata": {
        "id": "GW0oeuOcEt1e"
      },
      "source": [
        "table_name = f'Docks_{suffix}'\n",
        "# Create a table\n",
        "create_table_query = f'''CREATE TABLE IF NOT EXISTS {db_name}.{table_name} \n",
        "                                (station_id int, \n",
        "                                station_name varchar(250), \n",
        "                                capacity int,\n",
        "                                PRIMARY KEY(station_id)\n",
        "                                )'''\n",
        "engine.execute(create_table_query)\n"
      ],
      "execution_count": null,
      "outputs": []
    },
    {
      "cell_type": "markdown",
      "metadata": {
        "id": "hdI9lReyEt1h"
      },
      "source": [
        "Finally, we import the data into our table, using the INSERT command. "
      ]
    },
    {
      "cell_type": "code",
      "metadata": {
        "scrolled": true,
        "id": "qQLqOddcEt1i"
      },
      "source": [
        "query_template = f'''INSERT INTO {db_name}.{table_name}(station_id, \n",
        "                                            station_name, \n",
        "                                            capacity) \n",
        "                    VALUES (%s, %s, %s)'''\n",
        "\n",
        "# THIS IS PROHIBITED\n",
        "# query = \"INSERT INTO citibike.Docks(station_id, station_name, number_of_docks) VALUES (\"+entry[\"id\"]+\", \"+entry[\"stationName\"]+\", \"+entry[\"totalDocks\"]+\")\"\n",
        "\n",
        "\n",
        "for entry in data:\n",
        "    dockid = entry[\"station_id\"]\n",
        "    addr = entry[\"name\"]\n",
        "    docks = entry[\"capacity\"]\n",
        "    # available = entry[\"availableDocks\"]\n",
        "    # date =  datetime.now()\n",
        "    # lastcommunicationtime is a string of \n",
        "    # the form \"2016-02-09 10:16:49 AM\"\n",
        "    # See https://docs.python.org/2/library/datetime.html#strftime-and-strptime-behavior\n",
        "    # to see the documentation on how to parse \n",
        "    # date = datetime.strptime(entry[\"lastCommunicationTime\"], '%Y-%m-%d %I:%M:%S %p')\n",
        "    \n",
        "    # print(\"Inserting station\", dockid, \"at\", addr)\n",
        "    query_parameters = (dockid, addr, docks)\n",
        "    engine.execute(query_template, query_parameters)\n",
        "\n"
      ],
      "execution_count": null,
      "outputs": []
    },
    {
      "cell_type": "markdown",
      "metadata": {
        "id": "nZPtYSJOEt1s"
      },
      "source": [
        "Now let's see how to query the database"
      ]
    },
    {
      "cell_type": "code",
      "metadata": {
        "id": "qcdbX7AWEt1t"
      },
      "source": [
        "results = engine.execute(f\"SELECT * FROM {db_name}.{table_name}\")\n",
        "rows = results.fetchall()\n",
        "results.close()"
      ],
      "execution_count": null,
      "outputs": []
    },
    {
      "cell_type": "code",
      "metadata": {
        "id": "BT-lYjnXEt1w"
      },
      "source": [
        "for row in rows:\n",
        "    print(\"Station ID:\", row[\"station_id\"])\n",
        "    print(\"Station Name:\", row[\"station_name\"])\n",
        "    print(\"Number of Docks:\", row[\"capacity\"])\n",
        "    print(\"=============================================\")"
      ],
      "execution_count": null,
      "outputs": []
    },
    {
      "cell_type": "markdown",
      "metadata": {
        "id": "Ifc_6hwwEt1z"
      },
      "source": [
        "Finally, let's clean up and close our database connection."
      ]
    },
    {
      "cell_type": "code",
      "metadata": {
        "id": "AWMXngKcEt1z"
      },
      "source": [
        "drop_table_query = f\"DROP TABLE IF EXISTS {db_name}.{table_name}\"\n",
        "engine.execute(drop_table_query)"
      ],
      "execution_count": null,
      "outputs": []
    },
    {
      "cell_type": "code",
      "metadata": {
        "id": "pmcChvSMLtCh"
      },
      "source": [
        ""
      ],
      "execution_count": null,
      "outputs": []
    },
    {
      "cell_type": "markdown",
      "metadata": {
        "id": "W9fjdQPNLwfh"
      },
      "source": [
        "## Exercise\n",
        "\n",
        "At `https://gbfs.citibikenyc.com/gbfs/en/station_status.json` we can access the live status of all the stations (e.g., bikes available etc). Using the approach outlined above, create a table in the database (using the same table suffix that we created above) and store the data in the database."
      ]
    }
  ]
}