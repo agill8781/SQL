{
 "cells": [
  {
   "cell_type": "code",
   "execution_count": null,
   "metadata": {},
   "outputs": [],
   "source": [
    "# !sudo pip3 install -U -q PyMySQL sqlalchemy sql_magic tqdm"
   ]
  },
  {
   "cell_type": "code",
   "execution_count": null,
   "metadata": {},
   "outputs": [],
   "source": [
    "import requests"
   ]
  },
  {
   "cell_type": "code",
   "execution_count": null,
   "metadata": {},
   "outputs": [],
   "source": [
    "# This gives information for each station that remains stable over time\n",
    "url_stations = \"https://gbfs.citibikenyc.com/gbfs/en/station_information.json\""
   ]
  },
  {
   "cell_type": "code",
   "execution_count": null,
   "metadata": {},
   "outputs": [],
   "source": [
    "# This gives the live status of all the stations (e.g., bikes available etc)\n",
    "url_status = \"https://gbfs.citibikenyc.com/gbfs/en/station_status.json\""
   ]
  },
  {
   "cell_type": "code",
   "execution_count": null,
   "metadata": {},
   "outputs": [],
   "source": [
    "# We fetch for now just the time-invariant data\n",
    "results = requests.get(url_stations).json()"
   ]
  },
  {
   "cell_type": "code",
   "execution_count": null,
   "metadata": {},
   "outputs": [],
   "source": [
    "# We only need a subset of the data in the JSON returned by the Citibike API, so we keep only what we need\n",
    "stations = results[\"data\"][\"stations\"]"
   ]
  },
  {
   "cell_type": "code",
   "execution_count": null,
   "metadata": {},
   "outputs": [],
   "source": [
    "# We will not be using dataframes for this insertion task. (See the A6 notebook if you want to use Pandas)\n",
    "# We just put the data in a dataframe to understand what is going on.\n",
    "import pandas as pd\n",
    "\n",
    "df_stations = pd.DataFrame(stations)\n",
    "df_stations.head(5)"
   ]
  },
  {
   "cell_type": "code",
   "execution_count": null,
   "metadata": {},
   "outputs": [],
   "source": [
    "import sqlalchemy\n",
    "from sqlalchemy import create_engine\n",
    "\n",
    "conn_string = \"mysql+pymysql://{user}:{password}@{host}/\".format(\n",
    "    host=\"db.ipeirotis.org\", user=\"student\", password=\"dwdstudent2015\"\n",
    ")\n",
    "\n",
    "engine = create_engine(conn_string)\n",
    "\n",
    "db_name = \"public\"\n",
    "create_db_query = (\n",
    "    f\"CREATE DATABASE IF NOT EXISTS {db_name} DEFAULT CHARACTER SET 'utf8'\"\n",
    ")\n",
    "\n",
    "# Create a database\n",
    "engine.execute(create_db_query)\n",
    "\n",
    "# And lets switch to the database\n",
    "engine.execute(f\"USE {db_name}\")\n",
    "\n",
    "# To avoid conflicts between people writing in the same database, we add a random suffix in the tables\n",
    "# We only create the variable once while running the notebook\n",
    "import uuid\n",
    "\n",
    "if \"suffix\" not in globals():\n",
    "    suffix = str(uuid.uuid4())[:8]\n",
    "print(suffix)"
   ]
  },
  {
   "cell_type": "code",
   "execution_count": null,
   "metadata": {},
   "outputs": [],
   "source": [
    "# Create the two tables. One for storing the time-invariant station data\n",
    "# and another table to store the time-varying station status data\n",
    "stations_table = f\"Stations_{suffix}\"\n",
    "\n",
    "sql = f\"\"\"CREATE TABLE IF NOT EXISTS {stations_table}\n",
    "                                (station_id int, \n",
    "                                name varchar(250), \n",
    "                                capacity int,\n",
    "                                lat float,\n",
    "                                lon float,\n",
    "                                region_id int,\n",
    "                                short_name varchar(250),\n",
    "                                rental_url varchar(250),\n",
    "                                eightd_has_key_dispenser bool,\n",
    "                                PRIMARY KEY(station_id)\n",
    "                 )\"\"\"\n",
    "engine.execute(sql)"
   ]
  },
  {
   "cell_type": "code",
   "execution_count": null,
   "metadata": {},
   "outputs": [],
   "source": [
    "# Create the time-varying table\n",
    "status_table = f\"Status_{suffix}\"\n",
    "sql = f\"\"\"CREATE TABLE IF NOT EXISTS {status_table}\n",
    "                                (station_id int, \n",
    "                                last_reported datetime,\n",
    "                                num_bikes_available int,\n",
    "                                num_ebikes_available int,\n",
    "                                num_bikes_disabled int,\n",
    "                                num_docks_available int,\n",
    "                                num_docks_disabled int,\n",
    "                                is_installed bool,\n",
    "                                is_renting bool,\n",
    "                                is_returning bool,\n",
    "                                PRIMARY KEY(station_id, last_reported)\n",
    "                                )\"\"\"\n",
    "engine.execute(sql)"
   ]
  },
  {
   "cell_type": "code",
   "execution_count": null,
   "metadata": {},
   "outputs": [],
   "source": [
    "stations[0]"
   ]
  },
  {
   "cell_type": "code",
   "execution_count": null,
   "metadata": {},
   "outputs": [],
   "source": [
    "# We fetch for now just the time-invariant data\n",
    "# Notice that we have the INSERT IGNORE so that even when we add the same entry\n",
    "# again, we do not get an error that the line exists. We do get warnings\n",
    "# but this is expected\n",
    "\n",
    "from sqlalchemy.sql import text\n",
    "from tqdm.autonotebook import tqdm\n",
    "\n",
    "query_template = text(\n",
    "    f\"\"\"INSERT IGNORE INTO {db_name}.{stations_table}\n",
    "            (station_id, name, capacity, lat, lon,\n",
    "            region_id, short_name, rental_url, eightd_has_key_dispenser) \n",
    "        VALUES (:station_id, :name, :capacity, :lat, :lon, :region_id, \n",
    "                    :short_name, :rental_url, :eightd_has_key_dispenser)\"\"\"\n",
    ")\n",
    "\n",
    "# The tqdm(stations) shows a progress bar\n",
    "for entry in tqdm(stations):\n",
    "\n",
    "    query_parameters = {\n",
    "        \"station_id\": int(entry[\"station_id\"]),\n",
    "        \"name\": entry.get(\"name\"),\n",
    "        \"capacity\": entry.get(\"capacity\"),\n",
    "        \"lat\": entry.get(\"lat\"),\n",
    "        \"lon\": entry.get(\"lon\"),\n",
    "        \"region_id\": entry.get(\"region_id\"),\n",
    "        \"short_name\": entry.get(\"short_name\"),\n",
    "        \"rental_url\": entry.get(\"rental_url\"),\n",
    "        \"eightd_has_key_dispenser\": entry.get(\"eightd_has_key_dispenser\"),\n",
    "    }\n",
    "\n",
    "    engine.execute(query_template, **query_parameters)"
   ]
  },
  {
   "cell_type": "code",
   "execution_count": null,
   "metadata": {},
   "outputs": [],
   "source": [
    "check = pd.read_sql(f\"SELECT * FROM {db_name}.{stations_table}\", con=engine)\n",
    "check"
   ]
  },
  {
   "cell_type": "code",
   "execution_count": null,
   "metadata": {},
   "outputs": [],
   "source": [
    "%matplotlib inline\n",
    "check.plot(kind=\"scatter\", x=\"lon\", y=\"lat\", s=1, figsize=(10, 10))"
   ]
  },
  {
   "cell_type": "code",
   "execution_count": null,
   "metadata": {},
   "outputs": [],
   "source": [
    "results = requests.get(url_status).json()\n",
    "status = results[\"data\"][\"stations\"]\n",
    "status[0]"
   ]
  },
  {
   "cell_type": "code",
   "execution_count": null,
   "metadata": {},
   "outputs": [],
   "source": [
    "# Now we fetch the data about the time varying elements of the citibike stations\n",
    "from datetime import datetime\n",
    "\n",
    "query_template = text(\n",
    "    f\"\"\"INSERT IGNORE INTO {db_name}.{status_table}(station_id, \n",
    "                                            num_bikes_available,\n",
    "                                            num_ebikes_available,\n",
    "                                            num_bikes_disabled,\n",
    "                                            num_docks_available,\n",
    "                                            num_docks_disabled,\n",
    "                                            is_installed,\n",
    "                                            is_renting,\n",
    "                                            is_returning,\n",
    "                                            last_reported) \n",
    "                    VALUES (:station_id, :num_bikes_available, :num_ebikes_available, :num_bikes_disabled,\n",
    "                    :num_docks_available, :num_docks_disabled, :is_installed, :is_renting, :is_returning, :last_reported)\"\"\"\n",
    ")\n",
    "\n",
    "for entry in tqdm(status):\n",
    "    query_parameters = {\n",
    "        \"station_id\": int(entry[\"station_id\"]),\n",
    "        \"num_bikes_available\": entry[\"num_bikes_available\"],\n",
    "        \"num_bikes_disabled\": entry[\"num_bikes_disabled\"],\n",
    "        \"num_ebikes_available\": entry[\"num_ebikes_available\"],\n",
    "        \"num_docks_available\": entry[\"num_docks_available\"],\n",
    "        \"num_docks_disabled\": entry[\"num_docks_disabled\"],\n",
    "        \"is_installed\": entry[\"is_installed\"],\n",
    "        \"is_renting\": entry[\"is_renting\"],\n",
    "        \"is_returning\": entry[\"is_returning\"],\n",
    "        \"last_reported\": datetime.fromtimestamp(entry[\"last_reported\"]),\n",
    "    }\n",
    "\n",
    "    engine.execute(query_template, **query_parameters)"
   ]
  },
  {
   "cell_type": "code",
   "execution_count": null,
   "metadata": {},
   "outputs": [],
   "source": [
    "check = pd.read_sql(f\"SELECT * FROM {db_name}.{status_table}\", con=engine)\n",
    "check"
   ]
  },
  {
   "cell_type": "code",
   "execution_count": null,
   "metadata": {},
   "outputs": [],
   "source": [
    "drop_table_query = f\"DROP TABLE IF EXISTS {db_name}.{status_table}\"\n",
    "print(drop_table_query)\n",
    "engine.execute(drop_table_query)"
   ]
  },
  {
   "cell_type": "code",
   "execution_count": null,
   "metadata": {},
   "outputs": [],
   "source": [
    "drop_table_query = f\"DROP TABLE IF EXISTS {db_name}.{stations_table}\"\n",
    "print(drop_table_query)\n",
    "engine.execute(drop_table_query)"
   ]
  }
 ],
 "metadata": {
  "kernelspec": {
   "display_name": "Python 3",
   "language": "python",
   "name": "python3"
  },
  "language_info": {
   "codemirror_mode": {
    "name": "ipython",
    "version": 3
   },
   "file_extension": ".py",
   "mimetype": "text/x-python",
   "name": "python",
   "nbconvert_exporter": "python",
   "pygments_lexer": "ipython3",
   "version": "3.8.2"
  }
 },
 "nbformat": 4,
 "nbformat_minor": 2
}
