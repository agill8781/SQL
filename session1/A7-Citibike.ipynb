{
 "cells": [
  {
   "cell_type": "code",
   "execution_count": 1,
   "metadata": {},
   "outputs": [],
   "source": [
    "# !sudo pip3 install -U -q PyMySQL sqlalchemy sql_magic tqdm"
   ]
  },
  {
   "cell_type": "code",
   "execution_count": 2,
   "metadata": {},
   "outputs": [],
   "source": [
    "import requests"
   ]
  },
  {
   "cell_type": "code",
   "execution_count": 3,
   "metadata": {},
   "outputs": [],
   "source": [
    "# This gives information for each station that remains stable over time\n",
    "url_stations = \"https://gbfs.citibikenyc.com/gbfs/en/station_information.json\""
   ]
  },
  {
   "cell_type": "code",
   "execution_count": 4,
   "metadata": {},
   "outputs": [],
   "source": [
    "# This gives the live status of all the stations (e.g., bikes available etc)\n",
    "url_status = \"https://gbfs.citibikenyc.com/gbfs/en/station_status.json\""
   ]
  },
  {
   "cell_type": "code",
   "execution_count": 5,
   "metadata": {},
   "outputs": [],
   "source": [
    "# We fetch for now just the time-invariant data\n",
    "results = requests.get(url_stations).json()"
   ]
  },
  {
   "cell_type": "code",
   "execution_count": 6,
   "metadata": {},
   "outputs": [],
   "source": [
    "# We only need a subset of the data in the JSON returned by the Citibike API, so we keep only what we need\n",
    "stations = results[\"data\"][\"stations\"]"
   ]
  },
  {
   "cell_type": "code",
   "execution_count": 7,
   "metadata": {},
   "outputs": [
    {
     "data": {
      "text/html": [
       "<div>\n",
       "<style scoped>\n",
       "    .dataframe tbody tr th:only-of-type {\n",
       "        vertical-align: middle;\n",
       "    }\n",
       "\n",
       "    .dataframe tbody tr th {\n",
       "        vertical-align: top;\n",
       "    }\n",
       "\n",
       "    .dataframe thead th {\n",
       "        text-align: right;\n",
       "    }\n",
       "</style>\n",
       "<table border=\"1\" class=\"dataframe\">\n",
       "  <thead>\n",
       "    <tr style=\"text-align: right;\">\n",
       "      <th></th>\n",
       "      <th>station_id</th>\n",
       "      <th>rental_uris</th>\n",
       "      <th>region_id</th>\n",
       "      <th>legacy_id</th>\n",
       "      <th>name</th>\n",
       "      <th>capacity</th>\n",
       "      <th>short_name</th>\n",
       "      <th>eightd_has_key_dispenser</th>\n",
       "      <th>external_id</th>\n",
       "      <th>has_kiosk</th>\n",
       "      <th>lat</th>\n",
       "      <th>lon</th>\n",
       "      <th>eightd_station_services</th>\n",
       "      <th>electric_bike_surcharge_waiver</th>\n",
       "      <th>station_type</th>\n",
       "      <th>rental_methods</th>\n",
       "    </tr>\n",
       "  </thead>\n",
       "  <tbody>\n",
       "    <tr>\n",
       "      <th>0</th>\n",
       "      <td>72</td>\n",
       "      <td>{'ios': 'https://bkn.lft.to/lastmile_qr_scan',...</td>\n",
       "      <td>71</td>\n",
       "      <td>72</td>\n",
       "      <td>W 52 St &amp; 11 Ave</td>\n",
       "      <td>55</td>\n",
       "      <td>6926.01</td>\n",
       "      <td>False</td>\n",
       "      <td>66db237e-0aca-11e7-82f6-3863bb44ef7c</td>\n",
       "      <td>True</td>\n",
       "      <td>40.767272</td>\n",
       "      <td>-73.993929</td>\n",
       "      <td>[]</td>\n",
       "      <td>False</td>\n",
       "      <td>classic</td>\n",
       "      <td>[KEY, CREDITCARD]</td>\n",
       "    </tr>\n",
       "    <tr>\n",
       "      <th>1</th>\n",
       "      <td>79</td>\n",
       "      <td>{'ios': 'https://bkn.lft.to/lastmile_qr_scan',...</td>\n",
       "      <td>71</td>\n",
       "      <td>79</td>\n",
       "      <td>Franklin St &amp; W Broadway</td>\n",
       "      <td>33</td>\n",
       "      <td>5430.08</td>\n",
       "      <td>False</td>\n",
       "      <td>66db269c-0aca-11e7-82f6-3863bb44ef7c</td>\n",
       "      <td>True</td>\n",
       "      <td>40.719116</td>\n",
       "      <td>-74.006667</td>\n",
       "      <td>[]</td>\n",
       "      <td>False</td>\n",
       "      <td>classic</td>\n",
       "      <td>[KEY, CREDITCARD]</td>\n",
       "    </tr>\n",
       "    <tr>\n",
       "      <th>2</th>\n",
       "      <td>82</td>\n",
       "      <td>{'ios': 'https://bkn.lft.to/lastmile_qr_scan',...</td>\n",
       "      <td>71</td>\n",
       "      <td>82</td>\n",
       "      <td>St James Pl &amp; Pearl St</td>\n",
       "      <td>27</td>\n",
       "      <td>5167.06</td>\n",
       "      <td>False</td>\n",
       "      <td>66db277a-0aca-11e7-82f6-3863bb44ef7c</td>\n",
       "      <td>True</td>\n",
       "      <td>40.711174</td>\n",
       "      <td>-74.000165</td>\n",
       "      <td>[]</td>\n",
       "      <td>False</td>\n",
       "      <td>classic</td>\n",
       "      <td>[KEY, CREDITCARD]</td>\n",
       "    </tr>\n",
       "    <tr>\n",
       "      <th>3</th>\n",
       "      <td>83</td>\n",
       "      <td>{'ios': 'https://bkn.lft.to/lastmile_qr_scan',...</td>\n",
       "      <td>71</td>\n",
       "      <td>83</td>\n",
       "      <td>Atlantic Ave &amp; Fort Greene Pl</td>\n",
       "      <td>62</td>\n",
       "      <td>4354.07</td>\n",
       "      <td>False</td>\n",
       "      <td>66db281e-0aca-11e7-82f6-3863bb44ef7c</td>\n",
       "      <td>True</td>\n",
       "      <td>40.683826</td>\n",
       "      <td>-73.976323</td>\n",
       "      <td>[]</td>\n",
       "      <td>False</td>\n",
       "      <td>classic</td>\n",
       "      <td>[KEY, CREDITCARD]</td>\n",
       "    </tr>\n",
       "    <tr>\n",
       "      <th>4</th>\n",
       "      <td>116</td>\n",
       "      <td>{'ios': 'https://bkn.lft.to/lastmile_qr_scan',...</td>\n",
       "      <td>71</td>\n",
       "      <td>116</td>\n",
       "      <td>W 17 St &amp; 8 Ave</td>\n",
       "      <td>50</td>\n",
       "      <td>6148.02</td>\n",
       "      <td>False</td>\n",
       "      <td>66db28b5-0aca-11e7-82f6-3863bb44ef7c</td>\n",
       "      <td>True</td>\n",
       "      <td>40.741776</td>\n",
       "      <td>-74.001497</td>\n",
       "      <td>[]</td>\n",
       "      <td>False</td>\n",
       "      <td>classic</td>\n",
       "      <td>[KEY, CREDITCARD]</td>\n",
       "    </tr>\n",
       "  </tbody>\n",
       "</table>\n",
       "</div>"
      ],
      "text/plain": [
       "  station_id                                        rental_uris region_id  \\\n",
       "0         72  {'ios': 'https://bkn.lft.to/lastmile_qr_scan',...        71   \n",
       "1         79  {'ios': 'https://bkn.lft.to/lastmile_qr_scan',...        71   \n",
       "2         82  {'ios': 'https://bkn.lft.to/lastmile_qr_scan',...        71   \n",
       "3         83  {'ios': 'https://bkn.lft.to/lastmile_qr_scan',...        71   \n",
       "4        116  {'ios': 'https://bkn.lft.to/lastmile_qr_scan',...        71   \n",
       "\n",
       "  legacy_id                           name  capacity short_name  \\\n",
       "0        72               W 52 St & 11 Ave        55    6926.01   \n",
       "1        79       Franklin St & W Broadway        33    5430.08   \n",
       "2        82         St James Pl & Pearl St        27    5167.06   \n",
       "3        83  Atlantic Ave & Fort Greene Pl        62    4354.07   \n",
       "4       116                W 17 St & 8 Ave        50    6148.02   \n",
       "\n",
       "   eightd_has_key_dispenser                           external_id  has_kiosk  \\\n",
       "0                     False  66db237e-0aca-11e7-82f6-3863bb44ef7c       True   \n",
       "1                     False  66db269c-0aca-11e7-82f6-3863bb44ef7c       True   \n",
       "2                     False  66db277a-0aca-11e7-82f6-3863bb44ef7c       True   \n",
       "3                     False  66db281e-0aca-11e7-82f6-3863bb44ef7c       True   \n",
       "4                     False  66db28b5-0aca-11e7-82f6-3863bb44ef7c       True   \n",
       "\n",
       "         lat        lon eightd_station_services  \\\n",
       "0  40.767272 -73.993929                      []   \n",
       "1  40.719116 -74.006667                      []   \n",
       "2  40.711174 -74.000165                      []   \n",
       "3  40.683826 -73.976323                      []   \n",
       "4  40.741776 -74.001497                      []   \n",
       "\n",
       "   electric_bike_surcharge_waiver station_type     rental_methods  \n",
       "0                           False      classic  [KEY, CREDITCARD]  \n",
       "1                           False      classic  [KEY, CREDITCARD]  \n",
       "2                           False      classic  [KEY, CREDITCARD]  \n",
       "3                           False      classic  [KEY, CREDITCARD]  \n",
       "4                           False      classic  [KEY, CREDITCARD]  "
      ]
     },
     "execution_count": 7,
     "metadata": {},
     "output_type": "execute_result"
    }
   ],
   "source": [
    "# We will not be using dataframes for this insertion task. (See the A6 notebook if you want to use Pandas)\n",
    "# We just put the data in a dataframe to understand what is going on.\n",
    "import pandas as pd\n",
    "\n",
    "df_stations = pd.DataFrame(stations)\n",
    "df_stations.head(5)"
   ]
  },
  {
   "cell_type": "code",
   "execution_count": 8,
   "metadata": {},
   "outputs": [
    {
     "name": "stdout",
     "output_type": "stream",
     "text": [
      "bc139831\n"
     ]
    }
   ],
   "source": [
    "import sqlalchemy\n",
    "from sqlalchemy import create_engine\n",
    "\n",
    "conn_string = \"mysql://{user}:{password}@{host}/\".format(\n",
    "    host=\"db.ipeirotis.org\", user=\"student\", password=\"dwdstudent2015\"\n",
    ")\n",
    "\n",
    "engine = create_engine(conn_string)\n",
    "\n",
    "db_name = \"public\"\n",
    "create_db_query = (\n",
    "    f\"CREATE DATABASE IF NOT EXISTS {db_name} DEFAULT CHARACTER SET 'utf8'\"\n",
    ")\n",
    "\n",
    "# Create a database\n",
    "engine.execute(create_db_query)\n",
    "\n",
    "# And lets switch to the database\n",
    "engine.execute(f\"USE {db_name}\")\n",
    "\n",
    "# To avoid conflicts between people writing in the same database, we add a random suffix in the tables\n",
    "# We only create the variable once while running the notebook\n",
    "import uuid\n",
    "\n",
    "if \"suffix\" not in globals():\n",
    "    suffix = str(uuid.uuid4())[:8]\n",
    "print(suffix)"
   ]
  },
  {
   "cell_type": "code",
   "execution_count": 9,
   "metadata": {},
   "outputs": [
    {
     "data": {
      "text/plain": [
       "<sqlalchemy.engine.result.ResultProxy at 0x7f88d21f42b0>"
      ]
     },
     "execution_count": 9,
     "metadata": {},
     "output_type": "execute_result"
    }
   ],
   "source": [
    "# Create the two tables. One for storing the time-invariant station data\n",
    "# and another table to store the time-varying station status data\n",
    "stations_table = f\"Stations_{suffix}\"\n",
    "\n",
    "sql = f\"\"\"CREATE TABLE IF NOT EXISTS {stations_table}\n",
    "                                (station_id int, \n",
    "                                name varchar(250), \n",
    "                                capacity int,\n",
    "                                lat float,\n",
    "                                lon float,\n",
    "                                region_id int,\n",
    "                                short_name varchar(250),\n",
    "                                rental_url varchar(250),\n",
    "                                eightd_has_key_dispenser bool,\n",
    "                                PRIMARY KEY(station_id)\n",
    "                 )\"\"\"\n",
    "engine.execute(sql)"
   ]
  },
  {
   "cell_type": "code",
   "execution_count": 10,
   "metadata": {},
   "outputs": [
    {
     "data": {
      "text/plain": [
       "<sqlalchemy.engine.result.ResultProxy at 0x7f88d21f4580>"
      ]
     },
     "execution_count": 10,
     "metadata": {},
     "output_type": "execute_result"
    }
   ],
   "source": [
    "# Create the time-varying table\n",
    "status_table = f\"Status_{suffix}\"\n",
    "sql = f\"\"\"CREATE TABLE IF NOT EXISTS {status_table}\n",
    "                                (station_id int, \n",
    "                                last_reported datetime,\n",
    "                                num_bikes_available int,\n",
    "                                num_ebikes_available int,\n",
    "                                num_bikes_disabled int,\n",
    "                                num_docks_available int,\n",
    "                                num_docks_disabled int,\n",
    "                                is_installed bool,\n",
    "                                is_renting bool,\n",
    "                                is_returning bool,\n",
    "                                PRIMARY KEY(station_id, last_reported)\n",
    "                                )\"\"\"\n",
    "engine.execute(sql)"
   ]
  },
  {
   "cell_type": "code",
   "execution_count": 11,
   "metadata": {},
   "outputs": [
    {
     "data": {
      "text/plain": [
       "{'station_id': '72',\n",
       " 'rental_uris': {'ios': 'https://bkn.lft.to/lastmile_qr_scan',\n",
       "  'android': 'https://bkn.lft.to/lastmile_qr_scan'},\n",
       " 'region_id': '71',\n",
       " 'legacy_id': '72',\n",
       " 'name': 'W 52 St & 11 Ave',\n",
       " 'capacity': 55,\n",
       " 'short_name': '6926.01',\n",
       " 'eightd_has_key_dispenser': False,\n",
       " 'external_id': '66db237e-0aca-11e7-82f6-3863bb44ef7c',\n",
       " 'has_kiosk': True,\n",
       " 'lat': 40.76727216,\n",
       " 'lon': -73.99392888,\n",
       " 'eightd_station_services': [],\n",
       " 'electric_bike_surcharge_waiver': False,\n",
       " 'station_type': 'classic',\n",
       " 'rental_methods': ['KEY', 'CREDITCARD']}"
      ]
     },
     "execution_count": 11,
     "metadata": {},
     "output_type": "execute_result"
    }
   ],
   "source": [
    "stations[0]"
   ]
  },
  {
   "cell_type": "code",
   "execution_count": 12,
   "metadata": {},
   "outputs": [
    {
     "name": "stderr",
     "output_type": "stream",
     "text": [
      "<ipython-input-12-ea1ed18d7525>:7: TqdmExperimentalWarning: Using `tqdm.autonotebook.tqdm` in notebook mode. Use `tqdm.tqdm` instead to force console mode (e.g. in jupyter console)\n",
      "  from tqdm.autonotebook import tqdm\n"
     ]
    },
    {
     "data": {
      "application/vnd.jupyter.widget-view+json": {
       "model_id": "1f678016ae36440fbe5f409ebe4b4c36",
       "version_major": 2,
       "version_minor": 0
      },
      "text/plain": [
       "HBox(children=(FloatProgress(value=0.0, max=1393.0), HTML(value='')))"
      ]
     },
     "metadata": {},
     "output_type": "display_data"
    },
    {
     "name": "stdout",
     "output_type": "stream",
     "text": [
      "\n"
     ]
    }
   ],
   "source": [
    "# We fetch for now just the time-invariant data\n",
    "# Notice that we have the INSERT IGNORE so that even when we add the same entry\n",
    "# again, we do not get an error that the line exists. We do get warnings\n",
    "# but this is expected\n",
    "\n",
    "from sqlalchemy.sql import text\n",
    "from tqdm.autonotebook import tqdm\n",
    "\n",
    "query_template = text(\n",
    "    f\"\"\"INSERT IGNORE INTO {db_name}.{stations_table}\n",
    "            (station_id, name, capacity, lat, lon,\n",
    "            region_id, short_name, rental_url, eightd_has_key_dispenser) \n",
    "        VALUES (:station_id, :name, :capacity, :lat, :lon, :region_id, \n",
    "                    :short_name, :rental_url, :eightd_has_key_dispenser)\"\"\"\n",
    ")\n",
    "\n",
    "# The tqdm(stations) shows a progress bar\n",
    "for entry in tqdm(stations):\n",
    "\n",
    "    query_parameters = {\n",
    "        \"station_id\": int(entry[\"station_id\"]),\n",
    "        \"name\": entry.get(\"name\"),\n",
    "        \"capacity\": entry.get(\"capacity\"),\n",
    "        \"lat\": entry.get(\"lat\"),\n",
    "        \"lon\": entry.get(\"lon\"),\n",
    "        \"region_id\": entry.get(\"region_id\"),\n",
    "        \"short_name\": entry.get(\"short_name\"),\n",
    "        \"rental_url\": entry.get(\"rental_url\"),\n",
    "        \"eightd_has_key_dispenser\": entry.get(\"eightd_has_key_dispenser\"),\n",
    "    }\n",
    "\n",
    "    engine.execute(query_template, **query_parameters)"
   ]
  },
  {
   "cell_type": "code",
   "execution_count": 13,
   "metadata": {},
   "outputs": [
    {
     "data": {
      "text/html": [
       "<div>\n",
       "<style scoped>\n",
       "    .dataframe tbody tr th:only-of-type {\n",
       "        vertical-align: middle;\n",
       "    }\n",
       "\n",
       "    .dataframe tbody tr th {\n",
       "        vertical-align: top;\n",
       "    }\n",
       "\n",
       "    .dataframe thead th {\n",
       "        text-align: right;\n",
       "    }\n",
       "</style>\n",
       "<table border=\"1\" class=\"dataframe\">\n",
       "  <thead>\n",
       "    <tr style=\"text-align: right;\">\n",
       "      <th></th>\n",
       "      <th>station_id</th>\n",
       "      <th>name</th>\n",
       "      <th>capacity</th>\n",
       "      <th>lat</th>\n",
       "      <th>lon</th>\n",
       "      <th>region_id</th>\n",
       "      <th>short_name</th>\n",
       "      <th>rental_url</th>\n",
       "      <th>eightd_has_key_dispenser</th>\n",
       "    </tr>\n",
       "  </thead>\n",
       "  <tbody>\n",
       "    <tr>\n",
       "      <th>0</th>\n",
       "      <td>72</td>\n",
       "      <td>W 52 St &amp; 11 Ave</td>\n",
       "      <td>55</td>\n",
       "      <td>40.7673</td>\n",
       "      <td>-73.9939</td>\n",
       "      <td>71.0</td>\n",
       "      <td>6926.01</td>\n",
       "      <td>None</td>\n",
       "      <td>0</td>\n",
       "    </tr>\n",
       "    <tr>\n",
       "      <th>1</th>\n",
       "      <td>79</td>\n",
       "      <td>Franklin St &amp; W Broadway</td>\n",
       "      <td>33</td>\n",
       "      <td>40.7191</td>\n",
       "      <td>-74.0067</td>\n",
       "      <td>71.0</td>\n",
       "      <td>5430.08</td>\n",
       "      <td>None</td>\n",
       "      <td>0</td>\n",
       "    </tr>\n",
       "    <tr>\n",
       "      <th>2</th>\n",
       "      <td>82</td>\n",
       "      <td>St James Pl &amp; Pearl St</td>\n",
       "      <td>27</td>\n",
       "      <td>40.7112</td>\n",
       "      <td>-74.0002</td>\n",
       "      <td>71.0</td>\n",
       "      <td>5167.06</td>\n",
       "      <td>None</td>\n",
       "      <td>0</td>\n",
       "    </tr>\n",
       "    <tr>\n",
       "      <th>3</th>\n",
       "      <td>83</td>\n",
       "      <td>Atlantic Ave &amp; Fort Greene Pl</td>\n",
       "      <td>62</td>\n",
       "      <td>40.6838</td>\n",
       "      <td>-73.9763</td>\n",
       "      <td>71.0</td>\n",
       "      <td>4354.07</td>\n",
       "      <td>None</td>\n",
       "      <td>0</td>\n",
       "    </tr>\n",
       "    <tr>\n",
       "      <th>4</th>\n",
       "      <td>116</td>\n",
       "      <td>W 17 St &amp; 8 Ave</td>\n",
       "      <td>50</td>\n",
       "      <td>40.7418</td>\n",
       "      <td>-74.0015</td>\n",
       "      <td>71.0</td>\n",
       "      <td>6148.02</td>\n",
       "      <td>None</td>\n",
       "      <td>0</td>\n",
       "    </tr>\n",
       "    <tr>\n",
       "      <th>...</th>\n",
       "      <td>...</td>\n",
       "      <td>...</td>\n",
       "      <td>...</td>\n",
       "      <td>...</td>\n",
       "      <td>...</td>\n",
       "      <td>...</td>\n",
       "      <td>...</td>\n",
       "      <td>...</td>\n",
       "      <td>...</td>\n",
       "    </tr>\n",
       "    <tr>\n",
       "      <th>1388</th>\n",
       "      <td>4430</td>\n",
       "      <td>63 St &amp; 5 Ave</td>\n",
       "      <td>0</td>\n",
       "      <td>40.6377</td>\n",
       "      <td>-74.0178</td>\n",
       "      <td>71.0</td>\n",
       "      <td>2872.02</td>\n",
       "      <td>None</td>\n",
       "      <td>0</td>\n",
       "    </tr>\n",
       "    <tr>\n",
       "      <th>1389</th>\n",
       "      <td>4435</td>\n",
       "      <td>4 Ave &amp; 17 St</td>\n",
       "      <td>0</td>\n",
       "      <td>40.6655</td>\n",
       "      <td>-73.9930</td>\n",
       "      <td>71.0</td>\n",
       "      <td>3739.06</td>\n",
       "      <td>None</td>\n",
       "      <td>0</td>\n",
       "    </tr>\n",
       "    <tr>\n",
       "      <th>1390</th>\n",
       "      <td>4436</td>\n",
       "      <td>Park Cir &amp; East Dr</td>\n",
       "      <td>0</td>\n",
       "      <td>40.6516</td>\n",
       "      <td>-73.9722</td>\n",
       "      <td>71.0</td>\n",
       "      <td>3344.02</td>\n",
       "      <td>None</td>\n",
       "      <td>0</td>\n",
       "    </tr>\n",
       "    <tr>\n",
       "      <th>1391</th>\n",
       "      <td>4449</td>\n",
       "      <td>Ocean Pkwy &amp; Church Ave</td>\n",
       "      <td>0</td>\n",
       "      <td>40.6453</td>\n",
       "      <td>-73.9742</td>\n",
       "      <td>71.0</td>\n",
       "      <td>3125.09</td>\n",
       "      <td>None</td>\n",
       "      <td>0</td>\n",
       "    </tr>\n",
       "    <tr>\n",
       "      <th>1392</th>\n",
       "      <td>4450</td>\n",
       "      <td>Wakeman Pl &amp; Ridge Blvd</td>\n",
       "      <td>0</td>\n",
       "      <td>40.6394</td>\n",
       "      <td>-74.0268</td>\n",
       "      <td>71.0</td>\n",
       "      <td>2932.03</td>\n",
       "      <td>None</td>\n",
       "      <td>0</td>\n",
       "    </tr>\n",
       "  </tbody>\n",
       "</table>\n",
       "<p>1393 rows × 9 columns</p>\n",
       "</div>"
      ],
      "text/plain": [
       "      station_id                           name  capacity      lat      lon  \\\n",
       "0             72               W 52 St & 11 Ave        55  40.7673 -73.9939   \n",
       "1             79       Franklin St & W Broadway        33  40.7191 -74.0067   \n",
       "2             82         St James Pl & Pearl St        27  40.7112 -74.0002   \n",
       "3             83  Atlantic Ave & Fort Greene Pl        62  40.6838 -73.9763   \n",
       "4            116                W 17 St & 8 Ave        50  40.7418 -74.0015   \n",
       "...          ...                            ...       ...      ...      ...   \n",
       "1388        4430                  63 St & 5 Ave         0  40.6377 -74.0178   \n",
       "1389        4435                  4 Ave & 17 St         0  40.6655 -73.9930   \n",
       "1390        4436             Park Cir & East Dr         0  40.6516 -73.9722   \n",
       "1391        4449        Ocean Pkwy & Church Ave         0  40.6453 -73.9742   \n",
       "1392        4450        Wakeman Pl & Ridge Blvd         0  40.6394 -74.0268   \n",
       "\n",
       "      region_id short_name rental_url  eightd_has_key_dispenser  \n",
       "0          71.0    6926.01       None                         0  \n",
       "1          71.0    5430.08       None                         0  \n",
       "2          71.0    5167.06       None                         0  \n",
       "3          71.0    4354.07       None                         0  \n",
       "4          71.0    6148.02       None                         0  \n",
       "...         ...        ...        ...                       ...  \n",
       "1388       71.0    2872.02       None                         0  \n",
       "1389       71.0    3739.06       None                         0  \n",
       "1390       71.0    3344.02       None                         0  \n",
       "1391       71.0    3125.09       None                         0  \n",
       "1392       71.0    2932.03       None                         0  \n",
       "\n",
       "[1393 rows x 9 columns]"
      ]
     },
     "execution_count": 13,
     "metadata": {},
     "output_type": "execute_result"
    }
   ],
   "source": [
    "check = pd.read_sql(f\"SELECT * FROM {db_name}.{stations_table}\", con=engine)\n",
    "check"
   ]
  },
  {
   "cell_type": "code",
   "execution_count": 14,
   "metadata": {},
   "outputs": [
    {
     "data": {
      "text/plain": [
       "<AxesSubplot:xlabel='lon', ylabel='lat'>"
      ]
     },
     "execution_count": 14,
     "metadata": {},
     "output_type": "execute_result"
    },
    {
     "data": {
      "image/png": "[encoded data removed]",
      "text/plain": [
       "<Figure size 720x720 with 1 Axes>"
      ]
     },
     "metadata": {
      "needs_background": "light"
     },
     "output_type": "display_data"
    }
   ],
   "source": [
    "%matplotlib inline\n",
    "check.plot(kind=\"scatter\", x=\"lon\", y=\"lat\", s=1, figsize=(10, 10))"
   ]
  },
  {
   "cell_type": "code",
   "execution_count": 15,
   "metadata": {},
   "outputs": [
    {
     "data": {
      "text/plain": [
       "{'station_id': '72',\n",
       " 'legacy_id': '72',\n",
       " 'num_ebikes_available': 6,\n",
       " 'eightd_has_available_keys': False,\n",
       " 'station_status': 'active',\n",
       " 'num_docks_available': 41,\n",
       " 'is_renting': 1,\n",
       " 'num_bikes_disabled': 1,\n",
       " 'is_returning': 1,\n",
       " 'num_bikes_available': 13,\n",
       " 'last_reported': 1615949221,\n",
       " 'num_docks_disabled': 0,\n",
       " 'is_installed': 1}"
      ]
     },
     "execution_count": 15,
     "metadata": {},
     "output_type": "execute_result"
    }
   ],
   "source": [
    "results = requests.get(url_status).json()\n",
    "status = results[\"data\"][\"stations\"]\n",
    "status[0]"
   ]
  },
  {
   "cell_type": "code",
   "execution_count": 16,
   "metadata": {},
   "outputs": [
    {
     "data": {
      "application/vnd.jupyter.widget-view+json": {
       "model_id": "6cd95f7b0ffa4920a90cada6a48ee22c",
       "version_major": 2,
       "version_minor": 0
      },
      "text/plain": [
       "HBox(children=(FloatProgress(value=0.0, max=1393.0), HTML(value='')))"
      ]
     },
     "metadata": {},
     "output_type": "display_data"
    },
    {
     "name": "stdout",
     "output_type": "stream",
     "text": [
      "\n"
     ]
    }
   ],
   "source": [
    "# Now we fetch the data about the time varying elements of the citibike stations\n",
    "from datetime import datetime\n",
    "\n",
    "query_template = text(\n",
    "    f\"\"\"INSERT IGNORE INTO {db_name}.{status_table}(station_id, \n",
    "                                            num_bikes_available,\n",
    "                                            num_ebikes_available,\n",
    "                                            num_bikes_disabled,\n",
    "                                            num_docks_available,\n",
    "                                            num_docks_disabled,\n",
    "                                            is_installed,\n",
    "                                            is_renting,\n",
    "                                            is_returning,\n",
    "                                            last_reported) \n",
    "                    VALUES (:station_id, :num_bikes_available, :num_ebikes_available, :num_bikes_disabled,\n",
    "                    :num_docks_available, :num_docks_disabled, :is_installed, :is_renting, :is_returning, :last_reported)\"\"\"\n",
    ")\n",
    "\n",
    "for entry in tqdm(status):\n",
    "    query_parameters = {\n",
    "        \"station_id\": int(entry[\"station_id\"]),\n",
    "        \"num_bikes_available\": entry[\"num_bikes_available\"],\n",
    "        \"num_bikes_disabled\": entry[\"num_bikes_disabled\"],\n",
    "        \"num_ebikes_available\": entry[\"num_ebikes_available\"],\n",
    "        \"num_docks_available\": entry[\"num_docks_available\"],\n",
    "        \"num_docks_disabled\": entry[\"num_docks_disabled\"],\n",
    "        \"is_installed\": entry[\"is_installed\"],\n",
    "        \"is_renting\": entry[\"is_renting\"],\n",
    "        \"is_returning\": entry[\"is_returning\"],\n",
    "        \"last_reported\": datetime.fromtimestamp(entry[\"last_reported\"]),\n",
    "    }\n",
    "\n",
    "    engine.execute(query_template, **query_parameters)"
   ]
  },
  {
   "cell_type": "code",
   "execution_count": 17,
   "metadata": {},
   "outputs": [
    {
     "data": {
      "text/html": [
       "<div>\n",
       "<style scoped>\n",
       "    .dataframe tbody tr th:only-of-type {\n",
       "        vertical-align: middle;\n",
       "    }\n",
       "\n",
       "    .dataframe tbody tr th {\n",
       "        vertical-align: top;\n",
       "    }\n",
       "\n",
       "    .dataframe thead th {\n",
       "        text-align: right;\n",
       "    }\n",
       "</style>\n",
       "<table border=\"1\" class=\"dataframe\">\n",
       "  <thead>\n",
       "    <tr style=\"text-align: right;\">\n",
       "      <th></th>\n",
       "      <th>station_id</th>\n",
       "      <th>last_reported</th>\n",
       "      <th>num_bikes_available</th>\n",
       "      <th>num_ebikes_available</th>\n",
       "      <th>num_bikes_disabled</th>\n",
       "      <th>num_docks_available</th>\n",
       "      <th>num_docks_disabled</th>\n",
       "      <th>is_installed</th>\n",
       "      <th>is_renting</th>\n",
       "      <th>is_returning</th>\n",
       "    </tr>\n",
       "  </thead>\n",
       "  <tbody>\n",
       "    <tr>\n",
       "      <th>0</th>\n",
       "      <td>72</td>\n",
       "      <td>2021-03-17 02:47:01</td>\n",
       "      <td>13</td>\n",
       "      <td>6</td>\n",
       "      <td>1</td>\n",
       "      <td>41</td>\n",
       "      <td>0</td>\n",
       "      <td>1</td>\n",
       "      <td>1</td>\n",
       "      <td>1</td>\n",
       "    </tr>\n",
       "    <tr>\n",
       "      <th>1</th>\n",
       "      <td>79</td>\n",
       "      <td>2021-03-17 00:58:55</td>\n",
       "      <td>23</td>\n",
       "      <td>0</td>\n",
       "      <td>2</td>\n",
       "      <td>8</td>\n",
       "      <td>0</td>\n",
       "      <td>1</td>\n",
       "      <td>1</td>\n",
       "      <td>1</td>\n",
       "    </tr>\n",
       "    <tr>\n",
       "      <th>2</th>\n",
       "      <td>82</td>\n",
       "      <td>2021-03-17 02:27:54</td>\n",
       "      <td>19</td>\n",
       "      <td>1</td>\n",
       "      <td>1</td>\n",
       "      <td>7</td>\n",
       "      <td>0</td>\n",
       "      <td>1</td>\n",
       "      <td>1</td>\n",
       "      <td>1</td>\n",
       "    </tr>\n",
       "    <tr>\n",
       "      <th>3</th>\n",
       "      <td>83</td>\n",
       "      <td>2021-03-17 01:02:42</td>\n",
       "      <td>49</td>\n",
       "      <td>1</td>\n",
       "      <td>0</td>\n",
       "      <td>13</td>\n",
       "      <td>0</td>\n",
       "      <td>1</td>\n",
       "      <td>1</td>\n",
       "      <td>1</td>\n",
       "    </tr>\n",
       "    <tr>\n",
       "      <th>4</th>\n",
       "      <td>116</td>\n",
       "      <td>2021-03-17 03:11:38</td>\n",
       "      <td>22</td>\n",
       "      <td>1</td>\n",
       "      <td>1</td>\n",
       "      <td>27</td>\n",
       "      <td>0</td>\n",
       "      <td>1</td>\n",
       "      <td>1</td>\n",
       "      <td>1</td>\n",
       "    </tr>\n",
       "    <tr>\n",
       "      <th>...</th>\n",
       "      <td>...</td>\n",
       "      <td>...</td>\n",
       "      <td>...</td>\n",
       "      <td>...</td>\n",
       "      <td>...</td>\n",
       "      <td>...</td>\n",
       "      <td>...</td>\n",
       "      <td>...</td>\n",
       "      <td>...</td>\n",
       "      <td>...</td>\n",
       "    </tr>\n",
       "    <tr>\n",
       "      <th>1388</th>\n",
       "      <td>4430</td>\n",
       "      <td>1970-01-02 00:00:00</td>\n",
       "      <td>0</td>\n",
       "      <td>0</td>\n",
       "      <td>0</td>\n",
       "      <td>0</td>\n",
       "      <td>0</td>\n",
       "      <td>0</td>\n",
       "      <td>0</td>\n",
       "      <td>0</td>\n",
       "    </tr>\n",
       "    <tr>\n",
       "      <th>1389</th>\n",
       "      <td>4435</td>\n",
       "      <td>1970-01-02 00:00:00</td>\n",
       "      <td>0</td>\n",
       "      <td>0</td>\n",
       "      <td>0</td>\n",
       "      <td>0</td>\n",
       "      <td>0</td>\n",
       "      <td>0</td>\n",
       "      <td>0</td>\n",
       "      <td>0</td>\n",
       "    </tr>\n",
       "    <tr>\n",
       "      <th>1390</th>\n",
       "      <td>4436</td>\n",
       "      <td>1970-01-02 00:00:00</td>\n",
       "      <td>0</td>\n",
       "      <td>0</td>\n",
       "      <td>0</td>\n",
       "      <td>0</td>\n",
       "      <td>0</td>\n",
       "      <td>0</td>\n",
       "      <td>0</td>\n",
       "      <td>0</td>\n",
       "    </tr>\n",
       "    <tr>\n",
       "      <th>1391</th>\n",
       "      <td>4449</td>\n",
       "      <td>1970-01-02 00:00:00</td>\n",
       "      <td>0</td>\n",
       "      <td>0</td>\n",
       "      <td>0</td>\n",
       "      <td>0</td>\n",
       "      <td>0</td>\n",
       "      <td>0</td>\n",
       "      <td>0</td>\n",
       "      <td>0</td>\n",
       "    </tr>\n",
       "    <tr>\n",
       "      <th>1392</th>\n",
       "      <td>4450</td>\n",
       "      <td>1970-01-02 00:00:00</td>\n",
       "      <td>0</td>\n",
       "      <td>0</td>\n",
       "      <td>0</td>\n",
       "      <td>0</td>\n",
       "      <td>0</td>\n",
       "      <td>0</td>\n",
       "      <td>0</td>\n",
       "      <td>0</td>\n",
       "    </tr>\n",
       "  </tbody>\n",
       "</table>\n",
       "<p>1393 rows × 10 columns</p>\n",
       "</div>"
      ],
      "text/plain": [
       "      station_id       last_reported  num_bikes_available  \\\n",
       "0             72 2021-03-17 02:47:01                   13   \n",
       "1             79 2021-03-17 00:58:55                   23   \n",
       "2             82 2021-03-17 02:27:54                   19   \n",
       "3             83 2021-03-17 01:02:42                   49   \n",
       "4            116 2021-03-17 03:11:38                   22   \n",
       "...          ...                 ...                  ...   \n",
       "1388        4430 1970-01-02 00:00:00                    0   \n",
       "1389        4435 1970-01-02 00:00:00                    0   \n",
       "1390        4436 1970-01-02 00:00:00                    0   \n",
       "1391        4449 1970-01-02 00:00:00                    0   \n",
       "1392        4450 1970-01-02 00:00:00                    0   \n",
       "\n",
       "      num_ebikes_available  num_bikes_disabled  num_docks_available  \\\n",
       "0                        6                   1                   41   \n",
       "1                        0                   2                    8   \n",
       "2                        1                   1                    7   \n",
       "3                        1                   0                   13   \n",
       "4                        1                   1                   27   \n",
       "...                    ...                 ...                  ...   \n",
       "1388                     0                   0                    0   \n",
       "1389                     0                   0                    0   \n",
       "1390                     0                   0                    0   \n",
       "1391                     0                   0                    0   \n",
       "1392                     0                   0                    0   \n",
       "\n",
       "      num_docks_disabled  is_installed  is_renting  is_returning  \n",
       "0                      0             1           1             1  \n",
       "1                      0             1           1             1  \n",
       "2                      0             1           1             1  \n",
       "3                      0             1           1             1  \n",
       "4                      0             1           1             1  \n",
       "...                  ...           ...         ...           ...  \n",
       "1388                   0             0           0             0  \n",
       "1389                   0             0           0             0  \n",
       "1390                   0             0           0             0  \n",
       "1391                   0             0           0             0  \n",
       "1392                   0             0           0             0  \n",
       "\n",
       "[1393 rows x 10 columns]"
      ]
     },
     "execution_count": 17,
     "metadata": {},
     "output_type": "execute_result"
    }
   ],
   "source": [
    "check = pd.read_sql(f\"SELECT * FROM {db_name}.{status_table}\", con=engine)\n",
    "check"
   ]
  },
  {
   "cell_type": "code",
   "execution_count": 18,
   "metadata": {},
   "outputs": [
    {
     "name": "stdout",
     "output_type": "stream",
     "text": [
      "DROP TABLE IF EXISTS public.Status_bc139831\n"
     ]
    },
    {
     "data": {
      "text/plain": [
       "<sqlalchemy.engine.result.ResultProxy at 0x7f889d3a86a0>"
      ]
     },
     "execution_count": 18,
     "metadata": {},
     "output_type": "execute_result"
    }
   ],
   "source": [
    "drop_table_query = f\"DROP TABLE IF EXISTS {db_name}.{status_table}\"\n",
    "print(drop_table_query)\n",
    "engine.execute(drop_table_query)"
   ]
  },
  {
   "cell_type": "code",
   "execution_count": 19,
   "metadata": {},
   "outputs": [
    {
     "name": "stdout",
     "output_type": "stream",
     "text": [
      "DROP TABLE IF EXISTS public.Stations_bc139831\n"
     ]
    },
    {
     "data": {
      "text/plain": [
       "<sqlalchemy.engine.result.ResultProxy at 0x7f889d877760>"
      ]
     },
     "execution_count": 19,
     "metadata": {},
     "output_type": "execute_result"
    }
   ],
   "source": [
    "drop_table_query = f\"DROP TABLE IF EXISTS {db_name}.{stations_table}\"\n",
    "print(drop_table_query)\n",
    "engine.execute(drop_table_query)"
   ]
  }
 ],
 "metadata": {
  "kernelspec": {
   "display_name": "Python 3",
   "language": "python",
   "name": "python3"
  },
  "language_info": {
   "codemirror_mode": {
    "name": "ipython",
    "version": 3
   },
   "file_extension": ".py",
   "mimetype": "text/x-python",
   "name": "python",
   "nbconvert_exporter": "python",
   "pygments_lexer": "ipython3",
   "version": "3.8.2"
  }
 },
 "nbformat": 4,
 "nbformat_minor": 2
}
