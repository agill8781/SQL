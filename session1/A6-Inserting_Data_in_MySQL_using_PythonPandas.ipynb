{
 "cells": [
  {
   "cell_type": "markdown",
   "metadata": {},
   "source": [
    "## Inserting and Reading data from MySQL using Pandas\n",
    "\n",
    "First let's start with a basic piece of code that fetches the data that we want to insert in the database. For our example, we will get the data about the Citibike stations, using the correspoding API call provided by the Citibike website:"
   ]
  },
  {
   "cell_type": "code",
   "execution_count": null,
   "metadata": {},
   "outputs": [],
   "source": [
    "# !sudo pip3 install -U -q PyMySQL sqlalchemy sql_magic"
   ]
  },
  {
   "cell_type": "code",
   "execution_count": 1,
   "metadata": {},
   "outputs": [],
   "source": [
    "import requests"
   ]
  },
  {
   "cell_type": "code",
   "execution_count": 2,
   "metadata": {},
   "outputs": [],
   "source": [
    "# Let's get the data from the Citibike API\n",
    "\n",
    "# This gives information for each station that remains stable over time\n",
    "url_stations = \"https://gbfs.citibikenyc.com/gbfs/en/station_information.json\"\n",
    "# This gives the live status of all the stations (e.g., bikes available etc)\n",
    "url_status = \"https://gbfs.citibikenyc.com/gbfs/en/station_status.json\"\n",
    "\n",
    "# We fetch for now just the time-invariant data\n",
    "results = requests.get(url_stations).json()"
   ]
  },
  {
   "cell_type": "code",
   "execution_count": 3,
   "metadata": {},
   "outputs": [],
   "source": [
    "# We only need a subset of the data in the JSON returned by the Citibike API, so we keep only what we need\n",
    "data = results[\"data\"][\"stations\"]"
   ]
  },
  {
   "cell_type": "code",
   "execution_count": 4,
   "metadata": {},
   "outputs": [
    {
     "data": {
      "text/plain": [
       "947"
      ]
     },
     "execution_count": 4,
     "metadata": {},
     "output_type": "execute_result"
    }
   ],
   "source": [
    "len(data)"
   ]
  },
  {
   "cell_type": "code",
   "execution_count": 5,
   "metadata": {},
   "outputs": [
    {
     "data": {
      "text/html": [
       "<div>\n",
       "<style scoped>\n",
       "    .dataframe tbody tr th:only-of-type {\n",
       "        vertical-align: middle;\n",
       "    }\n",
       "\n",
       "    .dataframe tbody tr th {\n",
       "        vertical-align: top;\n",
       "    }\n",
       "\n",
       "    .dataframe thead th {\n",
       "        text-align: right;\n",
       "    }\n",
       "</style>\n",
       "<table border=\"1\" class=\"dataframe\">\n",
       "  <thead>\n",
       "    <tr style=\"text-align: right;\">\n",
       "      <th></th>\n",
       "      <th>name</th>\n",
       "      <th>eightd_station_services</th>\n",
       "      <th>region_id</th>\n",
       "      <th>has_kiosk</th>\n",
       "      <th>electric_bike_surcharge_waiver</th>\n",
       "      <th>capacity</th>\n",
       "      <th>eightd_has_key_dispenser</th>\n",
       "      <th>station_type</th>\n",
       "      <th>station_id</th>\n",
       "      <th>rental_url</th>\n",
       "      <th>external_id</th>\n",
       "      <th>lon</th>\n",
       "      <th>short_name</th>\n",
       "      <th>rental_methods</th>\n",
       "      <th>lat</th>\n",
       "    </tr>\n",
       "  </thead>\n",
       "  <tbody>\n",
       "    <tr>\n",
       "      <th>0</th>\n",
       "      <td>W 52 St &amp; 11 Ave</td>\n",
       "      <td>[]</td>\n",
       "      <td>71</td>\n",
       "      <td>True</td>\n",
       "      <td>False</td>\n",
       "      <td>55</td>\n",
       "      <td>False</td>\n",
       "      <td>classic</td>\n",
       "      <td>72</td>\n",
       "      <td>http://app.citibikenyc.com/S6Lr/IBV092JufD?sta...</td>\n",
       "      <td>66db237e-0aca-11e7-82f6-3863bb44ef7c</td>\n",
       "      <td>-73.993929</td>\n",
       "      <td>6926.01</td>\n",
       "      <td>[CREDITCARD, KEY]</td>\n",
       "      <td>40.767272</td>\n",
       "    </tr>\n",
       "    <tr>\n",
       "      <th>1</th>\n",
       "      <td>Franklin St &amp; W Broadway</td>\n",
       "      <td>[]</td>\n",
       "      <td>71</td>\n",
       "      <td>True</td>\n",
       "      <td>False</td>\n",
       "      <td>33</td>\n",
       "      <td>False</td>\n",
       "      <td>classic</td>\n",
       "      <td>79</td>\n",
       "      <td>http://app.citibikenyc.com/S6Lr/IBV092JufD?sta...</td>\n",
       "      <td>66db269c-0aca-11e7-82f6-3863bb44ef7c</td>\n",
       "      <td>-74.006667</td>\n",
       "      <td>5430.08</td>\n",
       "      <td>[CREDITCARD, KEY]</td>\n",
       "      <td>40.719116</td>\n",
       "    </tr>\n",
       "    <tr>\n",
       "      <th>2</th>\n",
       "      <td>St James Pl &amp; Pearl St</td>\n",
       "      <td>[]</td>\n",
       "      <td>71</td>\n",
       "      <td>True</td>\n",
       "      <td>False</td>\n",
       "      <td>27</td>\n",
       "      <td>False</td>\n",
       "      <td>classic</td>\n",
       "      <td>82</td>\n",
       "      <td>http://app.citibikenyc.com/S6Lr/IBV092JufD?sta...</td>\n",
       "      <td>66db277a-0aca-11e7-82f6-3863bb44ef7c</td>\n",
       "      <td>-74.000165</td>\n",
       "      <td>5167.06</td>\n",
       "      <td>[CREDITCARD, KEY]</td>\n",
       "      <td>40.711174</td>\n",
       "    </tr>\n",
       "    <tr>\n",
       "      <th>3</th>\n",
       "      <td>Atlantic Ave &amp; Fort Greene Pl</td>\n",
       "      <td>[]</td>\n",
       "      <td>71</td>\n",
       "      <td>True</td>\n",
       "      <td>False</td>\n",
       "      <td>62</td>\n",
       "      <td>False</td>\n",
       "      <td>classic</td>\n",
       "      <td>83</td>\n",
       "      <td>http://app.citibikenyc.com/S6Lr/IBV092JufD?sta...</td>\n",
       "      <td>66db281e-0aca-11e7-82f6-3863bb44ef7c</td>\n",
       "      <td>-73.976323</td>\n",
       "      <td>4354.07</td>\n",
       "      <td>[CREDITCARD, KEY]</td>\n",
       "      <td>40.683826</td>\n",
       "    </tr>\n",
       "    <tr>\n",
       "      <th>4</th>\n",
       "      <td>W 17 St &amp; 8 Ave</td>\n",
       "      <td>[]</td>\n",
       "      <td>71</td>\n",
       "      <td>True</td>\n",
       "      <td>False</td>\n",
       "      <td>50</td>\n",
       "      <td>False</td>\n",
       "      <td>classic</td>\n",
       "      <td>116</td>\n",
       "      <td>http://app.citibikenyc.com/S6Lr/IBV092JufD?sta...</td>\n",
       "      <td>66db28b5-0aca-11e7-82f6-3863bb44ef7c</td>\n",
       "      <td>-74.001497</td>\n",
       "      <td>6148.02</td>\n",
       "      <td>[CREDITCARD, KEY]</td>\n",
       "      <td>40.741776</td>\n",
       "    </tr>\n",
       "  </tbody>\n",
       "</table>\n",
       "</div>"
      ],
      "text/plain": [
       "                            name eightd_station_services region_id  has_kiosk  \\\n",
       "0               W 52 St & 11 Ave                      []        71       True   \n",
       "1       Franklin St & W Broadway                      []        71       True   \n",
       "2         St James Pl & Pearl St                      []        71       True   \n",
       "3  Atlantic Ave & Fort Greene Pl                      []        71       True   \n",
       "4                W 17 St & 8 Ave                      []        71       True   \n",
       "\n",
       "   electric_bike_surcharge_waiver  capacity  eightd_has_key_dispenser  \\\n",
       "0                           False        55                     False   \n",
       "1                           False        33                     False   \n",
       "2                           False        27                     False   \n",
       "3                           False        62                     False   \n",
       "4                           False        50                     False   \n",
       "\n",
       "  station_type station_id                                         rental_url  \\\n",
       "0      classic         72  http://app.citibikenyc.com/S6Lr/IBV092JufD?sta...   \n",
       "1      classic         79  http://app.citibikenyc.com/S6Lr/IBV092JufD?sta...   \n",
       "2      classic         82  http://app.citibikenyc.com/S6Lr/IBV092JufD?sta...   \n",
       "3      classic         83  http://app.citibikenyc.com/S6Lr/IBV092JufD?sta...   \n",
       "4      classic        116  http://app.citibikenyc.com/S6Lr/IBV092JufD?sta...   \n",
       "\n",
       "                            external_id        lon short_name  \\\n",
       "0  66db237e-0aca-11e7-82f6-3863bb44ef7c -73.993929    6926.01   \n",
       "1  66db269c-0aca-11e7-82f6-3863bb44ef7c -74.006667    5430.08   \n",
       "2  66db277a-0aca-11e7-82f6-3863bb44ef7c -74.000165    5167.06   \n",
       "3  66db281e-0aca-11e7-82f6-3863bb44ef7c -73.976323    4354.07   \n",
       "4  66db28b5-0aca-11e7-82f6-3863bb44ef7c -74.001497    6148.02   \n",
       "\n",
       "      rental_methods        lat  \n",
       "0  [CREDITCARD, KEY]  40.767272  \n",
       "1  [CREDITCARD, KEY]  40.719116  \n",
       "2  [CREDITCARD, KEY]  40.711174  \n",
       "3  [CREDITCARD, KEY]  40.683826  \n",
       "4  [CREDITCARD, KEY]  40.741776  "
      ]
     },
     "execution_count": 5,
     "metadata": {},
     "output_type": "execute_result"
    }
   ],
   "source": [
    "import pandas as pd\n",
    "\n",
    "df = pd.DataFrame(data)\n",
    "df.head(5)"
   ]
  },
  {
   "cell_type": "code",
   "execution_count": 6,
   "metadata": {},
   "outputs": [
    {
     "data": {
      "text/html": [
       "<div>\n",
       "<style scoped>\n",
       "    .dataframe tbody tr th:only-of-type {\n",
       "        vertical-align: middle;\n",
       "    }\n",
       "\n",
       "    .dataframe tbody tr th {\n",
       "        vertical-align: top;\n",
       "    }\n",
       "\n",
       "    .dataframe thead th {\n",
       "        text-align: right;\n",
       "    }\n",
       "</style>\n",
       "<table border=\"1\" class=\"dataframe\">\n",
       "  <thead>\n",
       "    <tr style=\"text-align: right;\">\n",
       "      <th></th>\n",
       "      <th>name</th>\n",
       "      <th>region_id</th>\n",
       "      <th>has_kiosk</th>\n",
       "      <th>electric_bike_surcharge_waiver</th>\n",
       "      <th>capacity</th>\n",
       "      <th>eightd_has_key_dispenser</th>\n",
       "      <th>station_type</th>\n",
       "      <th>station_id</th>\n",
       "      <th>rental_url</th>\n",
       "      <th>external_id</th>\n",
       "      <th>lon</th>\n",
       "      <th>short_name</th>\n",
       "      <th>lat</th>\n",
       "    </tr>\n",
       "  </thead>\n",
       "  <tbody>\n",
       "    <tr>\n",
       "      <th>0</th>\n",
       "      <td>W 52 St &amp; 11 Ave</td>\n",
       "      <td>71</td>\n",
       "      <td>True</td>\n",
       "      <td>False</td>\n",
       "      <td>55</td>\n",
       "      <td>False</td>\n",
       "      <td>classic</td>\n",
       "      <td>72</td>\n",
       "      <td>http://app.citibikenyc.com/S6Lr/IBV092JufD?sta...</td>\n",
       "      <td>66db237e-0aca-11e7-82f6-3863bb44ef7c</td>\n",
       "      <td>-73.993929</td>\n",
       "      <td>6926.01</td>\n",
       "      <td>40.767272</td>\n",
       "    </tr>\n",
       "    <tr>\n",
       "      <th>1</th>\n",
       "      <td>Franklin St &amp; W Broadway</td>\n",
       "      <td>71</td>\n",
       "      <td>True</td>\n",
       "      <td>False</td>\n",
       "      <td>33</td>\n",
       "      <td>False</td>\n",
       "      <td>classic</td>\n",
       "      <td>79</td>\n",
       "      <td>http://app.citibikenyc.com/S6Lr/IBV092JufD?sta...</td>\n",
       "      <td>66db269c-0aca-11e7-82f6-3863bb44ef7c</td>\n",
       "      <td>-74.006667</td>\n",
       "      <td>5430.08</td>\n",
       "      <td>40.719116</td>\n",
       "    </tr>\n",
       "    <tr>\n",
       "      <th>2</th>\n",
       "      <td>St James Pl &amp; Pearl St</td>\n",
       "      <td>71</td>\n",
       "      <td>True</td>\n",
       "      <td>False</td>\n",
       "      <td>27</td>\n",
       "      <td>False</td>\n",
       "      <td>classic</td>\n",
       "      <td>82</td>\n",
       "      <td>http://app.citibikenyc.com/S6Lr/IBV092JufD?sta...</td>\n",
       "      <td>66db277a-0aca-11e7-82f6-3863bb44ef7c</td>\n",
       "      <td>-74.000165</td>\n",
       "      <td>5167.06</td>\n",
       "      <td>40.711174</td>\n",
       "    </tr>\n",
       "    <tr>\n",
       "      <th>3</th>\n",
       "      <td>Atlantic Ave &amp; Fort Greene Pl</td>\n",
       "      <td>71</td>\n",
       "      <td>True</td>\n",
       "      <td>False</td>\n",
       "      <td>62</td>\n",
       "      <td>False</td>\n",
       "      <td>classic</td>\n",
       "      <td>83</td>\n",
       "      <td>http://app.citibikenyc.com/S6Lr/IBV092JufD?sta...</td>\n",
       "      <td>66db281e-0aca-11e7-82f6-3863bb44ef7c</td>\n",
       "      <td>-73.976323</td>\n",
       "      <td>4354.07</td>\n",
       "      <td>40.683826</td>\n",
       "    </tr>\n",
       "    <tr>\n",
       "      <th>4</th>\n",
       "      <td>W 17 St &amp; 8 Ave</td>\n",
       "      <td>71</td>\n",
       "      <td>True</td>\n",
       "      <td>False</td>\n",
       "      <td>50</td>\n",
       "      <td>False</td>\n",
       "      <td>classic</td>\n",
       "      <td>116</td>\n",
       "      <td>http://app.citibikenyc.com/S6Lr/IBV092JufD?sta...</td>\n",
       "      <td>66db28b5-0aca-11e7-82f6-3863bb44ef7c</td>\n",
       "      <td>-74.001497</td>\n",
       "      <td>6148.02</td>\n",
       "      <td>40.741776</td>\n",
       "    </tr>\n",
       "  </tbody>\n",
       "</table>\n",
       "</div>"
      ],
      "text/plain": [
       "                            name region_id  has_kiosk  \\\n",
       "0               W 52 St & 11 Ave        71       True   \n",
       "1       Franklin St & W Broadway        71       True   \n",
       "2         St James Pl & Pearl St        71       True   \n",
       "3  Atlantic Ave & Fort Greene Pl        71       True   \n",
       "4                W 17 St & 8 Ave        71       True   \n",
       "\n",
       "   electric_bike_surcharge_waiver  capacity  eightd_has_key_dispenser  \\\n",
       "0                           False        55                     False   \n",
       "1                           False        33                     False   \n",
       "2                           False        27                     False   \n",
       "3                           False        62                     False   \n",
       "4                           False        50                     False   \n",
       "\n",
       "  station_type station_id                                         rental_url  \\\n",
       "0      classic         72  http://app.citibikenyc.com/S6Lr/IBV092JufD?sta...   \n",
       "1      classic         79  http://app.citibikenyc.com/S6Lr/IBV092JufD?sta...   \n",
       "2      classic         82  http://app.citibikenyc.com/S6Lr/IBV092JufD?sta...   \n",
       "3      classic         83  http://app.citibikenyc.com/S6Lr/IBV092JufD?sta...   \n",
       "4      classic        116  http://app.citibikenyc.com/S6Lr/IBV092JufD?sta...   \n",
       "\n",
       "                            external_id        lon short_name        lat  \n",
       "0  66db237e-0aca-11e7-82f6-3863bb44ef7c -73.993929    6926.01  40.767272  \n",
       "1  66db269c-0aca-11e7-82f6-3863bb44ef7c -74.006667    5430.08  40.719116  \n",
       "2  66db277a-0aca-11e7-82f6-3863bb44ef7c -74.000165    5167.06  40.711174  \n",
       "3  66db281e-0aca-11e7-82f6-3863bb44ef7c -73.976323    4354.07  40.683826  \n",
       "4  66db28b5-0aca-11e7-82f6-3863bb44ef7c -74.001497    6148.02  40.741776  "
      ]
     },
     "execution_count": 6,
     "metadata": {},
     "output_type": "execute_result"
    }
   ],
   "source": [
    "# We drop the 'rental methods' columns,\n",
    "# as they contains multiple values and\n",
    "# we cannot insert lists in a database cell.\n",
    "df.drop([\"rental_methods\", \"eightd_station_services\"], axis=\"columns\", inplace=True)\n",
    "df.head(5)"
   ]
  },
  {
   "cell_type": "markdown",
   "metadata": {},
   "source": [
    "### Writing a Pandas Dataframe in a MySQL Table"
   ]
  },
  {
   "cell_type": "code",
   "execution_count": 8,
   "metadata": {},
   "outputs": [],
   "source": [
    "import sqlalchemy\n",
    "from sqlalchemy import create_engine\n",
    "\n",
    "conn_string = \"mysql+pymysql://{user}:{password}@{host}/\".format(\n",
    "    host=\"db.ipeirotis.org\", user=\"student\", password=\"dwdstudent2015\"\n",
    ")\n",
    "\n",
    "engine = create_engine(conn_string)"
   ]
  },
  {
   "cell_type": "markdown",
   "metadata": {},
   "source": [
    "Once we have connected successfully, we need to create our database:"
   ]
  },
  {
   "cell_type": "code",
   "execution_count": 9,
   "metadata": {},
   "outputs": [
    {
     "data": {
      "text/plain": [
       "<sqlalchemy.engine.result.ResultProxy at 0x7f0bb1f75630>"
      ]
     },
     "execution_count": 9,
     "metadata": {},
     "output_type": "execute_result"
    }
   ],
   "source": [
    "# Query to create a database\n",
    "# In this example, we will try to create the (existing) database \"public\"\n",
    "# But in general, we can give any name to the database\n",
    "db_name = \"public\"\n",
    "create_db_query = (\n",
    "    f\"CREATE DATABASE IF NOT EXISTS {db_name} DEFAULT CHARACTER SET 'utf8'\"\n",
    ")\n",
    "\n",
    "# Create a database\n",
    "engine.execute(create_db_query)\n",
    "\n",
    "# And lets switch to the database\n",
    "engine.execute(f\"USE {db_name}\")"
   ]
  },
  {
   "cell_type": "code",
   "execution_count": 10,
   "metadata": {},
   "outputs": [
    {
     "name": "stdout",
     "output_type": "stream",
     "text": [
      "0730b7fe\n"
     ]
    }
   ],
   "source": [
    "# To avoid conflicts between people writing in the same database, we add a random suffix in the tables\n",
    "# We only create the variable once while running the notebook\n",
    "import uuid\n",
    "\n",
    "if \"suffix\" not in globals():\n",
    "    suffix = str(uuid.uuid4())[:8]\n",
    "print(suffix)"
   ]
  },
  {
   "cell_type": "markdown",
   "metadata": {},
   "source": [
    "### Create Table and Store Data in Database using the `to_sql` command"
   ]
  },
  {
   "cell_type": "markdown",
   "metadata": {},
   "source": [
    "Then we create the table where we will store our data. Since we already have the data in a Pandas DataFrame, it is very easy to put the data in a database."
   ]
  },
  {
   "cell_type": "code",
   "execution_count": 11,
   "metadata": {},
   "outputs": [],
   "source": [
    "table_name = f\"Stations_{suffix}\"\n",
    "# Create a table\n",
    "# See http://pandas.pydata.org/pandas-docs/stable/generated/pandas.DataFrame.to_sql.html for the documentation\n",
    "\n",
    "# This step is optional, but it is good practice to define explicitly the\n",
    "# data types before storing things in a database. In many cases, this can be ommitted, though.\n",
    "\n",
    "dtype = {\n",
    "    \"station_id\": sqlalchemy.types.SMALLINT(),\n",
    "    \"external_id\": sqlalchemy.types.VARCHAR(50),\n",
    "    \"name\": sqlalchemy.types.VARCHAR(50),\n",
    "    \"short_name\": sqlalchemy.types.VARCHAR(10),\n",
    "    \"lat\": sqlalchemy.types.Float,\n",
    "    \"lon\": sqlalchemy.types.Float,\n",
    "    \"region_id\": sqlalchemy.types.VARCHAR(5),\n",
    "    \"capacity\": sqlalchemy.types.SMALLINT(),\n",
    "    \"rental_url\": sqlalchemy.types.VARCHAR(100),\n",
    "    \"electric_bike_surcharge_waiver\": sqlalchemy.types.BOOLEAN,\n",
    "    \"eightd_has_key_dispenser\": sqlalchemy.types.BOOLEAN,\n",
    "    \"has_kiosk\": sqlalchemy.types.BOOLEAN,\n",
    "}\n",
    "\n",
    "\n",
    "df.to_sql(\n",
    "    name=table_name,\n",
    "    schema=db_name,\n",
    "    con=engine,\n",
    "    if_exists=\"replace\",\n",
    "    index=False,\n",
    "    dtype=dtype,\n",
    ")"
   ]
  },
  {
   "cell_type": "code",
   "execution_count": 12,
   "metadata": {},
   "outputs": [
    {
     "name": "stdout",
     "output_type": "stream",
     "text": [
      "ALTER TABLE Stations_0730b7fe ADD PRIMARY KEY(station_id)\n"
     ]
    },
    {
     "data": {
      "text/plain": [
       "<sqlalchemy.engine.result.ResultProxy at 0x7f0bb1f75e10>"
      ]
     },
     "execution_count": 12,
     "metadata": {},
     "output_type": "execute_result"
    }
   ],
   "source": [
    "# Once we have the data in the table, we also specify a primary key\n",
    "# If we had FOREIGN KEYS we can add them in the same way\n",
    "add_key_query = f\"ALTER TABLE {table_name} ADD PRIMARY KEY(station_id)\"\n",
    "print(add_key_query)\n",
    "engine.execute(add_key_query)"
   ]
  },
  {
   "cell_type": "markdown",
   "metadata": {},
   "source": [
    "### Reading from a SQL Database in Python using the `read_sql` command in Pandas"
   ]
  },
  {
   "cell_type": "markdown",
   "metadata": {},
   "source": [
    "We can similarly read from the database using Pandas"
   ]
  },
  {
   "cell_type": "code",
   "execution_count": 13,
   "metadata": {},
   "outputs": [
    {
     "name": "stdout",
     "output_type": "stream",
     "text": [
      "SELECT * FROM public.Stations_0730b7fe\n"
     ]
    }
   ],
   "source": [
    "query = f\"SELECT * FROM {db_name}.{table_name}\"\n",
    "print(query)"
   ]
  },
  {
   "cell_type": "code",
   "execution_count": 14,
   "metadata": {},
   "outputs": [
    {
     "data": {
      "text/html": [
       "<div>\n",
       "<style scoped>\n",
       "    .dataframe tbody tr th:only-of-type {\n",
       "        vertical-align: middle;\n",
       "    }\n",
       "\n",
       "    .dataframe tbody tr th {\n",
       "        vertical-align: top;\n",
       "    }\n",
       "\n",
       "    .dataframe thead th {\n",
       "        text-align: right;\n",
       "    }\n",
       "</style>\n",
       "<table border=\"1\" class=\"dataframe\">\n",
       "  <thead>\n",
       "    <tr style=\"text-align: right;\">\n",
       "      <th></th>\n",
       "      <th>name</th>\n",
       "      <th>region_id</th>\n",
       "      <th>has_kiosk</th>\n",
       "      <th>electric_bike_surcharge_waiver</th>\n",
       "      <th>capacity</th>\n",
       "      <th>eightd_has_key_dispenser</th>\n",
       "      <th>station_type</th>\n",
       "      <th>station_id</th>\n",
       "      <th>rental_url</th>\n",
       "      <th>external_id</th>\n",
       "      <th>lon</th>\n",
       "      <th>short_name</th>\n",
       "      <th>lat</th>\n",
       "    </tr>\n",
       "  </thead>\n",
       "  <tbody>\n",
       "    <tr>\n",
       "      <th>0</th>\n",
       "      <td>W 52 St &amp; 11 Ave</td>\n",
       "      <td>71</td>\n",
       "      <td>1</td>\n",
       "      <td>0</td>\n",
       "      <td>55</td>\n",
       "      <td>0</td>\n",
       "      <td>classic</td>\n",
       "      <td>72</td>\n",
       "      <td>http://app.citibikenyc.com/S6Lr/IBV092JufD?sta...</td>\n",
       "      <td>66db237e-0aca-11e7-82f6-3863bb44ef7c</td>\n",
       "      <td>-73.9939</td>\n",
       "      <td>6926.01</td>\n",
       "      <td>40.7673</td>\n",
       "    </tr>\n",
       "    <tr>\n",
       "      <th>1</th>\n",
       "      <td>Franklin St &amp; W Broadway</td>\n",
       "      <td>71</td>\n",
       "      <td>1</td>\n",
       "      <td>0</td>\n",
       "      <td>33</td>\n",
       "      <td>0</td>\n",
       "      <td>classic</td>\n",
       "      <td>79</td>\n",
       "      <td>http://app.citibikenyc.com/S6Lr/IBV092JufD?sta...</td>\n",
       "      <td>66db269c-0aca-11e7-82f6-3863bb44ef7c</td>\n",
       "      <td>-74.0067</td>\n",
       "      <td>5430.08</td>\n",
       "      <td>40.7191</td>\n",
       "    </tr>\n",
       "    <tr>\n",
       "      <th>2</th>\n",
       "      <td>St James Pl &amp; Pearl St</td>\n",
       "      <td>71</td>\n",
       "      <td>1</td>\n",
       "      <td>0</td>\n",
       "      <td>27</td>\n",
       "      <td>0</td>\n",
       "      <td>classic</td>\n",
       "      <td>82</td>\n",
       "      <td>http://app.citibikenyc.com/S6Lr/IBV092JufD?sta...</td>\n",
       "      <td>66db277a-0aca-11e7-82f6-3863bb44ef7c</td>\n",
       "      <td>-74.0002</td>\n",
       "      <td>5167.06</td>\n",
       "      <td>40.7112</td>\n",
       "    </tr>\n",
       "    <tr>\n",
       "      <th>3</th>\n",
       "      <td>Atlantic Ave &amp; Fort Greene Pl</td>\n",
       "      <td>71</td>\n",
       "      <td>1</td>\n",
       "      <td>0</td>\n",
       "      <td>62</td>\n",
       "      <td>0</td>\n",
       "      <td>classic</td>\n",
       "      <td>83</td>\n",
       "      <td>http://app.citibikenyc.com/S6Lr/IBV092JufD?sta...</td>\n",
       "      <td>66db281e-0aca-11e7-82f6-3863bb44ef7c</td>\n",
       "      <td>-73.9763</td>\n",
       "      <td>4354.07</td>\n",
       "      <td>40.6838</td>\n",
       "    </tr>\n",
       "    <tr>\n",
       "      <th>4</th>\n",
       "      <td>W 17 St &amp; 8 Ave</td>\n",
       "      <td>71</td>\n",
       "      <td>1</td>\n",
       "      <td>0</td>\n",
       "      <td>50</td>\n",
       "      <td>0</td>\n",
       "      <td>classic</td>\n",
       "      <td>116</td>\n",
       "      <td>http://app.citibikenyc.com/S6Lr/IBV092JufD?sta...</td>\n",
       "      <td>66db28b5-0aca-11e7-82f6-3863bb44ef7c</td>\n",
       "      <td>-74.0015</td>\n",
       "      <td>6148.02</td>\n",
       "      <td>40.7418</td>\n",
       "    </tr>\n",
       "  </tbody>\n",
       "</table>\n",
       "</div>"
      ],
      "text/plain": [
       "                            name region_id  has_kiosk  \\\n",
       "0               W 52 St & 11 Ave        71          1   \n",
       "1       Franklin St & W Broadway        71          1   \n",
       "2         St James Pl & Pearl St        71          1   \n",
       "3  Atlantic Ave & Fort Greene Pl        71          1   \n",
       "4                W 17 St & 8 Ave        71          1   \n",
       "\n",
       "   electric_bike_surcharge_waiver  capacity  eightd_has_key_dispenser  \\\n",
       "0                               0        55                         0   \n",
       "1                               0        33                         0   \n",
       "2                               0        27                         0   \n",
       "3                               0        62                         0   \n",
       "4                               0        50                         0   \n",
       "\n",
       "  station_type  station_id                                         rental_url  \\\n",
       "0      classic          72  http://app.citibikenyc.com/S6Lr/IBV092JufD?sta...   \n",
       "1      classic          79  http://app.citibikenyc.com/S6Lr/IBV092JufD?sta...   \n",
       "2      classic          82  http://app.citibikenyc.com/S6Lr/IBV092JufD?sta...   \n",
       "3      classic          83  http://app.citibikenyc.com/S6Lr/IBV092JufD?sta...   \n",
       "4      classic         116  http://app.citibikenyc.com/S6Lr/IBV092JufD?sta...   \n",
       "\n",
       "                            external_id      lon short_name      lat  \n",
       "0  66db237e-0aca-11e7-82f6-3863bb44ef7c -73.9939    6926.01  40.7673  \n",
       "1  66db269c-0aca-11e7-82f6-3863bb44ef7c -74.0067    5430.08  40.7191  \n",
       "2  66db277a-0aca-11e7-82f6-3863bb44ef7c -74.0002    5167.06  40.7112  \n",
       "3  66db281e-0aca-11e7-82f6-3863bb44ef7c -73.9763    4354.07  40.6838  \n",
       "4  66db28b5-0aca-11e7-82f6-3863bb44ef7c -74.0015    6148.02  40.7418  "
      ]
     },
     "execution_count": 14,
     "metadata": {},
     "output_type": "execute_result"
    }
   ],
   "source": [
    "df2 = pd.read_sql(query, con=engine)\n",
    "df2.head(5)"
   ]
  },
  {
   "cell_type": "markdown",
   "metadata": {},
   "source": [
    "### Export Data from Database to CSV or Excel"
   ]
  },
  {
   "cell_type": "markdown",
   "metadata": {},
   "source": [
    "And remember that from Pandas it is also possible to export in other formats, such as Excel of CSV."
   ]
  },
  {
   "cell_type": "code",
   "execution_count": 15,
   "metadata": {},
   "outputs": [
    {
     "name": "stdout",
     "output_type": "stream",
     "text": [
      "\u001b[33mWARNING: The directory '/home/ubuntu/.cache/pip' or its parent directory is not owned or is not writable by the current user. The cache has been disabled. Check the permissions and owner of that directory. If executing pip with sudo, you may want sudo's -H flag.\u001b[0m\n",
      "Requirement already up-to-date: xlwt in /usr/local/lib/python3.6/dist-packages (1.3.0)\n",
      "\u001b[33mWARNING: You are using pip version 20.0.2; however, version 20.1 is available.\n",
      "You should consider upgrading via the '/usr/bin/python3 -m pip install --upgrade pip' command.\u001b[0m\n"
     ]
    }
   ],
   "source": [
    "# The necessary library to write in Excel\n",
    "# !sudo pip3 install -U xlwt"
   ]
  },
  {
   "cell_type": "code",
   "execution_count": 16,
   "metadata": {},
   "outputs": [],
   "source": [
    "df2.to_excel(\"citibike.xls\")\n",
    "df2.to_csv(\"citibike.csv\")"
   ]
  },
  {
   "cell_type": "markdown",
   "metadata": {},
   "source": [
    "### Cleanup"
   ]
  },
  {
   "cell_type": "markdown",
   "metadata": {},
   "source": [
    "Finally, let's clean up and delete the table that we created"
   ]
  },
  {
   "cell_type": "code",
   "execution_count": 17,
   "metadata": {},
   "outputs": [
    {
     "name": "stdout",
     "output_type": "stream",
     "text": [
      "DROP TABLE IF EXISTS public.Stations_0730b7fe\n"
     ]
    },
    {
     "data": {
      "text/plain": [
       "<sqlalchemy.engine.result.ResultProxy at 0x7f0bb1d84d30>"
      ]
     },
     "execution_count": 17,
     "metadata": {},
     "output_type": "execute_result"
    }
   ],
   "source": [
    "drop_table_query = f\"DROP TABLE IF EXISTS {db_name}.{table_name}\"\n",
    "print(drop_table_query)\n",
    "engine.execute(drop_table_query)"
   ]
  },
  {
   "cell_type": "markdown",
   "metadata": {},
   "source": [
    "### Exercise\n",
    "\n",
    "The `url_status = 'https://gbfs.citibikenyc.com/gbfs/en/station_status.json'` URL contains the status of the stations. Write code that reads the results from that API call, and then stores the data in a separate table. Add a \"foreign key\" constraint from the Status table to the Stations table that we created above."
   ]
  },
  {
   "cell_type": "code",
   "execution_count": null,
   "metadata": {},
   "outputs": [],
   "source": []
  }
 ],
 "metadata": {
  "kernelspec": {
   "display_name": "Python 3",
   "language": "python",
   "name": "python3"
  },
  "language_info": {
   "codemirror_mode": {
    "name": "ipython",
    "version": 3
   },
   "file_extension": ".py",
   "mimetype": "text/x-python",
   "name": "python",
   "nbconvert_exporter": "python",
   "pygments_lexer": "ipython3",
   "version": "3.8.2"
  }
 },
 "nbformat": 4,
 "nbformat_minor": 1
}
