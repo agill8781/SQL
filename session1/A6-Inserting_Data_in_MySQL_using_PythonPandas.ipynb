{
 "cells": [
  {
   "cell_type": "markdown",
   "metadata": {},
   "source": [
    "## Inserting and Reading data from MySQL using Pandas\n",
    "\n",
    "First let's start with a basic piece of code that fetches the data that we want to insert in the database. For our example, we will get the data about the Citibike stations, using the correspoding API call provided by the Citibike website:"
   ]
  },
  {
   "cell_type": "code",
   "execution_count": 1,
   "metadata": {},
   "outputs": [],
   "source": [
    "# !sudo pip3 install -U -q PyMySQL sqlalchemy sql_magic"
   ]
  },
  {
   "cell_type": "code",
   "execution_count": 2,
   "metadata": {},
   "outputs": [],
   "source": [
    "import requests"
   ]
  },
  {
   "cell_type": "code",
   "execution_count": 3,
   "metadata": {},
   "outputs": [],
   "source": [
    "# Let's get the data from the Citibike API\n",
    "\n",
    "# This gives information for each station that remains stable over time\n",
    "url_stations = \"https://gbfs.citibikenyc.com/gbfs/en/station_information.json\"\n",
    "# This gives the live status of all the stations (e.g., bikes available etc)\n",
    "url_status = \"https://gbfs.citibikenyc.com/gbfs/en/station_status.json\"\n",
    "\n",
    "# We fetch for now just the time-invariant data\n",
    "results = requests.get(url_stations).json()"
   ]
  },
  {
   "cell_type": "code",
   "execution_count": 4,
   "metadata": {},
   "outputs": [],
   "source": [
    "# We only need a subset of the data in the JSON returned by the Citibike API, so we keep only what we need\n",
    "data = results[\"data\"][\"stations\"]"
   ]
  },
  {
   "cell_type": "code",
   "execution_count": 5,
   "metadata": {},
   "outputs": [
    {
     "data": {
      "text/plain": [
       "1393"
      ]
     },
     "execution_count": 5,
     "metadata": {},
     "output_type": "execute_result"
    }
   ],
   "source": [
    "len(data)"
   ]
  },
  {
   "cell_type": "code",
   "execution_count": 6,
   "metadata": {},
   "outputs": [
    {
     "data": {
      "text/html": [
       "<div>\n",
       "<style scoped>\n",
       "    .dataframe tbody tr th:only-of-type {\n",
       "        vertical-align: middle;\n",
       "    }\n",
       "\n",
       "    .dataframe tbody tr th {\n",
       "        vertical-align: top;\n",
       "    }\n",
       "\n",
       "    .dataframe thead th {\n",
       "        text-align: right;\n",
       "    }\n",
       "</style>\n",
       "<table border=\"1\" class=\"dataframe\">\n",
       "  <thead>\n",
       "    <tr style=\"text-align: right;\">\n",
       "      <th></th>\n",
       "      <th>external_id</th>\n",
       "      <th>eightd_has_key_dispenser</th>\n",
       "      <th>capacity</th>\n",
       "      <th>short_name</th>\n",
       "      <th>name</th>\n",
       "      <th>rental_methods</th>\n",
       "      <th>lon</th>\n",
       "      <th>has_kiosk</th>\n",
       "      <th>legacy_id</th>\n",
       "      <th>station_type</th>\n",
       "      <th>rental_uris</th>\n",
       "      <th>electric_bike_surcharge_waiver</th>\n",
       "      <th>station_id</th>\n",
       "      <th>lat</th>\n",
       "      <th>region_id</th>\n",
       "      <th>eightd_station_services</th>\n",
       "    </tr>\n",
       "  </thead>\n",
       "  <tbody>\n",
       "    <tr>\n",
       "      <th>0</th>\n",
       "      <td>66db237e-0aca-11e7-82f6-3863bb44ef7c</td>\n",
       "      <td>False</td>\n",
       "      <td>55</td>\n",
       "      <td>6926.01</td>\n",
       "      <td>W 52 St &amp; 11 Ave</td>\n",
       "      <td>[CREDITCARD, KEY]</td>\n",
       "      <td>-73.993929</td>\n",
       "      <td>True</td>\n",
       "      <td>72</td>\n",
       "      <td>classic</td>\n",
       "      <td>{'android': 'https://bkn.lft.to/lastmile_qr_sc...</td>\n",
       "      <td>False</td>\n",
       "      <td>72</td>\n",
       "      <td>40.767272</td>\n",
       "      <td>71</td>\n",
       "      <td>[]</td>\n",
       "    </tr>\n",
       "    <tr>\n",
       "      <th>1</th>\n",
       "      <td>66db269c-0aca-11e7-82f6-3863bb44ef7c</td>\n",
       "      <td>False</td>\n",
       "      <td>33</td>\n",
       "      <td>5430.08</td>\n",
       "      <td>Franklin St &amp; W Broadway</td>\n",
       "      <td>[CREDITCARD, KEY]</td>\n",
       "      <td>-74.006667</td>\n",
       "      <td>True</td>\n",
       "      <td>79</td>\n",
       "      <td>classic</td>\n",
       "      <td>{'android': 'https://bkn.lft.to/lastmile_qr_sc...</td>\n",
       "      <td>False</td>\n",
       "      <td>79</td>\n",
       "      <td>40.719116</td>\n",
       "      <td>71</td>\n",
       "      <td>[]</td>\n",
       "    </tr>\n",
       "    <tr>\n",
       "      <th>2</th>\n",
       "      <td>66db277a-0aca-11e7-82f6-3863bb44ef7c</td>\n",
       "      <td>False</td>\n",
       "      <td>27</td>\n",
       "      <td>5167.06</td>\n",
       "      <td>St James Pl &amp; Pearl St</td>\n",
       "      <td>[CREDITCARD, KEY]</td>\n",
       "      <td>-74.000165</td>\n",
       "      <td>True</td>\n",
       "      <td>82</td>\n",
       "      <td>classic</td>\n",
       "      <td>{'android': 'https://bkn.lft.to/lastmile_qr_sc...</td>\n",
       "      <td>False</td>\n",
       "      <td>82</td>\n",
       "      <td>40.711174</td>\n",
       "      <td>71</td>\n",
       "      <td>[]</td>\n",
       "    </tr>\n",
       "    <tr>\n",
       "      <th>3</th>\n",
       "      <td>66db281e-0aca-11e7-82f6-3863bb44ef7c</td>\n",
       "      <td>False</td>\n",
       "      <td>62</td>\n",
       "      <td>4354.07</td>\n",
       "      <td>Atlantic Ave &amp; Fort Greene Pl</td>\n",
       "      <td>[CREDITCARD, KEY]</td>\n",
       "      <td>-73.976323</td>\n",
       "      <td>True</td>\n",
       "      <td>83</td>\n",
       "      <td>classic</td>\n",
       "      <td>{'android': 'https://bkn.lft.to/lastmile_qr_sc...</td>\n",
       "      <td>False</td>\n",
       "      <td>83</td>\n",
       "      <td>40.683826</td>\n",
       "      <td>71</td>\n",
       "      <td>[]</td>\n",
       "    </tr>\n",
       "    <tr>\n",
       "      <th>4</th>\n",
       "      <td>66db28b5-0aca-11e7-82f6-3863bb44ef7c</td>\n",
       "      <td>False</td>\n",
       "      <td>50</td>\n",
       "      <td>6148.02</td>\n",
       "      <td>W 17 St &amp; 8 Ave</td>\n",
       "      <td>[CREDITCARD, KEY]</td>\n",
       "      <td>-74.001497</td>\n",
       "      <td>True</td>\n",
       "      <td>116</td>\n",
       "      <td>classic</td>\n",
       "      <td>{'android': 'https://bkn.lft.to/lastmile_qr_sc...</td>\n",
       "      <td>False</td>\n",
       "      <td>116</td>\n",
       "      <td>40.741776</td>\n",
       "      <td>71</td>\n",
       "      <td>[]</td>\n",
       "    </tr>\n",
       "  </tbody>\n",
       "</table>\n",
       "</div>"
      ],
      "text/plain": [
       "                            external_id  eightd_has_key_dispenser  capacity  \\\n",
       "0  66db237e-0aca-11e7-82f6-3863bb44ef7c                     False        55   \n",
       "1  66db269c-0aca-11e7-82f6-3863bb44ef7c                     False        33   \n",
       "2  66db277a-0aca-11e7-82f6-3863bb44ef7c                     False        27   \n",
       "3  66db281e-0aca-11e7-82f6-3863bb44ef7c                     False        62   \n",
       "4  66db28b5-0aca-11e7-82f6-3863bb44ef7c                     False        50   \n",
       "\n",
       "  short_name                           name     rental_methods        lon  \\\n",
       "0    6926.01               W 52 St & 11 Ave  [CREDITCARD, KEY] -73.993929   \n",
       "1    5430.08       Franklin St & W Broadway  [CREDITCARD, KEY] -74.006667   \n",
       "2    5167.06         St James Pl & Pearl St  [CREDITCARD, KEY] -74.000165   \n",
       "3    4354.07  Atlantic Ave & Fort Greene Pl  [CREDITCARD, KEY] -73.976323   \n",
       "4    6148.02                W 17 St & 8 Ave  [CREDITCARD, KEY] -74.001497   \n",
       "\n",
       "   has_kiosk legacy_id station_type  \\\n",
       "0       True        72      classic   \n",
       "1       True        79      classic   \n",
       "2       True        82      classic   \n",
       "3       True        83      classic   \n",
       "4       True       116      classic   \n",
       "\n",
       "                                         rental_uris  \\\n",
       "0  {'android': 'https://bkn.lft.to/lastmile_qr_sc...   \n",
       "1  {'android': 'https://bkn.lft.to/lastmile_qr_sc...   \n",
       "2  {'android': 'https://bkn.lft.to/lastmile_qr_sc...   \n",
       "3  {'android': 'https://bkn.lft.to/lastmile_qr_sc...   \n",
       "4  {'android': 'https://bkn.lft.to/lastmile_qr_sc...   \n",
       "\n",
       "   electric_bike_surcharge_waiver station_id        lat region_id  \\\n",
       "0                           False         72  40.767272        71   \n",
       "1                           False         79  40.719116        71   \n",
       "2                           False         82  40.711174        71   \n",
       "3                           False         83  40.683826        71   \n",
       "4                           False        116  40.741776        71   \n",
       "\n",
       "  eightd_station_services  \n",
       "0                      []  \n",
       "1                      []  \n",
       "2                      []  \n",
       "3                      []  \n",
       "4                      []  "
      ]
     },
     "execution_count": 6,
     "metadata": {},
     "output_type": "execute_result"
    }
   ],
   "source": [
    "import pandas as pd\n",
    "\n",
    "df = pd.DataFrame(data)\n",
    "df.head(5)"
   ]
  },
  {
   "cell_type": "code",
   "execution_count": 7,
   "metadata": {},
   "outputs": [
    {
     "data": {
      "text/html": [
       "<div>\n",
       "<style scoped>\n",
       "    .dataframe tbody tr th:only-of-type {\n",
       "        vertical-align: middle;\n",
       "    }\n",
       "\n",
       "    .dataframe tbody tr th {\n",
       "        vertical-align: top;\n",
       "    }\n",
       "\n",
       "    .dataframe thead th {\n",
       "        text-align: right;\n",
       "    }\n",
       "</style>\n",
       "<table border=\"1\" class=\"dataframe\">\n",
       "  <thead>\n",
       "    <tr style=\"text-align: right;\">\n",
       "      <th></th>\n",
       "      <th>external_id</th>\n",
       "      <th>eightd_has_key_dispenser</th>\n",
       "      <th>capacity</th>\n",
       "      <th>short_name</th>\n",
       "      <th>name</th>\n",
       "      <th>lon</th>\n",
       "      <th>has_kiosk</th>\n",
       "      <th>legacy_id</th>\n",
       "      <th>station_type</th>\n",
       "      <th>electric_bike_surcharge_waiver</th>\n",
       "      <th>station_id</th>\n",
       "      <th>lat</th>\n",
       "      <th>region_id</th>\n",
       "    </tr>\n",
       "  </thead>\n",
       "  <tbody>\n",
       "    <tr>\n",
       "      <th>0</th>\n",
       "      <td>66db237e-0aca-11e7-82f6-3863bb44ef7c</td>\n",
       "      <td>False</td>\n",
       "      <td>55</td>\n",
       "      <td>6926.01</td>\n",
       "      <td>W 52 St &amp; 11 Ave</td>\n",
       "      <td>-73.993929</td>\n",
       "      <td>True</td>\n",
       "      <td>72</td>\n",
       "      <td>classic</td>\n",
       "      <td>False</td>\n",
       "      <td>72</td>\n",
       "      <td>40.767272</td>\n",
       "      <td>71</td>\n",
       "    </tr>\n",
       "    <tr>\n",
       "      <th>1</th>\n",
       "      <td>66db269c-0aca-11e7-82f6-3863bb44ef7c</td>\n",
       "      <td>False</td>\n",
       "      <td>33</td>\n",
       "      <td>5430.08</td>\n",
       "      <td>Franklin St &amp; W Broadway</td>\n",
       "      <td>-74.006667</td>\n",
       "      <td>True</td>\n",
       "      <td>79</td>\n",
       "      <td>classic</td>\n",
       "      <td>False</td>\n",
       "      <td>79</td>\n",
       "      <td>40.719116</td>\n",
       "      <td>71</td>\n",
       "    </tr>\n",
       "    <tr>\n",
       "      <th>2</th>\n",
       "      <td>66db277a-0aca-11e7-82f6-3863bb44ef7c</td>\n",
       "      <td>False</td>\n",
       "      <td>27</td>\n",
       "      <td>5167.06</td>\n",
       "      <td>St James Pl &amp; Pearl St</td>\n",
       "      <td>-74.000165</td>\n",
       "      <td>True</td>\n",
       "      <td>82</td>\n",
       "      <td>classic</td>\n",
       "      <td>False</td>\n",
       "      <td>82</td>\n",
       "      <td>40.711174</td>\n",
       "      <td>71</td>\n",
       "    </tr>\n",
       "    <tr>\n",
       "      <th>3</th>\n",
       "      <td>66db281e-0aca-11e7-82f6-3863bb44ef7c</td>\n",
       "      <td>False</td>\n",
       "      <td>62</td>\n",
       "      <td>4354.07</td>\n",
       "      <td>Atlantic Ave &amp; Fort Greene Pl</td>\n",
       "      <td>-73.976323</td>\n",
       "      <td>True</td>\n",
       "      <td>83</td>\n",
       "      <td>classic</td>\n",
       "      <td>False</td>\n",
       "      <td>83</td>\n",
       "      <td>40.683826</td>\n",
       "      <td>71</td>\n",
       "    </tr>\n",
       "    <tr>\n",
       "      <th>4</th>\n",
       "      <td>66db28b5-0aca-11e7-82f6-3863bb44ef7c</td>\n",
       "      <td>False</td>\n",
       "      <td>50</td>\n",
       "      <td>6148.02</td>\n",
       "      <td>W 17 St &amp; 8 Ave</td>\n",
       "      <td>-74.001497</td>\n",
       "      <td>True</td>\n",
       "      <td>116</td>\n",
       "      <td>classic</td>\n",
       "      <td>False</td>\n",
       "      <td>116</td>\n",
       "      <td>40.741776</td>\n",
       "      <td>71</td>\n",
       "    </tr>\n",
       "  </tbody>\n",
       "</table>\n",
       "</div>"
      ],
      "text/plain": [
       "                            external_id  eightd_has_key_dispenser  capacity  \\\n",
       "0  66db237e-0aca-11e7-82f6-3863bb44ef7c                     False        55   \n",
       "1  66db269c-0aca-11e7-82f6-3863bb44ef7c                     False        33   \n",
       "2  66db277a-0aca-11e7-82f6-3863bb44ef7c                     False        27   \n",
       "3  66db281e-0aca-11e7-82f6-3863bb44ef7c                     False        62   \n",
       "4  66db28b5-0aca-11e7-82f6-3863bb44ef7c                     False        50   \n",
       "\n",
       "  short_name                           name        lon  has_kiosk legacy_id  \\\n",
       "0    6926.01               W 52 St & 11 Ave -73.993929       True        72   \n",
       "1    5430.08       Franklin St & W Broadway -74.006667       True        79   \n",
       "2    5167.06         St James Pl & Pearl St -74.000165       True        82   \n",
       "3    4354.07  Atlantic Ave & Fort Greene Pl -73.976323       True        83   \n",
       "4    6148.02                W 17 St & 8 Ave -74.001497       True       116   \n",
       "\n",
       "  station_type  electric_bike_surcharge_waiver station_id        lat region_id  \n",
       "0      classic                           False         72  40.767272        71  \n",
       "1      classic                           False         79  40.719116        71  \n",
       "2      classic                           False         82  40.711174        71  \n",
       "3      classic                           False         83  40.683826        71  \n",
       "4      classic                           False        116  40.741776        71  "
      ]
     },
     "execution_count": 7,
     "metadata": {},
     "output_type": "execute_result"
    }
   ],
   "source": [
    "# We drop the 'rental methods' columns,\n",
    "# as they contains multiple values and\n",
    "# we cannot insert lists in a database cell.\n",
    "df.drop(\n",
    "    [\"rental_methods\", \"eightd_station_services\", \"rental_uris\"],\n",
    "    axis=\"columns\",\n",
    "    inplace=True,\n",
    ")\n",
    "df.head(5)"
   ]
  },
  {
   "cell_type": "markdown",
   "metadata": {},
   "source": [
    "### Writing a Pandas Dataframe in a MySQL Table"
   ]
  },
  {
   "cell_type": "code",
   "execution_count": 8,
   "metadata": {},
   "outputs": [],
   "source": [
    "import sqlalchemy\n",
    "from sqlalchemy import create_engine\n",
    "\n",
    "conn_string = \"mysql+pymysql://{user}:{password}@{host}/\".format(\n",
    "    host=\"db.ipeirotis.org\", user=\"student\", password=\"dwdstudent2015\"\n",
    ")\n",
    "\n",
    "engine = create_engine(conn_string)"
   ]
  },
  {
   "cell_type": "markdown",
   "metadata": {},
   "source": [
    "Once we have connected successfully, we need to create our database:"
   ]
  },
  {
   "cell_type": "code",
   "execution_count": 9,
   "metadata": {},
   "outputs": [
    {
     "data": {
      "text/plain": [
       "<sqlalchemy.engine.cursor.LegacyCursorResult at 0x7fde5a50c190>"
      ]
     },
     "execution_count": 9,
     "metadata": {},
     "output_type": "execute_result"
    }
   ],
   "source": [
    "# Query to create a database\n",
    "# In this example, we will try to create the (existing) database \"public\"\n",
    "# But in general, we can give any name to the database\n",
    "db_name = \"public\"\n",
    "create_db_query = (\n",
    "    f\"CREATE DATABASE IF NOT EXISTS {db_name} DEFAULT CHARACTER SET 'utf8'\"\n",
    ")\n",
    "\n",
    "# Create a database\n",
    "engine.execute(create_db_query)\n",
    "\n",
    "# And lets switch to the database\n",
    "engine.execute(f\"USE {db_name}\")"
   ]
  },
  {
   "cell_type": "code",
   "execution_count": 10,
   "metadata": {},
   "outputs": [
    {
     "name": "stdout",
     "output_type": "stream",
     "text": [
      "c519975f\n"
     ]
    }
   ],
   "source": [
    "# To avoid conflicts between people writing in the same database, we add a random suffix in the tables\n",
    "# We only create the variable once while running the notebook\n",
    "import uuid\n",
    "\n",
    "if \"suffix\" not in globals():\n",
    "    suffix = str(uuid.uuid4())[:8]\n",
    "print(suffix)"
   ]
  },
  {
   "cell_type": "markdown",
   "metadata": {},
   "source": [
    "### Create Table and Store Data in Database using the `to_sql` command"
   ]
  },
  {
   "cell_type": "markdown",
   "metadata": {},
   "source": [
    "Then we create the table where we will store our data. Since we already have the data in a Pandas DataFrame, it is very easy to put the data in a database."
   ]
  },
  {
   "cell_type": "code",
   "execution_count": 11,
   "metadata": {},
   "outputs": [],
   "source": [
    "table_name = f\"Stations_{suffix}\"\n",
    "# Create a table\n",
    "# See http://pandas.pydata.org/pandas-docs/stable/generated/pandas.DataFrame.to_sql.html for the documentation\n",
    "\n",
    "# This step is optional, but it is good practice to define explicitly the\n",
    "# data types before storing things in a database. In many cases, this can be ommitted, though.\n",
    "\n",
    "dtype = {\n",
    "    \"station_id\": sqlalchemy.types.SMALLINT(),\n",
    "    \"external_id\": sqlalchemy.types.VARCHAR(50),\n",
    "    \"name\": sqlalchemy.types.VARCHAR(60),\n",
    "    \"short_name\": sqlalchemy.types.VARCHAR(10),\n",
    "    \"lat\": sqlalchemy.types.Float,\n",
    "    \"lon\": sqlalchemy.types.Float,\n",
    "    \"region_id\": sqlalchemy.types.VARCHAR(5),\n",
    "    \"capacity\": sqlalchemy.types.SMALLINT(),\n",
    "    \"rental_url\": sqlalchemy.types.VARCHAR(100),\n",
    "    \"electric_bike_surcharge_waiver\": sqlalchemy.types.BOOLEAN,\n",
    "    \"eightd_has_key_dispenser\": sqlalchemy.types.BOOLEAN,\n",
    "    \"has_kiosk\": sqlalchemy.types.BOOLEAN,\n",
    "}\n",
    "\n",
    "\n",
    "df.to_sql(\n",
    "    name=table_name,\n",
    "    schema=db_name,\n",
    "    con=engine,\n",
    "    if_exists=\"replace\",\n",
    "    index=False,\n",
    "    dtype=dtype,\n",
    ")"
   ]
  },
  {
   "cell_type": "code",
   "execution_count": 12,
   "metadata": {},
   "outputs": [
    {
     "name": "stdout",
     "output_type": "stream",
     "text": [
      "ALTER TABLE Stations_c519975f ADD PRIMARY KEY(station_id)\n"
     ]
    },
    {
     "data": {
      "text/plain": [
       "<sqlalchemy.engine.cursor.LegacyCursorResult at 0x7fde5a4f9e50>"
      ]
     },
     "execution_count": 12,
     "metadata": {},
     "output_type": "execute_result"
    }
   ],
   "source": [
    "# Once we have the data in the table, we also specify a primary key\n",
    "# If we had FOREIGN KEYS we can add them in the same way\n",
    "add_key_query = f\"ALTER TABLE {table_name} ADD PRIMARY KEY(station_id)\"\n",
    "print(add_key_query)\n",
    "engine.execute(add_key_query)"
   ]
  },
  {
   "cell_type": "markdown",
   "metadata": {},
   "source": [
    "### Reading from a SQL Database in Python using the `read_sql` command in Pandas"
   ]
  },
  {
   "cell_type": "markdown",
   "metadata": {},
   "source": [
    "We can similarly read from the database using Pandas"
   ]
  },
  {
   "cell_type": "code",
   "execution_count": 13,
   "metadata": {},
   "outputs": [
    {
     "name": "stdout",
     "output_type": "stream",
     "text": [
      "SELECT * FROM public.Stations_c519975f\n"
     ]
    }
   ],
   "source": [
    "query = f\"SELECT * FROM {db_name}.{table_name}\"\n",
    "print(query)"
   ]
  },
  {
   "cell_type": "code",
   "execution_count": 14,
   "metadata": {},
   "outputs": [
    {
     "data": {
      "text/html": [
       "<div>\n",
       "<style scoped>\n",
       "    .dataframe tbody tr th:only-of-type {\n",
       "        vertical-align: middle;\n",
       "    }\n",
       "\n",
       "    .dataframe tbody tr th {\n",
       "        vertical-align: top;\n",
       "    }\n",
       "\n",
       "    .dataframe thead th {\n",
       "        text-align: right;\n",
       "    }\n",
       "</style>\n",
       "<table border=\"1\" class=\"dataframe\">\n",
       "  <thead>\n",
       "    <tr style=\"text-align: right;\">\n",
       "      <th></th>\n",
       "      <th>external_id</th>\n",
       "      <th>eightd_has_key_dispenser</th>\n",
       "      <th>capacity</th>\n",
       "      <th>short_name</th>\n",
       "      <th>name</th>\n",
       "      <th>lon</th>\n",
       "      <th>has_kiosk</th>\n",
       "      <th>legacy_id</th>\n",
       "      <th>station_type</th>\n",
       "      <th>electric_bike_surcharge_waiver</th>\n",
       "      <th>station_id</th>\n",
       "      <th>lat</th>\n",
       "      <th>region_id</th>\n",
       "    </tr>\n",
       "  </thead>\n",
       "  <tbody>\n",
       "    <tr>\n",
       "      <th>0</th>\n",
       "      <td>66db237e-0aca-11e7-82f6-3863bb44ef7c</td>\n",
       "      <td>0</td>\n",
       "      <td>55</td>\n",
       "      <td>6926.01</td>\n",
       "      <td>W 52 St &amp; 11 Ave</td>\n",
       "      <td>-73.9939</td>\n",
       "      <td>1</td>\n",
       "      <td>72</td>\n",
       "      <td>classic</td>\n",
       "      <td>0</td>\n",
       "      <td>72</td>\n",
       "      <td>40.7673</td>\n",
       "      <td>71</td>\n",
       "    </tr>\n",
       "    <tr>\n",
       "      <th>1</th>\n",
       "      <td>66db269c-0aca-11e7-82f6-3863bb44ef7c</td>\n",
       "      <td>0</td>\n",
       "      <td>33</td>\n",
       "      <td>5430.08</td>\n",
       "      <td>Franklin St &amp; W Broadway</td>\n",
       "      <td>-74.0067</td>\n",
       "      <td>1</td>\n",
       "      <td>79</td>\n",
       "      <td>classic</td>\n",
       "      <td>0</td>\n",
       "      <td>79</td>\n",
       "      <td>40.7191</td>\n",
       "      <td>71</td>\n",
       "    </tr>\n",
       "    <tr>\n",
       "      <th>2</th>\n",
       "      <td>66db277a-0aca-11e7-82f6-3863bb44ef7c</td>\n",
       "      <td>0</td>\n",
       "      <td>27</td>\n",
       "      <td>5167.06</td>\n",
       "      <td>St James Pl &amp; Pearl St</td>\n",
       "      <td>-74.0002</td>\n",
       "      <td>1</td>\n",
       "      <td>82</td>\n",
       "      <td>classic</td>\n",
       "      <td>0</td>\n",
       "      <td>82</td>\n",
       "      <td>40.7112</td>\n",
       "      <td>71</td>\n",
       "    </tr>\n",
       "    <tr>\n",
       "      <th>3</th>\n",
       "      <td>66db281e-0aca-11e7-82f6-3863bb44ef7c</td>\n",
       "      <td>0</td>\n",
       "      <td>62</td>\n",
       "      <td>4354.07</td>\n",
       "      <td>Atlantic Ave &amp; Fort Greene Pl</td>\n",
       "      <td>-73.9763</td>\n",
       "      <td>1</td>\n",
       "      <td>83</td>\n",
       "      <td>classic</td>\n",
       "      <td>0</td>\n",
       "      <td>83</td>\n",
       "      <td>40.6838</td>\n",
       "      <td>71</td>\n",
       "    </tr>\n",
       "    <tr>\n",
       "      <th>4</th>\n",
       "      <td>66db28b5-0aca-11e7-82f6-3863bb44ef7c</td>\n",
       "      <td>0</td>\n",
       "      <td>50</td>\n",
       "      <td>6148.02</td>\n",
       "      <td>W 17 St &amp; 8 Ave</td>\n",
       "      <td>-74.0015</td>\n",
       "      <td>1</td>\n",
       "      <td>116</td>\n",
       "      <td>classic</td>\n",
       "      <td>0</td>\n",
       "      <td>116</td>\n",
       "      <td>40.7418</td>\n",
       "      <td>71</td>\n",
       "    </tr>\n",
       "  </tbody>\n",
       "</table>\n",
       "</div>"
      ],
      "text/plain": [
       "                            external_id  eightd_has_key_dispenser  capacity  \\\n",
       "0  66db237e-0aca-11e7-82f6-3863bb44ef7c                         0        55   \n",
       "1  66db269c-0aca-11e7-82f6-3863bb44ef7c                         0        33   \n",
       "2  66db277a-0aca-11e7-82f6-3863bb44ef7c                         0        27   \n",
       "3  66db281e-0aca-11e7-82f6-3863bb44ef7c                         0        62   \n",
       "4  66db28b5-0aca-11e7-82f6-3863bb44ef7c                         0        50   \n",
       "\n",
       "  short_name                           name      lon  has_kiosk legacy_id  \\\n",
       "0    6926.01               W 52 St & 11 Ave -73.9939          1        72   \n",
       "1    5430.08       Franklin St & W Broadway -74.0067          1        79   \n",
       "2    5167.06         St James Pl & Pearl St -74.0002          1        82   \n",
       "3    4354.07  Atlantic Ave & Fort Greene Pl -73.9763          1        83   \n",
       "4    6148.02                W 17 St & 8 Ave -74.0015          1       116   \n",
       "\n",
       "  station_type  electric_bike_surcharge_waiver  station_id      lat region_id  \n",
       "0      classic                               0          72  40.7673        71  \n",
       "1      classic                               0          79  40.7191        71  \n",
       "2      classic                               0          82  40.7112        71  \n",
       "3      classic                               0          83  40.6838        71  \n",
       "4      classic                               0         116  40.7418        71  "
      ]
     },
     "execution_count": 14,
     "metadata": {},
     "output_type": "execute_result"
    }
   ],
   "source": [
    "df2 = pd.read_sql(query, con=engine)\n",
    "df2.head(5)"
   ]
  },
  {
   "cell_type": "markdown",
   "metadata": {},
   "source": [
    "### Export Data from Database to CSV or Excel"
   ]
  },
  {
   "cell_type": "markdown",
   "metadata": {},
   "source": [
    "And remember that from Pandas it is also possible to export in other formats, such as Excel of CSV."
   ]
  },
  {
   "cell_type": "code",
   "execution_count": 15,
   "metadata": {},
   "outputs": [],
   "source": [
    "# The necessary library to write in Excel\n",
    "# !sudo pip3 install -U xlwt"
   ]
  },
  {
   "cell_type": "code",
   "execution_count": 16,
   "metadata": {},
   "outputs": [
    {
     "ename": "ModuleNotFoundError",
     "evalue": "No module named 'xlwt'",
     "output_type": "error",
     "traceback": [
      "\u001b[0;31m\u001b[0m",
      "\u001b[0;31mModuleNotFoundError\u001b[0mTraceback (most recent call last)",
      "\u001b[0;32m<ipython-input-16-2f0d596a2185>\u001b[0m in \u001b[0;36m<module>\u001b[0;34m\u001b[0m\n\u001b[0;32m----> 1\u001b[0;31m \u001b[0mdf2\u001b[0m\u001b[0;34m.\u001b[0m\u001b[0mto_excel\u001b[0m\u001b[0;34m(\u001b[0m\u001b[0;34m\"citibike.xls\"\u001b[0m\u001b[0;34m)\u001b[0m\u001b[0;34m\u001b[0m\u001b[0;34m\u001b[0m\u001b[0m\n\u001b[0m\u001b[1;32m      2\u001b[0m \u001b[0mdf2\u001b[0m\u001b[0;34m.\u001b[0m\u001b[0mto_csv\u001b[0m\u001b[0;34m(\u001b[0m\u001b[0;34m\"citibike.csv\"\u001b[0m\u001b[0;34m)\u001b[0m\u001b[0;34m\u001b[0m\u001b[0;34m\u001b[0m\u001b[0m\n",
      "\u001b[0;32m/usr/local/lib/python3.8/dist-packages/pandas/core/generic.py\u001b[0m in \u001b[0;36mto_excel\u001b[0;34m(self, excel_writer, sheet_name, na_rep, float_format, columns, header, index, index_label, startrow, startcol, engine, merge_cells, encoding, inf_rep, verbose, freeze_panes)\u001b[0m\n\u001b[1;32m   2021\u001b[0m             \u001b[0minf_rep\u001b[0m\u001b[0;34m=\u001b[0m\u001b[0minf_rep\u001b[0m\u001b[0;34m,\u001b[0m\u001b[0;34m\u001b[0m\u001b[0;34m\u001b[0m\u001b[0m\n\u001b[1;32m   2022\u001b[0m         )\n\u001b[0;32m-> 2023\u001b[0;31m         formatter.write(\n\u001b[0m\u001b[1;32m   2024\u001b[0m             \u001b[0mexcel_writer\u001b[0m\u001b[0;34m,\u001b[0m\u001b[0;34m\u001b[0m\u001b[0;34m\u001b[0m\u001b[0m\n\u001b[1;32m   2025\u001b[0m             \u001b[0msheet_name\u001b[0m\u001b[0;34m=\u001b[0m\u001b[0msheet_name\u001b[0m\u001b[0;34m,\u001b[0m\u001b[0;34m\u001b[0m\u001b[0;34m\u001b[0m\u001b[0m\n",
      "\u001b[0;32m/usr/local/lib/python3.8/dist-packages/pandas/io/formats/excel.py\u001b[0m in \u001b[0;36mwrite\u001b[0;34m(self, writer, sheet_name, startrow, startcol, freeze_panes, engine)\u001b[0m\n\u001b[1;32m    728\u001b[0m             \u001b[0mneed_save\u001b[0m \u001b[0;34m=\u001b[0m \u001b[0;32mFalse\u001b[0m\u001b[0;34m\u001b[0m\u001b[0;34m\u001b[0m\u001b[0m\n\u001b[1;32m    729\u001b[0m         \u001b[0;32melse\u001b[0m\u001b[0;34m:\u001b[0m\u001b[0;34m\u001b[0m\u001b[0;34m\u001b[0m\u001b[0m\n\u001b[0;32m--> 730\u001b[0;31m             \u001b[0mwriter\u001b[0m \u001b[0;34m=\u001b[0m \u001b[0mExcelWriter\u001b[0m\u001b[0;34m(\u001b[0m\u001b[0mstringify_path\u001b[0m\u001b[0;34m(\u001b[0m\u001b[0mwriter\u001b[0m\u001b[0;34m)\u001b[0m\u001b[0;34m,\u001b[0m \u001b[0mengine\u001b[0m\u001b[0;34m=\u001b[0m\u001b[0mengine\u001b[0m\u001b[0;34m)\u001b[0m\u001b[0;34m\u001b[0m\u001b[0;34m\u001b[0m\u001b[0m\n\u001b[0m\u001b[1;32m    731\u001b[0m             \u001b[0mneed_save\u001b[0m \u001b[0;34m=\u001b[0m \u001b[0;32mTrue\u001b[0m\u001b[0;34m\u001b[0m\u001b[0;34m\u001b[0m\u001b[0m\n\u001b[1;32m    732\u001b[0m \u001b[0;34m\u001b[0m\u001b[0m\n",
      "\u001b[0;32m/usr/local/lib/python3.8/dist-packages/pandas/io/excel/_xlwt.py\u001b[0m in \u001b[0;36m__init__\u001b[0;34m(self, path, engine, encoding, mode, **engine_kwargs)\u001b[0m\n\u001b[1;32m     11\u001b[0m     \u001b[0;32mdef\u001b[0m \u001b[0m__init__\u001b[0m\u001b[0;34m(\u001b[0m\u001b[0mself\u001b[0m\u001b[0;34m,\u001b[0m \u001b[0mpath\u001b[0m\u001b[0;34m,\u001b[0m \u001b[0mengine\u001b[0m\u001b[0;34m=\u001b[0m\u001b[0;32mNone\u001b[0m\u001b[0;34m,\u001b[0m \u001b[0mencoding\u001b[0m\u001b[0;34m=\u001b[0m\u001b[0;32mNone\u001b[0m\u001b[0;34m,\u001b[0m \u001b[0mmode\u001b[0m\u001b[0;34m=\u001b[0m\u001b[0;34m\"w\"\u001b[0m\u001b[0;34m,\u001b[0m \u001b[0;34m**\u001b[0m\u001b[0mengine_kwargs\u001b[0m\u001b[0;34m)\u001b[0m\u001b[0;34m:\u001b[0m\u001b[0;34m\u001b[0m\u001b[0;34m\u001b[0m\u001b[0m\n\u001b[1;32m     12\u001b[0m         \u001b[0;31m# Use the xlwt module as the Excel writer.\u001b[0m\u001b[0;34m\u001b[0m\u001b[0;34m\u001b[0m\u001b[0;34m\u001b[0m\u001b[0m\n\u001b[0;32m---> 13\u001b[0;31m         \u001b[0;32mimport\u001b[0m \u001b[0mxlwt\u001b[0m\u001b[0;34m\u001b[0m\u001b[0;34m\u001b[0m\u001b[0m\n\u001b[0m\u001b[1;32m     14\u001b[0m \u001b[0;34m\u001b[0m\u001b[0m\n\u001b[1;32m     15\u001b[0m         \u001b[0mengine_kwargs\u001b[0m\u001b[0;34m[\u001b[0m\u001b[0;34m\"engine\"\u001b[0m\u001b[0;34m]\u001b[0m \u001b[0;34m=\u001b[0m \u001b[0mengine\u001b[0m\u001b[0;34m\u001b[0m\u001b[0;34m\u001b[0m\u001b[0m\n",
      "\u001b[0;31mModuleNotFoundError\u001b[0m: No module named 'xlwt'"
     ]
    }
   ],
   "source": [
    "df2.to_excel(\"citibike.xls\")\n",
    "df2.to_csv(\"citibike.csv\")"
   ]
  },
  {
   "cell_type": "markdown",
   "metadata": {},
   "source": [
    "### Cleanup"
   ]
  },
  {
   "cell_type": "markdown",
   "metadata": {},
   "source": [
    "Finally, let's clean up and delete the table that we created"
   ]
  },
  {
   "cell_type": "code",
   "execution_count": null,
   "metadata": {},
   "outputs": [],
   "source": [
    "drop_table_query = f\"DROP TABLE IF EXISTS {db_name}.{table_name}\"\n",
    "print(drop_table_query)\n",
    "engine.execute(drop_table_query)"
   ]
  },
  {
   "cell_type": "markdown",
   "metadata": {},
   "source": [
    "### Exercise\n",
    "\n",
    "The `url_status = 'https://gbfs.citibikenyc.com/gbfs/en/station_status.json'` URL contains the status of the stations. Write code that reads the results from that API call, and then stores the data in a separate table. Add a \"foreign key\" constraint from the Status table to the Stations table that we created above."
   ]
  },
  {
   "cell_type": "code",
   "execution_count": null,
   "metadata": {},
   "outputs": [],
   "source": []
  }
 ],
 "metadata": {
  "kernelspec": {
   "display_name": "Python 3",
   "language": "python",
   "name": "python3"
  },
  "language_info": {
   "codemirror_mode": {
    "name": "ipython",
    "version": 3
   },
   "file_extension": ".py",
   "mimetype": "text/x-python",
   "name": "python",
   "nbconvert_exporter": "python",
   "pygments_lexer": "ipython3",
   "version": "3.8.2"
  }
 },
 "nbformat": 4,
 "nbformat_minor": 1
}
